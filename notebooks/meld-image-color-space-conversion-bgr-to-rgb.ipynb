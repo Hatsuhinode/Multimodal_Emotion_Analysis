{
 "cells": [
  {
   "cell_type": "markdown",
   "id": "3caf5894",
   "metadata": {
    "papermill": {
     "duration": 0.002843,
     "end_time": "2025-05-26T20:37:46.511278",
     "exception": false,
     "start_time": "2025-05-26T20:37:46.508435",
     "status": "completed"
    },
    "tags": []
   },
   "source": [
    "# Recursive Path Replacement in JSON Checkpoint File"
   ]
  },
  {
   "cell_type": "code",
   "execution_count": 1,
   "id": "7ab80207",
   "metadata": {
    "execution": {
     "iopub.execute_input": "2025-05-26T20:37:46.517434Z",
     "iopub.status.busy": "2025-05-26T20:37:46.516595Z",
     "iopub.status.idle": "2025-05-26T20:37:46.521693Z",
     "shell.execute_reply": "2025-05-26T20:37:46.520609Z"
    },
    "papermill": {
     "duration": 0.009762,
     "end_time": "2025-05-26T20:37:46.523254",
     "exception": false,
     "start_time": "2025-05-26T20:37:46.513492",
     "status": "completed"
    },
    "tags": []
   },
   "outputs": [],
   "source": [
    "# Changing '/kaggle/working/preprocessed_frames/train/0_3' to '/kaggle/input/preprocessed_frames/train/0_3' in extraction_checkpoint['metadata']"
   ]
  },
  {
   "cell_type": "code",
   "execution_count": 2,
   "id": "3b65719c",
   "metadata": {
    "execution": {
     "iopub.execute_input": "2025-05-26T20:37:46.528621Z",
     "iopub.status.busy": "2025-05-26T20:37:46.528292Z",
     "iopub.status.idle": "2025-05-26T20:37:46.536474Z",
     "shell.execute_reply": "2025-05-26T20:37:46.535577Z"
    },
    "papermill": {
     "duration": 0.012794,
     "end_time": "2025-05-26T20:37:46.538264",
     "exception": false,
     "start_time": "2025-05-26T20:37:46.525470",
     "status": "completed"
    },
    "tags": []
   },
   "outputs": [],
   "source": [
    "def update_paths_recursive(obj, old_path, new_path):\n",
    "    if isinstance(obj, dict):\n",
    "        return {k: update_paths_recursive(v, old_path, new_path) for k, v in obj.items()}\n",
    "    elif isinstance(obj, list):\n",
    "        return [update_paths_recursive(i, old_path, new_path) for i in obj]\n",
    "    elif isinstance(obj, str):\n",
    "        return obj.replace(old_path, new_path)\n",
    "    else:\n",
    "        return obj"
   ]
  },
  {
   "cell_type": "code",
   "execution_count": 3,
   "id": "2105df2f",
   "metadata": {
    "execution": {
     "iopub.execute_input": "2025-05-26T20:37:46.543525Z",
     "iopub.status.busy": "2025-05-26T20:37:46.543215Z",
     "iopub.status.idle": "2025-05-26T20:37:47.202342Z",
     "shell.execute_reply": "2025-05-26T20:37:47.201287Z"
    },
    "papermill": {
     "duration": 0.663769,
     "end_time": "2025-05-26T20:37:47.204249",
     "exception": false,
     "start_time": "2025-05-26T20:37:46.540480",
     "status": "completed"
    },
    "tags": []
   },
   "outputs": [],
   "source": [
    "import json\n",
    "\n",
    "# Load the original JSON\n",
    "with open('/kaggle/input/meld-extracted-video-frames/extraction_checkpoint.json', 'r') as file:\n",
    "    data = json.load(file)\n",
    "\n",
    "# Replace all \"/kaggle/working\" with \"/kaggle/input\"\n",
    "updated_data = update_paths_recursive(data, \"/kaggle/working\", \"/kaggle/input/meld-extracted-video-frames\")\n",
    "\n",
    "# Optional: Save to file\n",
    "with open('/kaggle/working/extraction_checkpoint_updated.json', 'w') as file:\n",
    "    json.dump(updated_data, file, indent=2)"
   ]
  },
  {
   "cell_type": "markdown",
   "id": "190cf866",
   "metadata": {
    "papermill": {
     "duration": 0.00166,
     "end_time": "2025-05-26T20:37:47.208143",
     "exception": false,
     "start_time": "2025-05-26T20:37:47.206483",
     "status": "completed"
    },
    "tags": []
   },
   "source": [
    "---"
   ]
  },
  {
   "cell_type": "markdown",
   "id": "8f026f03",
   "metadata": {
    "papermill": {
     "duration": 0.001589,
     "end_time": "2025-05-26T20:37:47.211475",
     "exception": false,
     "start_time": "2025-05-26T20:37:47.209886",
     "status": "completed"
    },
    "tags": []
   },
   "source": [
    "# Convert Video Frame Images from BGR to RGB Using OpenCV"
   ]
  },
  {
   "cell_type": "code",
   "execution_count": 4,
   "id": "05137d66",
   "metadata": {
    "execution": {
     "iopub.execute_input": "2025-05-26T20:37:47.216149Z",
     "iopub.status.busy": "2025-05-26T20:37:47.215840Z",
     "iopub.status.idle": "2025-05-26T21:37:24.285000Z",
     "shell.execute_reply": "2025-05-26T21:37:24.283464Z"
    },
    "papermill": {
     "duration": 3577.073893,
     "end_time": "2025-05-26T21:37:24.287032",
     "exception": false,
     "start_time": "2025-05-26T20:37:47.213139",
     "status": "completed"
    },
    "tags": []
   },
   "outputs": [
    {
     "name": "stderr",
     "output_type": "stream",
     "text": [
      "Converting Images: 100%|██████████| 438592/438592 [51:03<00:00, 143.18it/s]"
     ]
    },
    {
     "name": "stdout",
     "output_type": "stream",
     "text": [
      "Processing complete!\n"
     ]
    },
    {
     "name": "stderr",
     "output_type": "stream",
     "text": [
      "\n"
     ]
    }
   ],
   "source": [
    "import os\n",
    "import cv2\n",
    "from tqdm import tqdm\n",
    "\n",
    "# Define input and output base directories\n",
    "input_base = '/kaggle/input/meld-extracted-video-frames/preprocessed_frames'\n",
    "output_base = '/kaggle/working/preprocessed_frames'\n",
    "\n",
    "# Collect all JPG file paths\n",
    "jpg_files = []\n",
    "for root, dirs, files in os.walk(input_base):\n",
    "    for file in files:\n",
    "        if file.lower().endswith('.jpg'):\n",
    "            jpg_files.append(os.path.join(root, file))\n",
    "\n",
    "# Process each file with progress indication\n",
    "for input_path in tqdm(jpg_files, desc=\"Converting Images\"):\n",
    "    # Generate the corresponding output path\n",
    "    relative_path = os.path.relpath(input_path, input_base)\n",
    "    output_path = os.path.join(output_base, relative_path)\n",
    "    \n",
    "    # Ensure output directory exists\n",
    "    os.makedirs(os.path.dirname(output_path), exist_ok=True)\n",
    "    \n",
    "    # Read image using OpenCV (BGR format)\n",
    "    bgr_frame = cv2.imread(input_path)\n",
    "    \n",
    "    if bgr_frame is not None:\n",
    "        # Convert BGR to RGB by reversing channels\n",
    "        rgb_frame = bgr_frame[..., ::-1]\n",
    "        \n",
    "        # Save the converted image (OpenCV will write it as BGR, but the conversion makes it correct for RGB viewers)\n",
    "        cv2.imwrite(output_path, rgb_frame)\n",
    "    else:\n",
    "        print(f\"Error: Could not read image {input_path}\")\n",
    "\n",
    "print(\"Processing complete!\")"
   ]
  }
 ],
 "metadata": {
  "kaggle": {
   "accelerator": "none",
   "dataSources": [
    {
     "datasetId": 7347842,
     "sourceId": 11706314,
     "sourceType": "datasetVersion"
    }
   ],
   "dockerImageVersionId": 31040,
   "isGpuEnabled": false,
   "isInternetEnabled": true,
   "language": "python",
   "sourceType": "notebook"
  },
  "kernelspec": {
   "display_name": "Python 3",
   "language": "python",
   "name": "python3"
  },
  "language_info": {
   "codemirror_mode": {
    "name": "ipython",
    "version": 3
   },
   "file_extension": ".py",
   "mimetype": "text/x-python",
   "name": "python",
   "nbconvert_exporter": "python",
   "pygments_lexer": "ipython3",
   "version": "3.11.11"
  },
  "papermill": {
   "default_parameters": {},
   "duration": 3584.802195,
   "end_time": "2025-05-26T21:37:26.383613",
   "environment_variables": {},
   "exception": null,
   "input_path": "__notebook__.ipynb",
   "output_path": "__notebook__.ipynb",
   "parameters": {},
   "start_time": "2025-05-26T20:37:41.581418",
   "version": "2.6.0"
  }
 },
 "nbformat": 4,
 "nbformat_minor": 5
}
