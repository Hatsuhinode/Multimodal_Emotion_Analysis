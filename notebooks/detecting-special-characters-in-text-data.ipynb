{
 "cells": [
  {
   "cell_type": "markdown",
   "id": "75dcf6f7",
   "metadata": {
    "papermill": {
     "duration": 0.002718,
     "end_time": "2025-02-05T15:44:45.992394",
     "exception": false,
     "start_time": "2025-02-05T15:44:45.989676",
     "status": "completed"
    },
    "tags": []
   },
   "source": [
    "# Detecting Special/Non-ASCII Characters in Text Data"
   ]
  },
  {
   "cell_type": "code",
   "execution_count": 1,
   "id": "823fedf6",
   "metadata": {
    "_cell_guid": "b1076dfc-b9ad-4769-8c92-a6c4dae69d19",
    "_uuid": "8f2839f25d086af736a60e9eeb907d3b93b6e0e5",
    "execution": {
     "iopub.execute_input": "2025-02-05T15:44:45.999753Z",
     "iopub.status.busy": "2025-02-05T15:44:45.999280Z",
     "iopub.status.idle": "2025-02-05T15:44:46.006645Z",
     "shell.execute_reply": "2025-02-05T15:44:46.004980Z"
    },
    "papermill": {
     "duration": 0.01319,
     "end_time": "2025-02-05T15:44:46.008631",
     "exception": false,
     "start_time": "2025-02-05T15:44:45.995441",
     "status": "completed"
    },
    "tags": []
   },
   "outputs": [],
   "source": [
    "# What is Character Encoding?\n",
    "# Character encoding is a way of representing characters as numbers. Every character (letter, symbol, etc.) is mapped to a unique numerical value (byte sequence) in a character set. These mappings are crucial because different systems and applications use different standards for encoding characters.\n",
    "\n",
    "# For example:\n",
    "\n",
    "# ASCII maps characters like A, B, C, etc., to the numbers 65, 66, 67, and so on, using 7 bits.\n",
    "# UTF-8 is a more comprehensive encoding standard, capable of representing every character in the Unicode standard, including characters from non-Latin alphabets (e.g., Chinese, Arabic) and special characters (e.g., emojis, accented letters).\n",
    "# ISO-8859-1 and Windows-1252 are examples of legacy encodings that cover a specific set of characters, commonly used in older systems or applications."
   ]
  },
  {
   "cell_type": "code",
   "execution_count": 2,
   "id": "565a53c2",
   "metadata": {
    "execution": {
     "iopub.execute_input": "2025-02-05T15:44:46.014862Z",
     "iopub.status.busy": "2025-02-05T15:44:46.014469Z",
     "iopub.status.idle": "2025-02-05T15:44:46.018650Z",
     "shell.execute_reply": "2025-02-05T15:44:46.017369Z"
    },
    "papermill": {
     "duration": 0.009382,
     "end_time": "2025-02-05T15:44:46.020557",
     "exception": false,
     "start_time": "2025-02-05T15:44:46.011175",
     "status": "completed"
    },
    "tags": []
   },
   "outputs": [],
   "source": [
    "# Why is Encoding Important in pd.read_csv()?\n",
    "# When reading data from a CSV file, the data is typically stored in bytes on disk. If the file contains characters outside of the standard ASCII range (e.g., accented characters, non-Latin alphabets), Python needs to know which encoding was used to store those characters, so it can correctly decode the bytes back into strings.\n",
    "\n",
    "# If you don't specify the correct encoding, you might encounter issues like:\n",
    "\n",
    "# Incorrectly displayed characters (e.g., Ã© instead of é).\n",
    "# Errors during the reading process (e.g., UnicodeDecodeError) if Python tries to decode bytes that don't match the expected encoding."
   ]
  },
  {
   "cell_type": "markdown",
   "id": "4eed134f",
   "metadata": {
    "papermill": {
     "duration": 0.00203,
     "end_time": "2025-02-05T15:44:46.025099",
     "exception": false,
     "start_time": "2025-02-05T15:44:46.023069",
     "status": "completed"
    },
    "tags": []
   },
   "source": [
    "---"
   ]
  },
  {
   "cell_type": "code",
   "execution_count": 3,
   "id": "107a8325",
   "metadata": {
    "execution": {
     "iopub.execute_input": "2025-02-05T15:44:46.032964Z",
     "iopub.status.busy": "2025-02-05T15:44:46.032637Z",
     "iopub.status.idle": "2025-02-05T15:44:47.038543Z",
     "shell.execute_reply": "2025-02-05T15:44:47.037439Z"
    },
    "papermill": {
     "duration": 1.013181,
     "end_time": "2025-02-05T15:44:47.040929",
     "exception": false,
     "start_time": "2025-02-05T15:44:46.027748",
     "status": "completed"
    },
    "tags": []
   },
   "outputs": [],
   "source": [
    "import os\n",
    "import pandas as pd"
   ]
  },
  {
   "cell_type": "code",
   "execution_count": 4,
   "id": "38b5713c",
   "metadata": {
    "execution": {
     "iopub.execute_input": "2025-02-05T15:44:47.047381Z",
     "iopub.status.busy": "2025-02-05T15:44:47.046880Z",
     "iopub.status.idle": "2025-02-05T15:44:47.051838Z",
     "shell.execute_reply": "2025-02-05T15:44:47.050482Z"
    },
    "papermill": {
     "duration": 0.009997,
     "end_time": "2025-02-05T15:44:47.053590",
     "exception": false,
     "start_time": "2025-02-05T15:44:47.043593",
     "status": "completed"
    },
    "tags": []
   },
   "outputs": [],
   "source": [
    "# Dictionary mapping short keys to file paths.\n",
    "file_paths = {\n",
    "    \"dev\": \"/kaggle/input/meld-emotion-recognition/JSON files/JSON files/Updated CSV/dev_sent_emo_cleaned.csv\",\n",
    "    \"test\": \"/kaggle/input/meld-emotion-recognition/JSON files/JSON files/Updated CSV/test_sent_emo_cleaned.csv\",\n",
    "    \"train\": \"/kaggle/input/meld-emotion-recognition/JSON files/JSON files/Updated CSV/train_sent_emo_cleaned.csv\"\n",
    "}"
   ]
  },
  {
   "cell_type": "code",
   "execution_count": 5,
   "id": "7f76e93f",
   "metadata": {
    "execution": {
     "iopub.execute_input": "2025-02-05T15:44:47.060669Z",
     "iopub.status.busy": "2025-02-05T15:44:47.060207Z",
     "iopub.status.idle": "2025-02-05T15:44:47.266028Z",
     "shell.execute_reply": "2025-02-05T15:44:47.264582Z"
    },
    "papermill": {
     "duration": 0.211592,
     "end_time": "2025-02-05T15:44:47.268388",
     "exception": false,
     "start_time": "2025-02-05T15:44:47.056796",
     "status": "completed"
    },
    "tags": []
   },
   "outputs": [
    {
     "name": "stdout",
     "output_type": "stream",
     "text": [
      "Processed 'dev' data has been saved to: /kaggle/working/dev_sent_emo_cleaned_processed.csv\n",
      "Processed 'test' data has been saved to: /kaggle/working/test_sent_emo_cleaned_processed.csv\n",
      "Processed 'train' data has been saved to: /kaggle/working/train_sent_emo_cleaned_processed.csv\n"
     ]
    }
   ],
   "source": [
    "# Process each file:\n",
    "for split, path in file_paths.items():\n",
    "    # Read the CSV file into a DataFrame.\n",
    "    df = pd.read_csv(path, encoding='cp1252')\n",
    "\n",
    "    # Replace unwanted characters (like Â) and fix the encoding\n",
    "    df['Utterance'] = df['Utterance'].str.replace('Â', '', regex=False)\n",
    "    \n",
    "    # Construct an output file name in the /kaggle/working/ directory.\n",
    "    # For example, \"dev_sent_emo_cleaned.csv\" becomes \"dev_sent_emo_cleaned_ascii.csv\"\n",
    "    file_name = os.path.basename(path)\n",
    "    output_file_name = file_name.replace('.csv', '_processed.csv')\n",
    "    output_path = os.path.join('/kaggle/working', output_file_name)\n",
    "    \n",
    "    # Save the processed DataFrame to the new CSV file.\n",
    "    df.to_csv(output_path, index=False)\n",
    "    \n",
    "    print(f\"Processed '{split}' data has been saved to: {output_path}\")"
   ]
  }
 ],
 "metadata": {
  "kaggle": {
   "accelerator": "none",
   "dataSources": [
    {
     "datasetId": 6525542,
     "sourceId": 10576892,
     "sourceType": "datasetVersion"
    },
    {
     "datasetId": 6562401,
     "sourceId": 10601741,
     "sourceType": "datasetVersion"
    }
   ],
   "isGpuEnabled": false,
   "isInternetEnabled": true,
   "language": "python",
   "sourceType": "notebook"
  },
  "kernelspec": {
   "display_name": "Python 3",
   "language": "python",
   "name": "python3"
  },
  "language_info": {
   "codemirror_mode": {
    "name": "ipython",
    "version": 3
   },
   "file_extension": ".py",
   "mimetype": "text/x-python",
   "name": "python",
   "nbconvert_exporter": "python",
   "pygments_lexer": "ipython3",
   "version": "3.10.12"
  },
  "papermill": {
   "default_parameters": {},
   "duration": 4.799506,
   "end_time": "2025-02-05T15:44:47.893336",
   "environment_variables": {},
   "exception": null,
   "input_path": "__notebook__.ipynb",
   "output_path": "__notebook__.ipynb",
   "parameters": {},
   "start_time": "2025-02-05T15:44:43.093830",
   "version": "2.6.0"
  }
 },
 "nbformat": 4,
 "nbformat_minor": 5
}
