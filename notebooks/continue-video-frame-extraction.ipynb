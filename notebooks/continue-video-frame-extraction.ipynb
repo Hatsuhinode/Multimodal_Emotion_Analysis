{
 "cells": [
  {
   "cell_type": "markdown",
   "id": "94c5b387",
   "metadata": {
    "papermill": {
     "duration": 0.005448,
     "end_time": "2025-05-03T19:14:14.841657",
     "exception": false,
     "start_time": "2025-05-03T19:14:14.836209",
     "status": "completed"
    },
    "tags": []
   },
   "source": [
    "# Unzipping a File from One Location to Another"
   ]
  },
  {
   "cell_type": "code",
   "execution_count": 1,
   "id": "443f545a",
   "metadata": {
    "execution": {
     "iopub.execute_input": "2025-05-03T19:14:14.852756Z",
     "iopub.status.busy": "2025-05-03T19:14:14.852486Z",
     "iopub.status.idle": "2025-05-03T19:14:14.858609Z",
     "shell.execute_reply": "2025-05-03T19:14:14.857948Z"
    },
    "papermill": {
     "duration": 0.01272,
     "end_time": "2025-05-03T19:14:14.859754",
     "exception": false,
     "start_time": "2025-05-03T19:14:14.847034",
     "status": "completed"
    },
    "tags": []
   },
   "outputs": [],
   "source": [
    "import shutil\n",
    "import os"
   ]
  },
  {
   "cell_type": "code",
   "execution_count": 2,
   "id": "dd480713",
   "metadata": {
    "execution": {
     "iopub.execute_input": "2025-05-03T19:14:14.870352Z",
     "iopub.status.busy": "2025-05-03T19:14:14.870176Z",
     "iopub.status.idle": "2025-05-03T19:19:35.780921Z",
     "shell.execute_reply": "2025-05-03T19:19:35.780284Z"
    },
    "papermill": {
     "duration": 320.918082,
     "end_time": "2025-05-03T19:19:35.782378",
     "exception": false,
     "start_time": "2025-05-03T19:14:14.864296",
     "status": "completed"
    },
    "tags": []
   },
   "outputs": [],
   "source": [
    "src = '/kaggle/input/continue-video-frame-extraction'\n",
    "dst = '/kaggle/working/'\n",
    "\n",
    "# Copy all files and folders\n",
    "for item in os.listdir(src):\n",
    "    s = os.path.join(src, item)\n",
    "    d = os.path.join(dst, item)\n",
    "    if os.path.isdir(s):\n",
    "        shutil.copytree(s, d, dirs_exist_ok=True)  # Copy entire folder\n",
    "    else:\n",
    "        shutil.copy2(s, d)  # Copy file"
   ]
  },
  {
   "cell_type": "markdown",
   "id": "c90a8534",
   "metadata": {
    "papermill": {
     "duration": 0.00443,
     "end_time": "2025-05-03T19:19:35.792166",
     "exception": false,
     "start_time": "2025-05-03T19:19:35.787736",
     "status": "completed"
    },
    "tags": []
   },
   "source": [
    "---"
   ]
  },
  {
   "cell_type": "markdown",
   "id": "669608f6",
   "metadata": {
    "papermill": {
     "duration": 0.004326,
     "end_time": "2025-05-03T19:19:35.801061",
     "exception": false,
     "start_time": "2025-05-03T19:19:35.796735",
     "status": "completed"
    },
    "tags": []
   },
   "source": [
    "# Counting Subdirectories for Each Folder in a List"
   ]
  },
  {
   "cell_type": "code",
   "execution_count": 3,
   "id": "5bc8ee6b",
   "metadata": {
    "execution": {
     "iopub.execute_input": "2025-05-03T19:19:35.811466Z",
     "iopub.status.busy": "2025-05-03T19:19:35.810893Z",
     "iopub.status.idle": "2025-05-03T19:19:35.814189Z",
     "shell.execute_reply": "2025-05-03T19:19:35.813657Z"
    },
    "papermill": {
     "duration": 0.009808,
     "end_time": "2025-05-03T19:19:35.815293",
     "exception": false,
     "start_time": "2025-05-03T19:19:35.805485",
     "status": "completed"
    },
    "tags": []
   },
   "outputs": [],
   "source": [
    "import os"
   ]
  },
  {
   "cell_type": "code",
   "execution_count": 4,
   "id": "4a308fcb",
   "metadata": {
    "execution": {
     "iopub.execute_input": "2025-05-03T19:19:35.825043Z",
     "iopub.status.busy": "2025-05-03T19:19:35.824814Z",
     "iopub.status.idle": "2025-05-03T19:19:35.842738Z",
     "shell.execute_reply": "2025-05-03T19:19:35.841907Z"
    },
    "papermill": {
     "duration": 0.024114,
     "end_time": "2025-05-03T19:19:35.843954",
     "exception": false,
     "start_time": "2025-05-03T19:19:35.819840",
     "status": "completed"
    },
    "tags": []
   },
   "outputs": [
    {
     "name": "stdout",
     "output_type": "stream",
     "text": [
      "/kaggle/working/preprocessed_frames/train: 2539 subdirectories\n",
      "/kaggle/working/preprocessed_frames/dev: Path does not exist\n",
      "/kaggle/working/preprocessed_frames/test: Path does not exist\n"
     ]
    }
   ],
   "source": [
    "# List of folder paths\n",
    "folder_list = [\n",
    "    '/kaggle/working/preprocessed_frames/train',\n",
    "    '/kaggle/working/preprocessed_frames/dev',\n",
    "    '/kaggle/working/preprocessed_frames/test'\n",
    "]\n",
    "\n",
    "# Count subdirectories for each folder\n",
    "for folder in folder_list:\n",
    "    if os.path.exists(folder):\n",
    "        subdirs = [d for d in os.listdir(folder) if os.path.isdir(os.path.join(folder, d))]\n",
    "        count = len(subdirs)\n",
    "        print(f\"{folder}: {count} subdirectories\")\n",
    "    else:\n",
    "        print(f\"{folder}: Path does not exist\")"
   ]
  },
  {
   "cell_type": "markdown",
   "id": "a7f08eef",
   "metadata": {
    "papermill": {
     "duration": 0.004343,
     "end_time": "2025-05-03T19:19:35.852931",
     "exception": false,
     "start_time": "2025-05-03T19:19:35.848588",
     "status": "completed"
    },
    "tags": []
   },
   "source": [
    "---"
   ]
  },
  {
   "cell_type": "markdown",
   "id": "092174a4",
   "metadata": {
    "papermill": {
     "duration": 0.004252,
     "end_time": "2025-05-03T19:19:35.861605",
     "exception": false,
     "start_time": "2025-05-03T19:19:35.857353",
     "status": "completed"
    },
    "tags": []
   },
   "source": [
    "# Remove Unwanted Files by Extension from a Directory"
   ]
  },
  {
   "cell_type": "code",
   "execution_count": 5,
   "id": "6cc5ad05",
   "metadata": {
    "execution": {
     "iopub.execute_input": "2025-05-03T19:19:35.872196Z",
     "iopub.status.busy": "2025-05-03T19:19:35.871655Z",
     "iopub.status.idle": "2025-05-03T19:19:35.908497Z",
     "shell.execute_reply": "2025-05-03T19:19:35.907815Z"
    },
    "papermill": {
     "duration": 0.043131,
     "end_time": "2025-05-03T19:19:35.909632",
     "exception": false,
     "start_time": "2025-05-03T19:19:35.866501",
     "status": "completed"
    },
    "tags": []
   },
   "outputs": [
    {
     "name": "stdout",
     "output_type": "stream",
     "text": [
      "Deleted: /kaggle/working/__notebook__.ipynb\n",
      "Deleted: /kaggle/working/__results__.html\n",
      "Deleted: /kaggle/working/custom.css\n",
      "Deleted: /kaggle/working/mmod_human_face_detector.dat.bz2\n",
      "Deleted: /kaggle/working/shape_predictor_68_face_landmarks.dat\n",
      "Deleted: /kaggle/working/shape_predictor_68_face_landmarks.dat.bz2\n",
      "Deleted: /kaggle/working/mmod_human_face_detector.dat\n"
     ]
    }
   ],
   "source": [
    "folder = '/kaggle/working/'\n",
    "extensions_to_remove = ['html','.css', '.bz2','.ipynb','.dat', 'txt', 'bak1', 'bak2']  # Add all the extensions you want to remove\n",
    "\n",
    "# Loop through all files\n",
    "for filename in os.listdir(folder):\n",
    "    if any(filename.endswith(ext) for ext in extensions_to_remove):\n",
    "        file_path = os.path.join(folder, filename)\n",
    "        os.remove(file_path)\n",
    "        print(f\"Deleted: {file_path}\")"
   ]
  },
  {
   "cell_type": "markdown",
   "id": "4a95424d",
   "metadata": {
    "papermill": {
     "duration": 0.004604,
     "end_time": "2025-05-03T19:19:35.919194",
     "exception": false,
     "start_time": "2025-05-03T19:19:35.914590",
     "status": "completed"
    },
    "tags": []
   },
   "source": [
    "---"
   ]
  },
  {
   "cell_type": "markdown",
   "id": "38568385",
   "metadata": {
    "papermill": {
     "duration": 0.004363,
     "end_time": "2025-05-03T19:19:35.928267",
     "exception": false,
     "start_time": "2025-05-03T19:19:35.923904",
     "status": "completed"
    },
    "tags": []
   },
   "source": [
    "# Delete Specific Files by Full Path"
   ]
  },
  {
   "cell_type": "code",
   "execution_count": 6,
   "id": "424c1cb2",
   "metadata": {
    "execution": {
     "iopub.execute_input": "2025-05-03T19:19:35.938208Z",
     "iopub.status.busy": "2025-05-03T19:19:35.937980Z",
     "iopub.status.idle": "2025-05-03T19:19:35.942443Z",
     "shell.execute_reply": "2025-05-03T19:19:35.941826Z"
    },
    "papermill": {
     "duration": 0.010718,
     "end_time": "2025-05-03T19:19:35.943453",
     "exception": false,
     "start_time": "2025-05-03T19:19:35.932735",
     "status": "completed"
    },
    "tags": []
   },
   "outputs": [
    {
     "name": "stdout",
     "output_type": "stream",
     "text": [
      "Deleted: /kaggle/working/__output__.json\n",
      "File not found, skipped: /kaggle/working/frame_count.txt\n",
      "File not found, skipped: /kaggle/working/__output__.json\n"
     ]
    }
   ],
   "source": [
    "# List of full file paths you want to delete\n",
    "files_to_remove = [\n",
    "    '/kaggle/working/__output__.json',\n",
    "    '/kaggle/working/frame_count.txt',\n",
    "    '/kaggle/working/__output__.json'\n",
    "]\n",
    "\n",
    "# Loop through and remove each file\n",
    "for file_path in files_to_remove:\n",
    "    if os.path.exists(file_path):\n",
    "        os.remove(file_path)\n",
    "        print(f\"Deleted: {file_path}\")\n",
    "    else:\n",
    "        print(f\"File not found, skipped: {file_path}\")"
   ]
  },
  {
   "cell_type": "markdown",
   "id": "e2e747fb",
   "metadata": {
    "papermill": {
     "duration": 0.004522,
     "end_time": "2025-05-03T19:19:35.952898",
     "exception": false,
     "start_time": "2025-05-03T19:19:35.948376",
     "status": "completed"
    },
    "tags": []
   },
   "source": [
    "---"
   ]
  },
  {
   "cell_type": "markdown",
   "id": "6019bc17",
   "metadata": {
    "papermill": {
     "duration": 0.004484,
     "end_time": "2025-05-03T19:19:35.961917",
     "exception": false,
     "start_time": "2025-05-03T19:19:35.957433",
     "status": "completed"
    },
    "tags": []
   },
   "source": [
    "# Remove a Specific Directory Using Shell Command"
   ]
  },
  {
   "cell_type": "code",
   "execution_count": 7,
   "id": "acdd1cc3",
   "metadata": {
    "execution": {
     "iopub.execute_input": "2025-05-03T19:19:35.972307Z",
     "iopub.status.busy": "2025-05-03T19:19:35.971754Z",
     "iopub.status.idle": "2025-05-03T19:19:36.090691Z",
     "shell.execute_reply": "2025-05-03T19:19:36.089988Z"
    },
    "papermill": {
     "duration": 0.125746,
     "end_time": "2025-05-03T19:19:36.092177",
     "exception": false,
     "start_time": "2025-05-03T19:19:35.966431",
     "status": "completed"
    },
    "tags": []
   },
   "outputs": [
    {
     "name": "stdout",
     "output_type": "stream",
     "text": [
      "rm: cannot remove '/kaggle/working/__results___files': No such file or directory\r\n"
     ]
    }
   ],
   "source": [
    "!rm -r /kaggle/working/__results___files"
   ]
  },
  {
   "cell_type": "markdown",
   "id": "13bbe6d8",
   "metadata": {
    "papermill": {
     "duration": 0.004613,
     "end_time": "2025-05-03T19:19:36.101923",
     "exception": false,
     "start_time": "2025-05-03T19:19:36.097310",
     "status": "completed"
    },
    "tags": []
   },
   "source": [
    "---"
   ]
  },
  {
   "cell_type": "markdown",
   "id": "487602ac",
   "metadata": {
    "papermill": {
     "duration": 0.005927,
     "end_time": "2025-05-03T19:19:36.112502",
     "exception": false,
     "start_time": "2025-05-03T19:19:36.106575",
     "status": "completed"
    },
    "tags": []
   },
   "source": [
    "# Essential Data Processing Steps"
   ]
  },
  {
   "cell_type": "code",
   "execution_count": 8,
   "id": "d2b8a445",
   "metadata": {
    "execution": {
     "iopub.execute_input": "2025-05-03T19:19:36.123157Z",
     "iopub.status.busy": "2025-05-03T19:19:36.122880Z",
     "iopub.status.idle": "2025-05-03T19:20:14.909280Z",
     "shell.execute_reply": "2025-05-03T19:20:14.908296Z"
    },
    "papermill": {
     "duration": 38.79345,
     "end_time": "2025-05-03T19:20:14.910726",
     "exception": false,
     "start_time": "2025-05-03T19:19:36.117276",
     "status": "completed"
    },
    "tags": []
   },
   "outputs": [
    {
     "name": "stdout",
     "output_type": "stream",
     "text": [
      "Collecting face_recognition\r\n",
      "  Downloading face_recognition-1.3.0-py2.py3-none-any.whl.metadata (21 kB)\r\n",
      "Collecting opencv-python-headless==4.5.5.64\r\n",
      "  Downloading opencv_python_headless-4.5.5.64-cp36-abi3-manylinux_2_17_x86_64.manylinux2014_x86_64.whl.metadata (18 kB)\r\n",
      "Requirement already satisfied: numpy>=1.21.2 in /usr/local/lib/python3.11/dist-packages (from opencv-python-headless==4.5.5.64) (1.26.4)\r\n",
      "Collecting face-recognition-models>=0.3.0 (from face_recognition)\r\n",
      "  Downloading face_recognition_models-0.3.0.tar.gz (100.1 MB)\r\n",
      "\u001b[2K     \u001b[90m━━━━━━━━━━━━━━━━━━━━━━━━━━━━━━━━━━━━━━━━\u001b[0m \u001b[32m100.1/100.1 MB\u001b[0m \u001b[31m17.5 MB/s\u001b[0m eta \u001b[36m0:00:00\u001b[0m\r\n",
      "\u001b[?25h  Preparing metadata (setup.py) ... \u001b[?25l\u001b[?25hdone\r\n",
      "Requirement already satisfied: Click>=6.0 in /usr/local/lib/python3.11/dist-packages (from face_recognition) (8.1.8)\r\n",
      "Requirement already satisfied: dlib>=19.7 in /usr/local/lib/python3.11/dist-packages (from face_recognition) (19.24.2)\r\n",
      "Requirement already satisfied: Pillow in /usr/local/lib/python3.11/dist-packages (from face_recognition) (11.1.0)\r\n",
      "Requirement already satisfied: mkl_fft in /usr/local/lib/python3.11/dist-packages (from numpy>=1.21.2->opencv-python-headless==4.5.5.64) (1.3.8)\r\n",
      "Requirement already satisfied: mkl_random in /usr/local/lib/python3.11/dist-packages (from numpy>=1.21.2->opencv-python-headless==4.5.5.64) (1.2.4)\r\n",
      "Requirement already satisfied: mkl_umath in /usr/local/lib/python3.11/dist-packages (from numpy>=1.21.2->opencv-python-headless==4.5.5.64) (0.1.1)\r\n",
      "Requirement already satisfied: mkl in /usr/local/lib/python3.11/dist-packages (from numpy>=1.21.2->opencv-python-headless==4.5.5.64) (2025.1.0)\r\n",
      "Requirement already satisfied: tbb4py in /usr/local/lib/python3.11/dist-packages (from numpy>=1.21.2->opencv-python-headless==4.5.5.64) (2022.1.0)\r\n",
      "Requirement already satisfied: mkl-service in /usr/local/lib/python3.11/dist-packages (from numpy>=1.21.2->opencv-python-headless==4.5.5.64) (2.4.1)\r\n",
      "Requirement already satisfied: intel-openmp<2026,>=2024 in /usr/local/lib/python3.11/dist-packages (from mkl->numpy>=1.21.2->opencv-python-headless==4.5.5.64) (2024.2.0)\r\n",
      "Requirement already satisfied: tbb==2022.* in /usr/local/lib/python3.11/dist-packages (from mkl->numpy>=1.21.2->opencv-python-headless==4.5.5.64) (2022.1.0)\r\n",
      "Requirement already satisfied: tcmlib==1.* in /usr/local/lib/python3.11/dist-packages (from tbb==2022.*->mkl->numpy>=1.21.2->opencv-python-headless==4.5.5.64) (1.2.0)\r\n",
      "Requirement already satisfied: intel-cmplr-lib-rt in /usr/local/lib/python3.11/dist-packages (from mkl_umath->numpy>=1.21.2->opencv-python-headless==4.5.5.64) (2024.2.0)\r\n",
      "Requirement already satisfied: intel-cmplr-lib-ur==2024.2.0 in /usr/local/lib/python3.11/dist-packages (from intel-openmp<2026,>=2024->mkl->numpy>=1.21.2->opencv-python-headless==4.5.5.64) (2024.2.0)\r\n",
      "Downloading opencv_python_headless-4.5.5.64-cp36-abi3-manylinux_2_17_x86_64.manylinux2014_x86_64.whl (47.8 MB)\r\n",
      "\u001b[2K   \u001b[90m━━━━━━━━━━━━━━━━━━━━━━━━━━━━━━━━━━━━━━━━\u001b[0m \u001b[32m47.8/47.8 MB\u001b[0m \u001b[31m37.1 MB/s\u001b[0m eta \u001b[36m0:00:00\u001b[0m\r\n",
      "\u001b[?25hDownloading face_recognition-1.3.0-py2.py3-none-any.whl (15 kB)\r\n",
      "Building wheels for collected packages: face-recognition-models\r\n",
      "  Building wheel for face-recognition-models (setup.py) ... \u001b[?25l\u001b[?25hdone\r\n",
      "  Created wheel for face-recognition-models: filename=face_recognition_models-0.3.0-py2.py3-none-any.whl size=100566162 sha256=f3244100bc56364fe8830120740897aa0bbf81dd841d2f7275fa55046e0fd6a3\r\n",
      "  Stored in directory: /root/.cache/pip/wheels/04/52/ec/9355da79c29f160b038a20c784db2803c2f9fa2c8a462c176a\r\n",
      "Successfully built face-recognition-models\r\n",
      "Installing collected packages: face-recognition-models, opencv-python-headless, face_recognition\r\n",
      "  Attempting uninstall: opencv-python-headless\r\n",
      "    Found existing installation: opencv-python-headless 4.11.0.86\r\n",
      "    Uninstalling opencv-python-headless-4.11.0.86:\r\n",
      "      Successfully uninstalled opencv-python-headless-4.11.0.86\r\n",
      "\u001b[31mERROR: pip's dependency resolver does not currently take into account all the packages that are installed. This behaviour is the source of the following dependency conflicts.\r\n",
      "albumentations 2.0.4 requires opencv-python-headless>=4.9.0.80, but you have opencv-python-headless 4.5.5.64 which is incompatible.\r\n",
      "albucore 0.0.23 requires opencv-python-headless>=4.9.0.80, but you have opencv-python-headless 4.5.5.64 which is incompatible.\u001b[0m\u001b[31m\r\n",
      "\u001b[0mSuccessfully installed face-recognition-models-0.3.0 face_recognition-1.3.0 opencv-python-headless-4.5.5.64\r\n"
     ]
    }
   ],
   "source": [
    "# Install dependencies\n",
    "!pip install face_recognition opencv-python-headless==4.5.5.64\n",
    "try:\n",
    "    import dlib\n",
    "    if not dlib.DLIB_USE_CUDA:\n",
    "        !pip install dlib\n",
    "except ImportError:\n",
    "    !pip install dlib\n",
    "!wget -q http://dlib.net/files/mmod_human_face_detector.dat.bz2\n",
    "!bzip2 -dk mmod_human_face_detector.dat.bz2\n",
    "!wget -q http://dlib.net/files/shape_predictor_68_face_landmarks.dat.bz2\n",
    "!bzip2 -dk shape_predictor_68_face_landmarks.dat.bz2"
   ]
  },
  {
   "cell_type": "code",
   "execution_count": 9,
   "id": "e5091294",
   "metadata": {
    "execution": {
     "iopub.execute_input": "2025-05-03T19:20:14.926305Z",
     "iopub.status.busy": "2025-05-03T19:20:14.925633Z",
     "iopub.status.idle": "2025-05-03T19:20:14.992986Z",
     "shell.execute_reply": "2025-05-03T19:20:14.992178Z"
    },
    "papermill": {
     "duration": 0.075893,
     "end_time": "2025-05-03T19:20:14.994023",
     "exception": false,
     "start_time": "2025-05-03T19:20:14.918130",
     "status": "completed"
    },
    "tags": []
   },
   "outputs": [
    {
     "name": "stdout",
     "output_type": "stream",
     "text": [
      "DLIB CUDA Status: True\n",
      "Available CUDA Devices: 1\n"
     ]
    }
   ],
   "source": [
    "# Add this diagnostic check after imports:\n",
    "print(f\"DLIB CUDA Status: {dlib.DLIB_USE_CUDA}\")\n",
    "print(f\"Available CUDA Devices: {dlib.cuda.get_num_devices()}\")"
   ]
  },
  {
   "cell_type": "code",
   "execution_count": 10,
   "id": "486aa4ac",
   "metadata": {
    "execution": {
     "iopub.execute_input": "2025-05-03T19:20:15.008484Z",
     "iopub.status.busy": "2025-05-03T19:20:15.008285Z",
     "iopub.status.idle": "2025-05-03T19:20:17.611947Z",
     "shell.execute_reply": "2025-05-03T19:20:17.611155Z"
    },
    "papermill": {
     "duration": 2.612305,
     "end_time": "2025-05-03T19:20:17.613356",
     "exception": false,
     "start_time": "2025-05-03T19:20:15.001051",
     "status": "completed"
    },
    "tags": []
   },
   "outputs": [],
   "source": [
    "# Enhanced Imports\n",
    "import cv2\n",
    "import json\n",
    "import signal\n",
    "import numpy as np\n",
    "import face_recognition\n",
    "import dlib\n",
    "from tqdm import tqdm\n",
    "from collections import deque\n",
    "from scipy.signal import find_peaks\n",
    "import time\n",
    "import tempfile\n",
    "import tarfile\n",
    "import fcntl\n",
    "import sys\n",
    "import threading\n",
    "import os\n",
    "import shutil"
   ]
  },
  {
   "cell_type": "code",
   "execution_count": 11,
   "id": "933414c4",
   "metadata": {
    "execution": {
     "iopub.execute_input": "2025-05-03T19:20:17.628096Z",
     "iopub.status.busy": "2025-05-03T19:20:17.627791Z",
     "iopub.status.idle": "2025-05-03T19:20:17.632398Z",
     "shell.execute_reply": "2025-05-03T19:20:17.631904Z"
    },
    "papermill": {
     "duration": 0.012937,
     "end_time": "2025-05-03T19:20:17.633429",
     "exception": false,
     "start_time": "2025-05-03T19:20:17.620492",
     "status": "completed"
    },
    "tags": []
   },
   "outputs": [],
   "source": [
    "class Config:\n",
    "    # Path configurations\n",
    "    input_json = \"/kaggle/input/meld-emotion-recognition/JSON files/JSON files/Final Format/MELD_Video_Data_Cleaned.json\"\n",
    "    output_root = \"/kaggle/working/preprocessed_frames\"\n",
    "    checkpoint_file = \"/kaggle/working/extraction_checkpoint.json\"\n",
    "    emergency_dir = \"/kaggle/working/emergency_backups\"\n",
    "    \n",
    "    # Processing parameters\n",
    "    num_frames = 32\n",
    "    crop_size = (224, 224)\n",
    "    face_confidence = 0.6\n",
    "    speaker_history = 30\n",
    "    similarity_threshold = 0.4\n",
    "    centrality_weight = 0.2\n",
    "    min_speaking_frames = 15\n",
    "    bbox_expand_ratio = 0.7\n",
    "    tracking_quality_threshold = 7.0\n",
    "    max_tracking_failures = 5\n",
    "\n",
    "    # System parameters\n",
    "    max_retries = 3\n",
    "    checkpoint_backups = 2\n",
    "    frame_validation_threshold = 32\n",
    "    safety_margin = 30 * 60\n",
    "    max_runtime = 12 * 60 * 60 - safety_margin\n",
    "    \n",
    "    # GPU optimization (NEW)\n",
    "    use_gpu = dlib.DLIB_USE_CUDA\n",
    "    gpu_batch_size = 128 if use_gpu else 1"
   ]
  },
  {
   "cell_type": "code",
   "execution_count": 12,
   "id": "be691ed4",
   "metadata": {
    "execution": {
     "iopub.execute_input": "2025-05-03T19:20:17.647916Z",
     "iopub.status.busy": "2025-05-03T19:20:17.647619Z",
     "iopub.status.idle": "2025-05-03T19:20:17.653867Z",
     "shell.execute_reply": "2025-05-03T19:20:17.653358Z"
    },
    "papermill": {
     "duration": 0.01454,
     "end_time": "2025-05-03T19:20:17.654955",
     "exception": false,
     "start_time": "2025-05-03T19:20:17.640415",
     "status": "completed"
    },
    "tags": []
   },
   "outputs": [],
   "source": [
    "class AtomicFrameSaver:\n",
    "    @staticmethod\n",
    "    def save_frame(frame, path):\n",
    "        \"\"\"Atomic file write with retries and correct extensions\"\"\"\n",
    "        base, ext = os.path.splitext(path)\n",
    "        temp_path = f\"{base}.tmp{ext}\"\n",
    "        for attempt in range(Config.max_retries):\n",
    "            try:\n",
    "                os.makedirs(os.path.dirname(path), exist_ok=True)\n",
    "                success = cv2.imwrite(temp_path, frame)\n",
    "                if not success:\n",
    "                    raise RuntimeError(f\"OpenCV failed to write {temp_path}\")\n",
    "                os.rename(temp_path, path)\n",
    "                return True\n",
    "            except Exception as e:\n",
    "                if attempt == Config.max_retries - 1:\n",
    "                    if os.path.exists(temp_path):\n",
    "                        os.remove(temp_path)\n",
    "                    raise RuntimeError(f\"Failed to save {path} after {Config.max_retries} attempts: {str(e)}\")\n",
    "                time.sleep(0.1 * (attempt + 1))"
   ]
  },
  {
   "cell_type": "code",
   "execution_count": 13,
   "id": "09557b1e",
   "metadata": {
    "execution": {
     "iopub.execute_input": "2025-05-03T19:20:17.669369Z",
     "iopub.status.busy": "2025-05-03T19:20:17.669153Z",
     "iopub.status.idle": "2025-05-03T19:20:17.674148Z",
     "shell.execute_reply": "2025-05-03T19:20:17.673475Z"
    },
    "papermill": {
     "duration": 0.013201,
     "end_time": "2025-05-03T19:20:17.675250",
     "exception": false,
     "start_time": "2025-05-03T19:20:17.662049",
     "status": "completed"
    },
    "tags": []
   },
   "outputs": [],
   "source": [
    "class MouthAnalyzer:\n",
    "    def __init__(self):\n",
    "        self.mar_history = deque(maxlen=Config.speaker_history)\n",
    "        \n",
    "    def calculate_rhythm_score(self):\n",
    "        if len(self.mar_history) < 10:\n",
    "            return 0\n",
    "        mar_values = np.array(self.mar_history)\n",
    "        eps = 1e-8\n",
    "        mar_norm = (mar_values - np.mean(mar_values)) / (np.std(mar_values) + eps)\n",
    "        peaks, _ = find_peaks(mar_norm, prominence=0.5)\n",
    "        valley, _ = find_peaks(-mar_norm, prominence=0.5)\n",
    "        if len(peaks) > 2 and len(valley) > 2:\n",
    "            peak_intervals = np.diff(peaks)\n",
    "            rhythm_consistency = 1 - np.std(peak_intervals) / np.mean(peak_intervals)\n",
    "            return min(max(rhythm_consistency, 0), 1)\n",
    "        return 0"
   ]
  },
  {
   "cell_type": "code",
   "execution_count": 14,
   "id": "40c6d9ee",
   "metadata": {
    "execution": {
     "iopub.execute_input": "2025-05-03T19:20:17.690178Z",
     "iopub.status.busy": "2025-05-03T19:20:17.689532Z",
     "iopub.status.idle": "2025-05-03T19:20:17.695691Z",
     "shell.execute_reply": "2025-05-03T19:20:17.695059Z"
    },
    "papermill": {
     "duration": 0.014481,
     "end_time": "2025-05-03T19:20:17.696759",
     "exception": false,
     "start_time": "2025-05-03T19:20:17.682278",
     "status": "completed"
    },
    "tags": []
   },
   "outputs": [],
   "source": [
    "class AtomicCheckpointManager:\n",
    "    @staticmethod\n",
    "    def load():\n",
    "        try:\n",
    "            if os.path.exists(Config.checkpoint_file):\n",
    "                with open(Config.checkpoint_file, 'r') as f:\n",
    "                    return json.load(f)\n",
    "            emergency_checkpoint = os.path.join(Config.emergency_dir, \"checkpoint.json\")\n",
    "            if os.path.exists(emergency_checkpoint):\n",
    "                shutil.copy(emergency_checkpoint, Config.checkpoint_file)\n",
    "                return AtomicCheckpointManager.load()\n",
    "        except Exception as e:\n",
    "            print(f\"Checkpoint load failed: {str(e)}\")\n",
    "        return {\"processed\": {\"train\": [], \"dev\": [], \"test\": []}, \"metadata\": {\"train\": [], \"dev\": [], \"test\": []}}\n",
    "\n",
    "    @staticmethod\n",
    "    def save(data):\n",
    "        os.makedirs(Config.emergency_dir, exist_ok=True)\n",
    "        temp_path = f\"{Config.checkpoint_file}.tmp\"\n",
    "        with open(temp_path, 'w') as f:\n",
    "            json.dump(data, f)\n",
    "            f.flush()\n",
    "            os.fsync(f.fileno())\n",
    "        os.replace(temp_path, Config.checkpoint_file)\n",
    "        shutil.copy(Config.checkpoint_file, os.path.join(Config.emergency_dir, \"checkpoint.json\"))"
   ]
  },
  {
   "cell_type": "code",
   "execution_count": 15,
   "id": "864b1ad7",
   "metadata": {
    "execution": {
     "iopub.execute_input": "2025-05-03T19:20:17.710990Z",
     "iopub.status.busy": "2025-05-03T19:20:17.710787Z",
     "iopub.status.idle": "2025-05-03T19:20:17.782999Z",
     "shell.execute_reply": "2025-05-03T19:20:17.782452Z"
    },
    "papermill": {
     "duration": 0.080538,
     "end_time": "2025-05-03T19:20:17.784107",
     "exception": false,
     "start_time": "2025-05-03T19:20:17.703569",
     "status": "completed"
    },
    "tags": []
   },
   "outputs": [],
   "source": [
    "class SpeakerTracker:\n",
    "    def __init__(self):\n",
    "        self.known_faces = {}\n",
    "        self.current_focus = None\n",
    "        self.focus_confidence = 0\n",
    "        self.consecutive_frames = 0\n",
    "        self.face_analyzers = {}\n",
    "        \n",
    "    def update_focus(self, fid, score, frame_size):\n",
    "        x_center = self.known_faces[fid]['position'][0] + self.known_faces[fid]['position'][2]/2\n",
    "        y_center = self.known_faces[fid]['position'][1] + self.known_faces[fid]['position'][3]/2\n",
    "        centrality = 1 - (abs(x_center - frame_size[1]/2)/(frame_size[1]/2) +\n",
    "                          abs(y_center - frame_size[0]/2)/(frame_size[0]/2))/2\n",
    "        combined_score = (score * (1 - Config.centrality_weight) + \n",
    "                        centrality * Config.centrality_weight)\n",
    "        \n",
    "        if self.current_focus == fid:\n",
    "            confidence_gain = combined_score * 0.1\n",
    "            self.focus_confidence = min(self.focus_confidence + confidence_gain, 1)\n",
    "            self.consecutive_frames += 1\n",
    "        else:\n",
    "            confidence_gain = combined_score * 0.05\n",
    "            self.focus_confidence = max(self.focus_confidence - 0.02, 0)\n",
    "            \n",
    "        if (combined_score > self.focus_confidence + 0.2 or \n",
    "            (self.consecutive_frames < Config.min_speaking_frames and \n",
    "             combined_score > self.focus_confidence)):\n",
    "            self.current_focus = fid\n",
    "            self.focus_confidence = combined_score\n",
    "            self.consecutive_frames = 1"
   ]
  },
  {
   "cell_type": "code",
   "execution_count": 16,
   "id": "1d85a1fb",
   "metadata": {
    "execution": {
     "iopub.execute_input": "2025-05-03T19:20:17.799796Z",
     "iopub.status.busy": "2025-05-03T19:20:17.799260Z",
     "iopub.status.idle": "2025-05-03T19:20:17.808175Z",
     "shell.execute_reply": "2025-05-03T19:20:17.807467Z"
    },
    "papermill": {
     "duration": 0.017764,
     "end_time": "2025-05-03T19:20:17.809339",
     "exception": false,
     "start_time": "2025-05-03T19:20:17.791575",
     "status": "completed"
    },
    "tags": []
   },
   "outputs": [],
   "source": [
    "def identify_main_speaker(video_path):\n",
    "    cap = cv2.VideoCapture(video_path)\n",
    "    tracker = SpeakerTracker()\n",
    "    frame_size = (int(cap.get(4)), int(cap.get(3)))\n",
    "    detector = dlib.cnn_face_detection_model_v1('mmod_human_face_detector.dat')\n",
    "    predictor = dlib.shape_predictor('shape_predictor_68_face_landmarks.dat')\n",
    "    \n",
    "    while cap.isOpened():\n",
    "        ret, frame = cap.read()\n",
    "        if not ret:\n",
    "            break\n",
    "            \n",
    "        rgb = cv2.cvtColor(frame, cv2.COLOR_BGR2RGB)\n",
    "        dlib_faces = detector(rgb, 1)\n",
    "        faces = []\n",
    "        for face in dlib_faces:\n",
    "            if face.confidence >= Config.face_confidence:\n",
    "                rect = face.rect\n",
    "                faces.append((rect.top(), rect.right(), rect.bottom(), rect.left()))\n",
    "        \n",
    "        encodings = face_recognition.face_encodings(rgb, faces)\n",
    "        current_faces = []\n",
    "        \n",
    "        for (top, right, bottom, left), encoding in zip(faces, encodings):\n",
    "            face_id = None\n",
    "            for fid, data in tracker.known_faces.items():\n",
    "                similarity = 1 - face_recognition.face_distance([data['encoding']], encoding)[0]\n",
    "                if similarity > Config.similarity_threshold:\n",
    "                    face_id = fid\n",
    "                    break\n",
    "                    \n",
    "            if face_id is None:\n",
    "                face_id = len(tracker.known_faces)\n",
    "                tracker.known_faces[face_id] = {\n",
    "                    'encoding': encoding,\n",
    "                    'analyzer': MouthAnalyzer(),\n",
    "                    'position': (left, top, right-left, bottom-top)\n",
    "                }\n",
    "                \n",
    "            shape = predictor(rgb, dlib.rectangle(left, top, right, bottom))\n",
    "            mar = get_mouth_aspect_ratio(shape)\n",
    "            tracker.known_faces[face_id]['analyzer'].mar_history.append(mar)\n",
    "            current_faces.append(face_id)\n",
    "            \n",
    "        scores = {}\n",
    "        for fid in current_faces:\n",
    "            data = tracker.known_faces[fid]\n",
    "            rhythm_score = data['analyzer'].calculate_rhythm_score()\n",
    "            recent_mar = np.mean(list(data['analyzer'].mar_history)[-10:])\n",
    "            activity_score = recent_mar * (1 + rhythm_score)\n",
    "            scores[fid] = activity_score\n",
    "            \n",
    "        if scores:\n",
    "            max_fid = max(scores, key=lambda x: scores[x])\n",
    "            tracker.update_focus(max_fid, scores[max_fid], frame_size)\n",
    "            \n",
    "    cap.release()\n",
    "    \n",
    "    if tracker.consecutive_frames >= Config.min_speaking_frames and tracker.current_focus is not None:\n",
    "        return tracker.known_faces[tracker.current_focus]['encoding']\n",
    "    return None"
   ]
  },
  {
   "cell_type": "code",
   "execution_count": 17,
   "id": "b07a1337",
   "metadata": {
    "execution": {
     "iopub.execute_input": "2025-05-03T19:20:17.824105Z",
     "iopub.status.busy": "2025-05-03T19:20:17.823921Z",
     "iopub.status.idle": "2025-05-03T19:20:17.828233Z",
     "shell.execute_reply": "2025-05-03T19:20:17.827709Z"
    },
    "papermill": {
     "duration": 0.01279,
     "end_time": "2025-05-03T19:20:17.829254",
     "exception": false,
     "start_time": "2025-05-03T19:20:17.816464",
     "status": "completed"
    },
    "tags": []
   },
   "outputs": [],
   "source": [
    "def get_mouth_aspect_ratio(shape):\n",
    "    try:\n",
    "        points = [(shape.part(i).x, shape.part(i).y) for i in range(48, 68)]\n",
    "        vert_dist = (np.linalg.norm(np.array(points[2]) - np.array(points[10])) + \n",
    "                   np.linalg.norm(np.array(points[4]) - np.array(points[8]))) / 2\n",
    "        horiz_dist = np.linalg.norm(np.array(points[0]) - np.array(points[6]))\n",
    "        return vert_dist / horiz_dist if horiz_dist != 0 else 0\n",
    "    except:\n",
    "        return 0"
   ]
  },
  {
   "cell_type": "code",
   "execution_count": 18,
   "id": "0ffa423d",
   "metadata": {
    "execution": {
     "iopub.execute_input": "2025-05-03T19:20:17.896570Z",
     "iopub.status.busy": "2025-05-03T19:20:17.896120Z",
     "iopub.status.idle": "2025-05-03T19:20:17.899530Z",
     "shell.execute_reply": "2025-05-03T19:20:17.898879Z"
    },
    "papermill": {
     "duration": 0.012381,
     "end_time": "2025-05-03T19:20:17.900558",
     "exception": false,
     "start_time": "2025-05-03T19:20:17.888177",
     "status": "completed"
    },
    "tags": []
   },
   "outputs": [],
   "source": [
    "# Global emergency stop flag\n",
    "EMERGENCY_STOP = threading.Event()"
   ]
  },
  {
   "cell_type": "code",
   "execution_count": 19,
   "id": "e855cb80",
   "metadata": {
    "execution": {
     "iopub.execute_input": "2025-05-03T19:20:17.915363Z",
     "iopub.status.busy": "2025-05-03T19:20:17.915184Z",
     "iopub.status.idle": "2025-05-03T19:20:17.919329Z",
     "shell.execute_reply": "2025-05-03T19:20:17.918771Z"
    },
    "papermill": {
     "duration": 0.012748,
     "end_time": "2025-05-03T19:20:17.920366",
     "exception": false,
     "start_time": "2025-05-03T19:20:17.907618",
     "status": "completed"
    },
    "tags": []
   },
   "outputs": [],
   "source": [
    "class GracefulTerminator:\n",
    "    def __init__(self):\n",
    "        self.start_time = time.time()\n",
    "        self.time_limit = self.start_time + Config.max_runtime\n",
    "        print(f\"⏰ Auto-save at: {time.ctime(self.time_limit)}\")\n",
    "\n",
    "    def should_stop(self):\n",
    "        return EMERGENCY_STOP.is_set() or (time.time() > self.time_limit)\n",
    "\n",
    "    def remaining(self):\n",
    "        return max(0, self.time_limit - time.time())"
   ]
  },
  {
   "cell_type": "code",
   "execution_count": 20,
   "id": "d38ec4b8",
   "metadata": {
    "execution": {
     "iopub.execute_input": "2025-05-03T19:20:17.935128Z",
     "iopub.status.busy": "2025-05-03T19:20:17.934940Z",
     "iopub.status.idle": "2025-05-03T19:20:17.938796Z",
     "shell.execute_reply": "2025-05-03T19:20:17.938128Z"
    },
    "papermill": {
     "duration": 0.012465,
     "end_time": "2025-05-03T19:20:17.939933",
     "exception": false,
     "start_time": "2025-05-03T19:20:17.927468",
     "status": "completed"
    },
    "tags": []
   },
   "outputs": [],
   "source": [
    "def get_mask_info(output_dir):\n",
    "    \"\"\"Generate mask_info list based on existing frame files\"\"\"\n",
    "    mask_info = []\n",
    "    for idx in range(Config.num_frames):\n",
    "        frame_num = f\"{idx:02d}\"\n",
    "        umf_path = os.path.join(output_dir, f\"{frame_num}_UMF.jpg\")\n",
    "        mask_info.append(1 if os.path.exists(umf_path) else 0)\n",
    "    return mask_info"
   ]
  },
  {
   "cell_type": "code",
   "execution_count": 21,
   "id": "79fa87d7",
   "metadata": {
    "execution": {
     "iopub.execute_input": "2025-05-03T19:20:17.954981Z",
     "iopub.status.busy": "2025-05-03T19:20:17.954733Z",
     "iopub.status.idle": "2025-05-03T19:20:17.970535Z",
     "shell.execute_reply": "2025-05-03T19:20:17.969863Z"
    },
    "papermill": {
     "duration": 0.02465,
     "end_time": "2025-05-03T19:20:17.971562",
     "exception": false,
     "start_time": "2025-05-03T19:20:17.946912",
     "status": "completed"
    },
    "tags": []
   },
   "outputs": [],
   "source": [
    "def process_dataset():\n",
    "\n",
    "    try:\n",
    "        # First-run initialization\n",
    "        if not os.path.exists(Config.checkpoint_file):\n",
    "            print(\"🚀 Starting first-run processing\")\n",
    "            # Create fresh checkpoint structure\n",
    "            checkpoint = {\n",
    "                \"processed\": {\"train\": [], \"dev\": [], \"test\": []},\n",
    "                \"metadata\": {\"train\": [], \"dev\": [], \"test\": []}\n",
    "            }\n",
    "            AtomicCheckpointManager.save(checkpoint)\n",
    "        else:\n",
    "            previous_run_path = \"/kaggle/input/continue-video-frame-extraction\"\n",
    "            if os.path.exists(previous_run_path):\n",
    "                print(\"🚚 Loading previous run data...\")\n",
    "                try:\n",
    "                    if os.path.exists(Config.output_root):\n",
    "                        print(f\"🔧 Cleaning existing output directory {Config.output_root}\")\n",
    "                        shutil.rmtree(Config.output_root)\n",
    "                    if os.path.exists(Config.checkpoint_file):\n",
    "                        print(f\"🔧 Removing existing checkpoint {Config.checkpoint_file}\")\n",
    "                        os.remove(Config.checkpoint_file)\n",
    "    \n",
    "                    src_checkpoint = os.path.join(previous_run_path, \"extraction_checkpoint.json\")\n",
    "                    if os.path.exists(src_checkpoint):\n",
    "                        print(f\"⚙️ Copying checkpoint from {src_checkpoint}\")\n",
    "                        shutil.copy(src_checkpoint, Config.checkpoint_file)\n",
    "    \n",
    "                    src_frames = os.path.join(previous_run_path, \"preprocessed_frames\")\n",
    "                    if os.path.exists(src_frames):\n",
    "                        print(f\"⚙️ Merging frames from {src_frames}\")\n",
    "                        shutil.copytree(\n",
    "                            src_frames,\n",
    "                            Config.output_root,\n",
    "                            dirs_exist_ok=True\n",
    "                        )\n",
    "                    print(\"✅ Previous run data loaded successfully\")\n",
    "                except Exception as e:\n",
    "                    print(f\"❌ Failed to load previous run: {str(e)}\")\n",
    "                    raise\n",
    "\n",
    "        # ALWAYS load input data\n",
    "        with open(Config.input_json) as f:\n",
    "            original_data = json.load(f)\n",
    "            assert all(split in original_data for split in ['train', 'dev', 'test']), \\\n",
    "            \"Invalid JSON structure - missing required splits\"\n",
    "\n",
    "        checkpoint = AtomicCheckpointManager.load()\n",
    "        terminator = GracefulTerminator()\n",
    "\n",
    "\n",
    "        \n",
    "        for split in ['train', 'dev', 'test']:\n",
    "            split_dir = os.path.join(Config.output_root, split)\n",
    "            os.makedirs(split_dir, exist_ok=True)\n",
    "                \n",
    "\n",
    "        # IMPROVEMENT: Calculate initial counts per split\n",
    "        initial_counts = {\n",
    "            split: len(checkpoint[\"processed\"][split])\n",
    "            for split in ['train', 'dev', 'test']\n",
    "        }\n",
    "\n",
    "\n",
    "        \n",
    "        # IMPROVEMENT : Cross-split progress tracking\n",
    "        total_videos = sum(len(original_data[s]) for s in ['train', 'dev', 'test'])\n",
    "        main_pbar = tqdm(total=total_videos, initial=sum(initial_counts.values()), desc=\"Total Progress\")\n",
    "\n",
    "        \n",
    "        # Main processing logic\n",
    "        for split in ['train', 'dev', 'test']:\n",
    "            split_dir = os.path.join(Config.output_root, split)\n",
    "            os.makedirs(split_dir, exist_ok=True)\n",
    "\n",
    "            # Get processed videos for this split\n",
    "            processed_videos = set(checkpoint[\"processed\"][split])\n",
    "            total_in_split = len(original_data[split])\n",
    "\n",
    "            # Create filtered list and progress bar\n",
    "            unprocessed_items = [\n",
    "                item for item in original_data[split]\n",
    "                if [k for k in item.keys() if k not in ('y', 'label')][0] not in processed_videos\n",
    "            ]\n",
    "\n",
    "            # CORRECTED: Track progress through full dataset\n",
    "            split_pbar = tqdm(\n",
    "                unprocessed_items,\n",
    "                desc=f\"Processing {split}\",\n",
    "                total=total_in_split,\n",
    "                initial=initial_counts[split]\n",
    "            )\n",
    "            \n",
    "            \n",
    "            for item in original_data[split]:\n",
    "                if terminator.should_stop():\n",
    "                    print(\"🛑 Emergency stop triggered - terminating\")\n",
    "                    raise SystemExit\n",
    "                \n",
    "                # Extract video key (e.g., \"0_0\")\n",
    "                video_key = [k for k in item.keys() if k not in ('y', 'label')][0]\n",
    "                video_path = item[video_key]\n",
    "                output_dir = os.path.join(split_dir, video_key)\n",
    "\n",
    "                # Skip already processed WITHOUT updating progress bar\n",
    "                if video_key in processed_videos:\n",
    "                    continue\n",
    "                    \n",
    "                \n",
    "                try:\n",
    "                    \n",
    "                    if os.path.exists(output_dir):\n",
    "                        existing_frames = len([\n",
    "                            f for f in os.listdir(output_dir) \n",
    "                            if f.endswith(\".jpg\") and not f.startswith(\"_temp\")\n",
    "                        ])\n",
    "                        if existing_frames == Config.frame_validation_threshold:\n",
    "                \n",
    "                            # IMPROVEMENT : Immediate checkpoint update\n",
    "                            print(f\"⏩ Skipping {video_key} (has {existing_frames} valid frames)\")\n",
    "\n",
    "                            mask_info = get_mask_info(output_dir)  # Changed line\n",
    "                            \n",
    "                            checkpoint[\"metadata\"][split].append({\n",
    "                                **item,\n",
    "                                \"frames_dir\": output_dir,\n",
    "                                \"mask_info\": mask_info  # Now using actual validation\n",
    "                            })\n",
    "                            \n",
    "                            checkpoint[\"processed\"][split].append(video_key)\n",
    "                            AtomicCheckpointManager.save(checkpoint)\n",
    "                            split_pbar.update(1)\n",
    "                            main_pbar.update(1)\n",
    "                            continue\n",
    "                        shutil.rmtree(output_dir)\n",
    "                    \n",
    "                    mask_info = process_video(video_path, output_dir)\n",
    "                    \n",
    "                    checkpoint[\"metadata\"][split].append({\n",
    "                        **item,\n",
    "                        \"frames_dir\": output_dir,\n",
    "                        \"mask_info\": mask_info\n",
    "                    })\n",
    "                    checkpoint[\"processed\"][split].append(video_key)\n",
    "                    \n",
    "                    if len(checkpoint[\"processed\"][split]) % 5 == 0:\n",
    "                        AtomicCheckpointManager.save(checkpoint)\n",
    "                        print(f\"💾 Saved checkpoint after {len(checkpoint['processed'][split])} {split} videos\")\n",
    "                    \n",
    "                    # IMPROVEMENT 3: Update main progress bar\n",
    "                    main_pbar.update(1)\n",
    "                    \n",
    "                except Exception as e:\n",
    "                    print(f\"❌ Error processing {video_key}: {str(e)}\")\n",
    "                    if os.path.exists(output_dir):\n",
    "                        shutil.rmtree(output_dir)\n",
    "                    raise\n",
    "\n",
    "            \n",
    "            split_pbar.close()\n",
    "            AtomicCheckpointManager.save(checkpoint)\n",
    "            \n",
    "            print(f\"💾 Saved final checkpoint for {split} split\")\n",
    "\n",
    "        main_pbar.close()\n",
    "        \n",
    "        print(\"✅ All processing completed successfully!\")\n",
    "        return checkpoint\n",
    "\n",
    "    except SystemExit:\n",
    "        print(\"🌀 Cleaning up after emergency stop\")\n",
    "        AtomicCheckpointManager.save(checkpoint)\n",
    "        raise\n",
    "    except Exception as e:\n",
    "        print(f\"❌ Unexpected error: {str(e)}\")\n",
    "        raise"
   ]
  },
  {
   "cell_type": "code",
   "execution_count": 22,
   "id": "57fc1687",
   "metadata": {
    "execution": {
     "iopub.execute_input": "2025-05-03T19:20:17.987050Z",
     "iopub.status.busy": "2025-05-03T19:20:17.986499Z",
     "iopub.status.idle": "2025-05-03T19:20:17.993095Z",
     "shell.execute_reply": "2025-05-03T19:20:17.992414Z"
    },
    "papermill": {
     "duration": 0.01542,
     "end_time": "2025-05-03T19:20:17.994165",
     "exception": false,
     "start_time": "2025-05-03T19:20:17.978745",
     "status": "completed"
    },
    "tags": []
   },
   "outputs": [],
   "source": [
    "def handle_session_end(signum, frame):\n",
    "    lock_file = \"/kaggle/working/.save_lock\"\n",
    "    lock_fd = None\n",
    "    \n",
    "    try:\n",
    "        lock_fd = os.open(lock_file, os.O_CREAT | os.O_WRONLY)\n",
    "        try:\n",
    "            fcntl.flock(lock_fd, fcntl.LOCK_EX | fcntl.LOCK_NB)\n",
    "        except BlockingIOError:\n",
    "            print(\"⏳ Save already in progress - skipping duplicate\")\n",
    "            return\n",
    "\n",
    "        print(f\"\\n⚠️ Session ending! Saving state (Signal {signum})\")\n",
    "        \n",
    "        if not os.path.exists(Config.checkpoint_file):\n",
    "            print(\"🔄 No checkpoint to save\")\n",
    "            return\n",
    "\n",
    "        with tempfile.TemporaryDirectory() as tmpdir:\n",
    "            tmp_checkpoint = os.path.join(tmpdir, \"checkpoint.json\")\n",
    "            shutil.copy(Config.checkpoint_file, tmp_checkpoint)\n",
    "            \n",
    "            tmp_tar = os.path.join(tmpdir, \"emergency.tar.gz\")\n",
    "            with tarfile.open(tmp_tar, \"w:gz\") as tar:\n",
    "                tar.add(Config.output_root, arcname=\"preprocessed_frames\")\n",
    "                tar.add(tmp_checkpoint, arcname=\"checkpoint.json\")\n",
    "            \n",
    "            shutil.move(tmp_tar, \"/kaggle/working/emergency_snapshot.tar.gz\")\n",
    "            print(\"✅ Emergency save completed\")\n",
    "\n",
    "    except Exception as e:\n",
    "        print(f\"❌ Emergency save failed: {str(e)}\")\n",
    "    finally:\n",
    "        if lock_fd is not None:\n",
    "            try:\n",
    "                fcntl.flock(lock_fd, fcntl.LOCK_UN)\n",
    "                os.close(lock_fd)\n",
    "            except OSError:\n",
    "                pass\n",
    "        try:\n",
    "            os.remove(lock_file)\n",
    "        except FileNotFoundError:\n",
    "            pass\n",
    "        EMERGENCY_STOP.set()\n",
    "        sys.exit(1)"
   ]
  },
  {
   "cell_type": "code",
   "execution_count": 23,
   "id": "f605e78f",
   "metadata": {
    "execution": {
     "iopub.execute_input": "2025-05-03T19:20:18.009342Z",
     "iopub.status.busy": "2025-05-03T19:20:18.008928Z",
     "iopub.status.idle": "2025-05-03T19:20:18.012719Z",
     "shell.execute_reply": "2025-05-03T19:20:18.012217Z"
    },
    "papermill": {
     "duration": 0.012435,
     "end_time": "2025-05-03T19:20:18.013785",
     "exception": false,
     "start_time": "2025-05-03T19:20:18.001350",
     "status": "completed"
    },
    "tags": []
   },
   "outputs": [],
   "source": [
    "def resume_processing():\n",
    "    # First-run detection\n",
    "    if not os.path.exists(Config.checkpoint_file):\n",
    "        print(\"🆕 No existing checkpoint - starting fresh processing\")\n",
    "        process_dataset()\n",
    "        return\n",
    "    \n",
    "    # Existing resume logic\n",
    "    signal.signal(signal.SIGTERM, handle_session_end)\n",
    "    signal.signal(signal.SIGHUP, handle_session_end)\n",
    "    signal.signal(signal.SIGINT, handle_session_end)\n",
    "    \n",
    "    process_dataset()"
   ]
  },
  {
   "cell_type": "markdown",
   "id": "dd2894b5",
   "metadata": {
    "papermill": {
     "duration": 0.006954,
     "end_time": "2025-05-03T19:20:18.028079",
     "exception": false,
     "start_time": "2025-05-03T19:20:18.021125",
     "status": "completed"
    },
    "tags": []
   },
   "source": [
    "---"
   ]
  },
  {
   "cell_type": "markdown",
   "id": "19237bd0",
   "metadata": {
    "papermill": {
     "duration": 0.00691,
     "end_time": "2025-05-03T19:20:18.042164",
     "exception": false,
     "start_time": "2025-05-03T19:20:18.035254",
     "status": "completed"
    },
    "tags": []
   },
   "source": [
    "# Improved Speaker Detection Mechanism"
   ]
  },
  {
   "cell_type": "code",
   "execution_count": 24,
   "id": "97f8fde7",
   "metadata": {
    "execution": {
     "iopub.execute_input": "2025-05-03T19:20:18.057345Z",
     "iopub.status.busy": "2025-05-03T19:20:18.057146Z",
     "iopub.status.idle": "2025-05-03T19:20:18.071307Z",
     "shell.execute_reply": "2025-05-03T19:20:18.070780Z"
    },
    "papermill": {
     "duration": 0.023182,
     "end_time": "2025-05-03T19:20:18.072382",
     "exception": false,
     "start_time": "2025-05-03T19:20:18.049200",
     "status": "completed"
    },
    "tags": []
   },
   "outputs": [],
   "source": [
    "def process_video(video_path, output_dir):\n",
    "    temp_dir = f\"{output_dir}_processing\"\n",
    "    final_dir = output_dir\n",
    "    cap = None\n",
    "    \n",
    "    try:\n",
    "        os.makedirs(temp_dir, exist_ok=True)\n",
    "        os.makedirs(final_dir, exist_ok=True)\n",
    "        mask_info = []\n",
    "        \n",
    "        speaker_encoding = identify_main_speaker(video_path)\n",
    "        \n",
    "        cap = cv2.VideoCapture(video_path)\n",
    "        if not cap.isOpened():\n",
    "            raise RuntimeError(f\"Could not open video {video_path}\")\n",
    "            \n",
    "        frames = []\n",
    "        confirmed_focus = None\n",
    "        detector = dlib.cnn_face_detection_model_v1('mmod_human_face_detector.dat')\n",
    "        \n",
    "        tracker = None\n",
    "        tracking_failures = 0\n",
    "        last_valid_face = None\n",
    "        \n",
    "        while cap.isOpened():\n",
    "            ret, frame = cap.read()\n",
    "            if not ret:\n",
    "                break\n",
    "                \n",
    "            rgb = cv2.cvtColor(frame, cv2.COLOR_BGR2RGB)\n",
    "            current_face = None\n",
    "            \n",
    "            if tracker is not None:\n",
    "                tracking_quality = tracker.update(rgb)\n",
    "                if tracking_quality >= Config.tracking_quality_threshold:\n",
    "                    tracked_pos = tracker.get_position()\n",
    "                    t = int(tracked_pos.top())\n",
    "                    r = int(tracked_pos.right())\n",
    "                    b = int(tracked_pos.bottom())\n",
    "                    l = int(tracked_pos.left())\n",
    "                    current_face = (t, r, b, l)\n",
    "                    tracking_failures = 0\n",
    "                    last_valid_face = current_face\n",
    "                else:\n",
    "                    tracking_failures += 1\n",
    "                    if tracking_failures > Config.max_tracking_failures:\n",
    "                        tracker = None\n",
    "                        tracking_failures = 0\n",
    "            \n",
    "            if current_face is None:\n",
    "                dlib_faces = detector(rgb, 1)\n",
    "                valid_faces = []\n",
    "                for face in dlib_faces:\n",
    "                    if face.confidence >= Config.face_confidence:\n",
    "                        rect = face.rect\n",
    "                        valid_faces.append((rect.top(), rect.right(), rect.bottom(), rect.left()))\n",
    "                \n",
    "                best_face = None\n",
    "                best_similarity = -1\n",
    "                \n",
    "                if speaker_encoding is not None:\n",
    "                    for (t, r, b, l) in valid_faces:\n",
    "                        encoding = face_recognition.face_encodings(rgb, [(t, r, b, l)])[0]\n",
    "                        similarity = 1 - face_recognition.face_distance([speaker_encoding], encoding)[0]\n",
    "                        if similarity > best_similarity and similarity >= Config.similarity_threshold:\n",
    "                            best_similarity = similarity\n",
    "                            best_face = (t, r, b, l)\n",
    "                \n",
    "                if best_face:\n",
    "                    t, r, b, l = best_face\n",
    "                    current_face = (t, r, b, l)\n",
    "                    tracker = dlib.correlation_tracker()\n",
    "                    tracker.start_track(rgb, dlib.rectangle(l, t, r, b))\n",
    "                    last_valid_face = current_face\n",
    "                elif last_valid_face:\n",
    "                    current_face = last_valid_face\n",
    "                elif valid_faces:\n",
    "                    frame_center = (rgb.shape[1]//2, rgb.shape[0]//2)\n",
    "                    closest_dist = float('inf')\n",
    "                    for face in valid_faces:\n",
    "                        t, r, b, l = face\n",
    "                        face_center = ((l + r)//2, (t + b)//2)\n",
    "                        dist = (face_center[0]-frame_center[0])**2 + (face_center[1]-frame_center[1])**2\n",
    "                        if dist < closest_dist:\n",
    "                            closest_dist = dist\n",
    "                            current_face = face\n",
    "                    last_valid_face = current_face\n",
    "                else:\n",
    "                    current_face = None\n",
    "            \n",
    "            if current_face:\n",
    "                t, r, b, l = current_face\n",
    "            elif confirmed_focus:\n",
    "                x, y, w, h = confirmed_focus\n",
    "                l, t, r, b = x, y, x + w, y + h\n",
    "            else:\n",
    "                t, r, b, l = 0, frame.shape[1], frame.shape[0], 0\n",
    "            \n",
    "            orig_height = b - t\n",
    "            orig_width = r - l\n",
    "            new_t = int(max(0, t - orig_height * Config.bbox_expand_ratio))\n",
    "            new_b = int(min(frame.shape[0], b + orig_height * Config.bbox_expand_ratio))\n",
    "            new_l = int(max(0, l - orig_width * Config.bbox_expand_ratio))\n",
    "            new_r = int(min(frame.shape[1], r + orig_width * Config.bbox_expand_ratio))\n",
    "            \n",
    "            cropped = frame[new_t:new_b, new_l:new_r]\n",
    "            resized = cv2.resize(cropped, Config.crop_size)\n",
    "            frames.append(resized)\n",
    "            confirmed_focus = (new_l, new_t, new_r - new_l, new_b - new_t)\n",
    "        \n",
    "        cap.release()\n",
    "    \n",
    "        valid_frames = [f for f in frames if np.mean(f) > 10]\n",
    "        for idx in range(Config.num_frames):\n",
    "            frame = valid_frames[idx] if idx < len(valid_frames) else np.zeros((*Config.crop_size, 3), dtype=np.uint8)\n",
    "            frame_type = \"UMF\" if idx < len(valid_frames) else \"MF\"\n",
    "            output_path = f\"{final_dir}/{idx:02d}_{frame_type}.jpg\"\n",
    "            AtomicFrameSaver.save_frame(cv2.cvtColor(frame, cv2.COLOR_RGB2BGR), output_path)\n",
    "            mask_info.append(1 if frame_type == \"UMF\" else 0)\n",
    "        \n",
    "        return mask_info\n",
    "        \n",
    "    except Exception as e:\n",
    "        if os.path.exists(temp_dir):\n",
    "            shutil.rmtree(temp_dir)\n",
    "        raise\n",
    "    finally:\n",
    "        if cap is not None:\n",
    "            cap.release()\n",
    "        if os.path.exists(temp_dir):\n",
    "            shutil.rmtree(temp_dir)"
   ]
  },
  {
   "cell_type": "markdown",
   "id": "8c5a6daa",
   "metadata": {
    "papermill": {
     "duration": 0.007056,
     "end_time": "2025-05-03T19:20:18.086714",
     "exception": false,
     "start_time": "2025-05-03T19:20:18.079658",
     "status": "completed"
    },
    "tags": []
   },
   "source": [
    "---"
   ]
  },
  {
   "cell_type": "markdown",
   "id": "361cb59e",
   "metadata": {
    "papermill": {
     "duration": 0.006977,
     "end_time": "2025-05-03T19:20:18.100908",
     "exception": false,
     "start_time": "2025-05-03T19:20:18.093931",
     "status": "completed"
    },
    "tags": []
   },
   "source": [
    "# Processing the Input Data"
   ]
  },
  {
   "cell_type": "code",
   "execution_count": 25,
   "id": "e183e868",
   "metadata": {
    "execution": {
     "iopub.execute_input": "2025-05-03T19:20:18.116727Z",
     "iopub.status.busy": "2025-05-03T19:20:18.116171Z",
     "iopub.status.idle": "2025-05-04T06:51:59.231047Z",
     "shell.execute_reply": "2025-05-04T06:51:59.230008Z"
    },
    "papermill": {
     "duration": 41501.12367,
     "end_time": "2025-05-04T06:51:59.231984",
     "exception": true,
     "start_time": "2025-05-03T19:20:18.108314",
     "status": "failed"
    },
    "tags": []
   },
   "outputs": [
    {
     "name": "stdout",
     "output_type": "stream",
     "text": [
      "🚚 Loading previous run data...\n",
      "🔧 Cleaning existing output directory /kaggle/working/preprocessed_frames\n",
      "🔧 Removing existing checkpoint /kaggle/working/extraction_checkpoint.json\n",
      "⚙️ Copying checkpoint from /kaggle/input/continue-video-frame-extraction/extraction_checkpoint.json\n",
      "⚙️ Merging frames from /kaggle/input/continue-video-frame-extraction/preprocessed_frames\n",
      "✅ Previous run data loaded successfully\n",
      "⏰ Auto-save at: Sun May  4 06:51:58 2025\n"
     ]
    },
    {
     "name": "stderr",
     "output_type": "stream",
     "text": [
      "Total Progress:  19%|█▊        | 2539/13706 [00:00<?, ?it/s]\n",
      "Total Progress:  19%|█▊        | 2540/13706 [00:17<53:03:59, 17.11s/it]"
     ]
    },
    {
     "name": "stdout",
     "output_type": "stream",
     "text": [
      "💾 Saved checkpoint after 2540 train videos\n"
     ]
    },
    {
     "name": "stderr",
     "output_type": "stream",
     "text": [
      "Total Progress:  19%|█▊        | 2545/13706 [02:26<79:41:59, 25.71s/it]"
     ]
    },
    {
     "name": "stdout",
     "output_type": "stream",
     "text": [
      "💾 Saved checkpoint after 2545 train videos\n"
     ]
    },
    {
     "name": "stderr",
     "output_type": "stream",
     "text": [
      "Total Progress:  19%|█▊        | 2550/13706 [04:03<62:34:20, 20.19s/it]"
     ]
    },
    {
     "name": "stdout",
     "output_type": "stream",
     "text": [
      "💾 Saved checkpoint after 2550 train videos\n"
     ]
    },
    {
     "name": "stderr",
     "output_type": "stream",
     "text": [
      "Total Progress:  19%|█▊        | 2555/13706 [04:55<39:09:27, 12.64s/it]"
     ]
    },
    {
     "name": "stdout",
     "output_type": "stream",
     "text": [
      "💾 Saved checkpoint after 2555 train videos\n"
     ]
    },
    {
     "name": "stderr",
     "output_type": "stream",
     "text": [
      "Total Progress:  19%|█▊        | 2560/13706 [06:33<54:28:37, 17.60s/it]"
     ]
    },
    {
     "name": "stdout",
     "output_type": "stream",
     "text": [
      "💾 Saved checkpoint after 2560 train videos\n"
     ]
    },
    {
     "name": "stderr",
     "output_type": "stream",
     "text": [
      "Total Progress:  19%|█▊        | 2565/13706 [07:39<37:08:04, 12.00s/it]"
     ]
    },
    {
     "name": "stdout",
     "output_type": "stream",
     "text": [
      "💾 Saved checkpoint after 2565 train videos\n"
     ]
    },
    {
     "name": "stderr",
     "output_type": "stream",
     "text": [
      "Total Progress:  19%|█▉        | 2570/13706 [08:34<29:26:41,  9.52s/it]"
     ]
    },
    {
     "name": "stdout",
     "output_type": "stream",
     "text": [
      "💾 Saved checkpoint after 2570 train videos\n"
     ]
    },
    {
     "name": "stderr",
     "output_type": "stream",
     "text": [
      "Total Progress:  19%|█▉        | 2575/13706 [09:27<30:11:49,  9.77s/it]"
     ]
    },
    {
     "name": "stdout",
     "output_type": "stream",
     "text": [
      "💾 Saved checkpoint after 2575 train videos\n"
     ]
    },
    {
     "name": "stderr",
     "output_type": "stream",
     "text": [
      "Total Progress:  19%|█▉        | 2580/13706 [10:51<35:11:00, 11.38s/it]"
     ]
    },
    {
     "name": "stdout",
     "output_type": "stream",
     "text": [
      "💾 Saved checkpoint after 2580 train videos\n"
     ]
    },
    {
     "name": "stderr",
     "output_type": "stream",
     "text": [
      "Total Progress:  19%|█▉        | 2585/13706 [11:52<36:41:03, 11.88s/it]"
     ]
    },
    {
     "name": "stdout",
     "output_type": "stream",
     "text": [
      "💾 Saved checkpoint after 2585 train videos\n"
     ]
    },
    {
     "name": "stderr",
     "output_type": "stream",
     "text": [
      "Total Progress:  19%|█▉        | 2590/13706 [12:56<34:26:16, 11.15s/it]"
     ]
    },
    {
     "name": "stdout",
     "output_type": "stream",
     "text": [
      "💾 Saved checkpoint after 2590 train videos\n"
     ]
    },
    {
     "name": "stderr",
     "output_type": "stream",
     "text": [
      "Total Progress:  19%|█▉        | 2595/13706 [14:17<34:01:55, 11.03s/it]"
     ]
    },
    {
     "name": "stdout",
     "output_type": "stream",
     "text": [
      "💾 Saved checkpoint after 2595 train videos\n"
     ]
    },
    {
     "name": "stderr",
     "output_type": "stream",
     "text": [
      "Total Progress:  19%|█▉        | 2600/13706 [15:07<30:11:28,  9.79s/it]"
     ]
    },
    {
     "name": "stdout",
     "output_type": "stream",
     "text": [
      "💾 Saved checkpoint after 2600 train videos\n"
     ]
    },
    {
     "name": "stderr",
     "output_type": "stream",
     "text": [
      "Total Progress:  19%|█▉        | 2605/13706 [16:41<43:40:28, 14.16s/it]"
     ]
    },
    {
     "name": "stdout",
     "output_type": "stream",
     "text": [
      "💾 Saved checkpoint after 2605 train videos\n"
     ]
    },
    {
     "name": "stderr",
     "output_type": "stream",
     "text": [
      "Total Progress:  19%|█▉        | 2610/13706 [18:33<54:17:52, 17.62s/it]"
     ]
    },
    {
     "name": "stdout",
     "output_type": "stream",
     "text": [
      "💾 Saved checkpoint after 2610 train videos\n"
     ]
    },
    {
     "name": "stderr",
     "output_type": "stream",
     "text": [
      "Total Progress:  19%|█▉        | 2615/13706 [20:48<91:07:22, 29.58s/it]"
     ]
    },
    {
     "name": "stdout",
     "output_type": "stream",
     "text": [
      "💾 Saved checkpoint after 2615 train videos\n"
     ]
    },
    {
     "name": "stderr",
     "output_type": "stream",
     "text": [
      "Total Progress:  19%|█▉        | 2620/13706 [21:57<57:13:08, 18.58s/it]"
     ]
    },
    {
     "name": "stdout",
     "output_type": "stream",
     "text": [
      "💾 Saved checkpoint after 2620 train videos\n"
     ]
    },
    {
     "name": "stderr",
     "output_type": "stream",
     "text": [
      "Total Progress:  19%|█▉        | 2625/13706 [23:28<52:10:28, 16.95s/it]"
     ]
    },
    {
     "name": "stdout",
     "output_type": "stream",
     "text": [
      "💾 Saved checkpoint after 2625 train videos\n"
     ]
    },
    {
     "name": "stderr",
     "output_type": "stream",
     "text": [
      "Total Progress:  19%|█▉        | 2630/13706 [24:17<39:10:23, 12.73s/it]"
     ]
    },
    {
     "name": "stdout",
     "output_type": "stream",
     "text": [
      "💾 Saved checkpoint after 2630 train videos\n"
     ]
    },
    {
     "name": "stderr",
     "output_type": "stream",
     "text": [
      "Total Progress:  19%|█▉        | 2635/13706 [25:21<39:06:50, 12.72s/it]"
     ]
    },
    {
     "name": "stdout",
     "output_type": "stream",
     "text": [
      "💾 Saved checkpoint after 2635 train videos\n"
     ]
    },
    {
     "name": "stderr",
     "output_type": "stream",
     "text": [
      "Total Progress:  19%|█▉        | 2640/13706 [26:36<42:59:27, 13.99s/it]"
     ]
    },
    {
     "name": "stdout",
     "output_type": "stream",
     "text": [
      "💾 Saved checkpoint after 2640 train videos\n"
     ]
    },
    {
     "name": "stderr",
     "output_type": "stream",
     "text": [
      "Total Progress:  19%|█▉        | 2645/13706 [27:53<43:30:12, 14.16s/it]"
     ]
    },
    {
     "name": "stdout",
     "output_type": "stream",
     "text": [
      "💾 Saved checkpoint after 2645 train videos\n"
     ]
    },
    {
     "name": "stderr",
     "output_type": "stream",
     "text": [
      "Total Progress:  19%|█▉        | 2650/13706 [28:59<36:10:48, 11.78s/it]"
     ]
    },
    {
     "name": "stdout",
     "output_type": "stream",
     "text": [
      "💾 Saved checkpoint after 2650 train videos\n"
     ]
    },
    {
     "name": "stderr",
     "output_type": "stream",
     "text": [
      "Total Progress:  19%|█▉        | 2655/13706 [29:46<29:07:51,  9.49s/it]"
     ]
    },
    {
     "name": "stdout",
     "output_type": "stream",
     "text": [
      "💾 Saved checkpoint after 2655 train videos\n"
     ]
    },
    {
     "name": "stderr",
     "output_type": "stream",
     "text": [
      "Total Progress:  19%|█▉        | 2660/13706 [30:58<40:24:39, 13.17s/it]"
     ]
    },
    {
     "name": "stdout",
     "output_type": "stream",
     "text": [
      "💾 Saved checkpoint after 2660 train videos\n"
     ]
    },
    {
     "name": "stderr",
     "output_type": "stream",
     "text": [
      "Total Progress:  19%|█▉        | 2665/13706 [31:54<32:01:50, 10.44s/it]"
     ]
    },
    {
     "name": "stdout",
     "output_type": "stream",
     "text": [
      "💾 Saved checkpoint after 2665 train videos\n"
     ]
    },
    {
     "name": "stderr",
     "output_type": "stream",
     "text": [
      "Total Progress:  19%|█▉        | 2670/13706 [33:44<59:37:28, 19.45s/it]"
     ]
    },
    {
     "name": "stdout",
     "output_type": "stream",
     "text": [
      "💾 Saved checkpoint after 2670 train videos\n"
     ]
    },
    {
     "name": "stderr",
     "output_type": "stream",
     "text": [
      "Total Progress:  20%|█▉        | 2675/13706 [35:07<50:05:44, 16.35s/it]"
     ]
    },
    {
     "name": "stdout",
     "output_type": "stream",
     "text": [
      "💾 Saved checkpoint after 2675 train videos\n"
     ]
    },
    {
     "name": "stderr",
     "output_type": "stream",
     "text": [
      "Total Progress:  20%|█▉        | 2680/13706 [36:19<43:18:48, 14.14s/it]"
     ]
    },
    {
     "name": "stdout",
     "output_type": "stream",
     "text": [
      "💾 Saved checkpoint after 2680 train videos\n"
     ]
    },
    {
     "name": "stderr",
     "output_type": "stream",
     "text": [
      "Total Progress:  20%|█▉        | 2685/13706 [38:20<82:40:24, 27.01s/it]"
     ]
    },
    {
     "name": "stdout",
     "output_type": "stream",
     "text": [
      "💾 Saved checkpoint after 2685 train videos\n"
     ]
    },
    {
     "name": "stderr",
     "output_type": "stream",
     "text": [
      "Total Progress:  20%|█▉        | 2690/13706 [39:24<44:14:10, 14.46s/it]"
     ]
    },
    {
     "name": "stdout",
     "output_type": "stream",
     "text": [
      "💾 Saved checkpoint after 2690 train videos\n"
     ]
    },
    {
     "name": "stderr",
     "output_type": "stream",
     "text": [
      "Total Progress:  20%|█▉        | 2695/13706 [40:06<29:51:45,  9.76s/it]"
     ]
    },
    {
     "name": "stdout",
     "output_type": "stream",
     "text": [
      "💾 Saved checkpoint after 2695 train videos\n"
     ]
    },
    {
     "name": "stderr",
     "output_type": "stream",
     "text": [
      "Total Progress:  20%|█▉        | 2700/13706 [41:32<46:36:18, 15.24s/it]"
     ]
    },
    {
     "name": "stdout",
     "output_type": "stream",
     "text": [
      "💾 Saved checkpoint after 2700 train videos\n"
     ]
    },
    {
     "name": "stderr",
     "output_type": "stream",
     "text": [
      "Total Progress:  20%|█▉        | 2705/13706 [43:10<53:12:43, 17.41s/it]"
     ]
    },
    {
     "name": "stdout",
     "output_type": "stream",
     "text": [
      "💾 Saved checkpoint after 2705 train videos\n"
     ]
    },
    {
     "name": "stderr",
     "output_type": "stream",
     "text": [
      "Total Progress:  20%|█▉        | 2710/13706 [43:53<36:16:06, 11.87s/it]"
     ]
    },
    {
     "name": "stdout",
     "output_type": "stream",
     "text": [
      "💾 Saved checkpoint after 2710 train videos\n"
     ]
    },
    {
     "name": "stderr",
     "output_type": "stream",
     "text": [
      "Total Progress:  20%|█▉        | 2715/13706 [45:01<36:57:12, 12.10s/it]"
     ]
    },
    {
     "name": "stdout",
     "output_type": "stream",
     "text": [
      "💾 Saved checkpoint after 2715 train videos\n"
     ]
    },
    {
     "name": "stderr",
     "output_type": "stream",
     "text": [
      "Total Progress:  20%|█▉        | 2720/13706 [46:03<35:55:35, 11.77s/it]"
     ]
    },
    {
     "name": "stdout",
     "output_type": "stream",
     "text": [
      "💾 Saved checkpoint after 2720 train videos\n"
     ]
    },
    {
     "name": "stderr",
     "output_type": "stream",
     "text": [
      "Total Progress:  20%|█▉        | 2725/13706 [46:58<40:40:48, 13.34s/it]"
     ]
    },
    {
     "name": "stdout",
     "output_type": "stream",
     "text": [
      "💾 Saved checkpoint after 2725 train videos\n"
     ]
    },
    {
     "name": "stderr",
     "output_type": "stream",
     "text": [
      "Total Progress:  20%|█▉        | 2730/13706 [48:26<56:41:28, 18.59s/it]"
     ]
    },
    {
     "name": "stdout",
     "output_type": "stream",
     "text": [
      "💾 Saved checkpoint after 2730 train videos\n"
     ]
    },
    {
     "name": "stderr",
     "output_type": "stream",
     "text": [
      "Total Progress:  20%|█▉        | 2735/13706 [50:55<93:21:59, 30.64s/it] "
     ]
    },
    {
     "name": "stdout",
     "output_type": "stream",
     "text": [
      "💾 Saved checkpoint after 2735 train videos\n"
     ]
    },
    {
     "name": "stderr",
     "output_type": "stream",
     "text": [
      "Total Progress:  20%|█▉        | 2740/13706 [52:14<58:29:28, 19.20s/it]"
     ]
    },
    {
     "name": "stdout",
     "output_type": "stream",
     "text": [
      "💾 Saved checkpoint after 2740 train videos\n"
     ]
    },
    {
     "name": "stderr",
     "output_type": "stream",
     "text": [
      "Total Progress:  20%|██        | 2745/13706 [53:30<42:15:27, 13.88s/it]"
     ]
    },
    {
     "name": "stdout",
     "output_type": "stream",
     "text": [
      "💾 Saved checkpoint after 2745 train videos\n"
     ]
    },
    {
     "name": "stderr",
     "output_type": "stream",
     "text": [
      "Total Progress:  20%|██        | 2750/13706 [55:05<55:02:48, 18.09s/it]"
     ]
    },
    {
     "name": "stdout",
     "output_type": "stream",
     "text": [
      "💾 Saved checkpoint after 2750 train videos\n"
     ]
    },
    {
     "name": "stderr",
     "output_type": "stream",
     "text": [
      "Total Progress:  20%|██        | 2755/13706 [56:59<58:17:48, 19.16s/it]"
     ]
    },
    {
     "name": "stdout",
     "output_type": "stream",
     "text": [
      "💾 Saved checkpoint after 2755 train videos\n"
     ]
    },
    {
     "name": "stderr",
     "output_type": "stream",
     "text": [
      "Total Progress:  20%|██        | 2760/13706 [57:38<27:12:29,  8.95s/it]"
     ]
    },
    {
     "name": "stdout",
     "output_type": "stream",
     "text": [
      "💾 Saved checkpoint after 2760 train videos\n"
     ]
    },
    {
     "name": "stderr",
     "output_type": "stream",
     "text": [
      "Total Progress:  20%|██        | 2765/13706 [58:39<44:08:35, 14.52s/it]"
     ]
    },
    {
     "name": "stdout",
     "output_type": "stream",
     "text": [
      "💾 Saved checkpoint after 2765 train videos\n"
     ]
    },
    {
     "name": "stderr",
     "output_type": "stream",
     "text": [
      "Total Progress:  20%|██        | 2770/13706 [59:20<28:18:11,  9.32s/it]"
     ]
    },
    {
     "name": "stdout",
     "output_type": "stream",
     "text": [
      "💾 Saved checkpoint after 2770 train videos\n"
     ]
    },
    {
     "name": "stderr",
     "output_type": "stream",
     "text": [
      "Total Progress:  20%|██        | 2775/13706 [1:00:14<32:37:29, 10.74s/it]"
     ]
    },
    {
     "name": "stdout",
     "output_type": "stream",
     "text": [
      "💾 Saved checkpoint after 2775 train videos\n"
     ]
    },
    {
     "name": "stderr",
     "output_type": "stream",
     "text": [
      "Total Progress:  20%|██        | 2780/13706 [1:00:47<21:16:00,  7.01s/it]"
     ]
    },
    {
     "name": "stdout",
     "output_type": "stream",
     "text": [
      "💾 Saved checkpoint after 2780 train videos\n"
     ]
    },
    {
     "name": "stderr",
     "output_type": "stream",
     "text": [
      "Total Progress:  20%|██        | 2785/13706 [1:01:41<33:15:37, 10.96s/it]"
     ]
    },
    {
     "name": "stdout",
     "output_type": "stream",
     "text": [
      "💾 Saved checkpoint after 2785 train videos\n"
     ]
    },
    {
     "name": "stderr",
     "output_type": "stream",
     "text": [
      "Total Progress:  20%|██        | 2790/13706 [1:02:32<33:18:14, 10.98s/it]"
     ]
    },
    {
     "name": "stdout",
     "output_type": "stream",
     "text": [
      "💾 Saved checkpoint after 2790 train videos\n"
     ]
    },
    {
     "name": "stderr",
     "output_type": "stream",
     "text": [
      "Total Progress:  20%|██        | 2795/13706 [1:04:04<60:40:47, 20.02s/it]"
     ]
    },
    {
     "name": "stdout",
     "output_type": "stream",
     "text": [
      "💾 Saved checkpoint after 2795 train videos\n"
     ]
    },
    {
     "name": "stderr",
     "output_type": "stream",
     "text": [
      "Total Progress:  20%|██        | 2800/13706 [1:04:49<32:45:44, 10.81s/it]"
     ]
    },
    {
     "name": "stdout",
     "output_type": "stream",
     "text": [
      "💾 Saved checkpoint after 2800 train videos\n"
     ]
    },
    {
     "name": "stderr",
     "output_type": "stream",
     "text": [
      "Total Progress:  20%|██        | 2805/13706 [1:05:49<39:48:18, 13.15s/it]"
     ]
    },
    {
     "name": "stdout",
     "output_type": "stream",
     "text": [
      "💾 Saved checkpoint after 2805 train videos\n"
     ]
    },
    {
     "name": "stderr",
     "output_type": "stream",
     "text": [
      "Total Progress:  21%|██        | 2810/13706 [1:06:42<28:14:17,  9.33s/it]"
     ]
    },
    {
     "name": "stdout",
     "output_type": "stream",
     "text": [
      "💾 Saved checkpoint after 2810 train videos\n"
     ]
    },
    {
     "name": "stderr",
     "output_type": "stream",
     "text": [
      "Total Progress:  21%|██        | 2815/13706 [1:07:15<20:14:36,  6.69s/it]"
     ]
    },
    {
     "name": "stdout",
     "output_type": "stream",
     "text": [
      "💾 Saved checkpoint after 2815 train videos\n"
     ]
    },
    {
     "name": "stderr",
     "output_type": "stream",
     "text": [
      "Total Progress:  21%|██        | 2820/13706 [1:08:29<41:12:19, 13.63s/it]"
     ]
    },
    {
     "name": "stdout",
     "output_type": "stream",
     "text": [
      "💾 Saved checkpoint after 2820 train videos\n"
     ]
    },
    {
     "name": "stderr",
     "output_type": "stream",
     "text": [
      "Total Progress:  21%|██        | 2825/13706 [1:09:06<28:00:33,  9.27s/it]"
     ]
    },
    {
     "name": "stdout",
     "output_type": "stream",
     "text": [
      "💾 Saved checkpoint after 2825 train videos\n"
     ]
    },
    {
     "name": "stderr",
     "output_type": "stream",
     "text": [
      "Total Progress:  21%|██        | 2830/13706 [1:09:52<24:17:30,  8.04s/it]"
     ]
    },
    {
     "name": "stdout",
     "output_type": "stream",
     "text": [
      "💾 Saved checkpoint after 2830 train videos\n"
     ]
    },
    {
     "name": "stderr",
     "output_type": "stream",
     "text": [
      "Total Progress:  21%|██        | 2835/13706 [1:11:39<61:24:36, 20.34s/it]"
     ]
    },
    {
     "name": "stdout",
     "output_type": "stream",
     "text": [
      "💾 Saved checkpoint after 2835 train videos\n"
     ]
    },
    {
     "name": "stderr",
     "output_type": "stream",
     "text": [
      "Total Progress:  21%|██        | 2840/13706 [1:12:38<39:58:27, 13.24s/it]"
     ]
    },
    {
     "name": "stdout",
     "output_type": "stream",
     "text": [
      "💾 Saved checkpoint after 2840 train videos\n"
     ]
    },
    {
     "name": "stderr",
     "output_type": "stream",
     "text": [
      "Total Progress:  21%|██        | 2845/13706 [1:14:09<45:40:01, 15.14s/it]"
     ]
    },
    {
     "name": "stdout",
     "output_type": "stream",
     "text": [
      "💾 Saved checkpoint after 2845 train videos\n"
     ]
    },
    {
     "name": "stderr",
     "output_type": "stream",
     "text": [
      "Total Progress:  21%|██        | 2850/13706 [1:15:57<81:07:10, 26.90s/it]"
     ]
    },
    {
     "name": "stdout",
     "output_type": "stream",
     "text": [
      "💾 Saved checkpoint after 2850 train videos\n"
     ]
    },
    {
     "name": "stderr",
     "output_type": "stream",
     "text": [
      "Total Progress:  21%|██        | 2855/13706 [1:17:46<67:07:18, 22.27s/it]"
     ]
    },
    {
     "name": "stdout",
     "output_type": "stream",
     "text": [
      "💾 Saved checkpoint after 2855 train videos\n"
     ]
    },
    {
     "name": "stderr",
     "output_type": "stream",
     "text": [
      "Total Progress:  21%|██        | 2860/13706 [1:19:46<79:09:19, 26.27s/it]"
     ]
    },
    {
     "name": "stdout",
     "output_type": "stream",
     "text": [
      "💾 Saved checkpoint after 2860 train videos\n"
     ]
    },
    {
     "name": "stderr",
     "output_type": "stream",
     "text": [
      "Total Progress:  21%|██        | 2865/13706 [1:21:15<61:50:50, 20.54s/it]"
     ]
    },
    {
     "name": "stdout",
     "output_type": "stream",
     "text": [
      "💾 Saved checkpoint after 2865 train videos\n"
     ]
    },
    {
     "name": "stderr",
     "output_type": "stream",
     "text": [
      "Total Progress:  21%|██        | 2870/13706 [1:22:34<55:02:57, 18.29s/it]"
     ]
    },
    {
     "name": "stdout",
     "output_type": "stream",
     "text": [
      "💾 Saved checkpoint after 2870 train videos\n"
     ]
    },
    {
     "name": "stderr",
     "output_type": "stream",
     "text": [
      "Total Progress:  21%|██        | 2875/13706 [1:24:50<72:57:24, 24.25s/it]"
     ]
    },
    {
     "name": "stdout",
     "output_type": "stream",
     "text": [
      "💾 Saved checkpoint after 2875 train videos\n"
     ]
    },
    {
     "name": "stderr",
     "output_type": "stream",
     "text": [
      "Total Progress:  21%|██        | 2880/13706 [1:26:07<48:23:25, 16.09s/it]"
     ]
    },
    {
     "name": "stdout",
     "output_type": "stream",
     "text": [
      "💾 Saved checkpoint after 2880 train videos\n"
     ]
    },
    {
     "name": "stderr",
     "output_type": "stream",
     "text": [
      "Total Progress:  21%|██        | 2885/13706 [1:27:58<68:45:53, 22.88s/it]"
     ]
    },
    {
     "name": "stdout",
     "output_type": "stream",
     "text": [
      "💾 Saved checkpoint after 2885 train videos\n"
     ]
    },
    {
     "name": "stderr",
     "output_type": "stream",
     "text": [
      "Total Progress:  21%|██        | 2890/13706 [1:29:05<44:07:51, 14.69s/it]"
     ]
    },
    {
     "name": "stdout",
     "output_type": "stream",
     "text": [
      "💾 Saved checkpoint after 2890 train videos\n"
     ]
    },
    {
     "name": "stderr",
     "output_type": "stream",
     "text": [
      "Total Progress:  21%|██        | 2895/13706 [1:30:19<42:16:49, 14.08s/it]"
     ]
    },
    {
     "name": "stdout",
     "output_type": "stream",
     "text": [
      "💾 Saved checkpoint after 2895 train videos\n"
     ]
    },
    {
     "name": "stderr",
     "output_type": "stream",
     "text": [
      "Total Progress:  21%|██        | 2900/13706 [1:31:44<56:22:34, 18.78s/it]"
     ]
    },
    {
     "name": "stdout",
     "output_type": "stream",
     "text": [
      "💾 Saved checkpoint after 2900 train videos\n"
     ]
    },
    {
     "name": "stderr",
     "output_type": "stream",
     "text": [
      "Total Progress:  21%|██        | 2905/13706 [1:32:40<39:38:22, 13.21s/it]"
     ]
    },
    {
     "name": "stdout",
     "output_type": "stream",
     "text": [
      "💾 Saved checkpoint after 2905 train videos\n"
     ]
    },
    {
     "name": "stderr",
     "output_type": "stream",
     "text": [
      "Total Progress:  21%|██        | 2910/13706 [1:33:37<35:09:32, 11.72s/it]"
     ]
    },
    {
     "name": "stdout",
     "output_type": "stream",
     "text": [
      "💾 Saved checkpoint after 2910 train videos\n"
     ]
    },
    {
     "name": "stderr",
     "output_type": "stream",
     "text": [
      "Total Progress:  21%|██▏       | 2915/13706 [1:35:43<76:50:37, 25.64s/it]"
     ]
    },
    {
     "name": "stdout",
     "output_type": "stream",
     "text": [
      "💾 Saved checkpoint after 2915 train videos\n"
     ]
    },
    {
     "name": "stderr",
     "output_type": "stream",
     "text": [
      "Total Progress:  21%|██▏       | 2920/13706 [1:38:00<81:04:18, 27.06s/it]"
     ]
    },
    {
     "name": "stdout",
     "output_type": "stream",
     "text": [
      "💾 Saved checkpoint after 2920 train videos\n"
     ]
    },
    {
     "name": "stderr",
     "output_type": "stream",
     "text": [
      "Total Progress:  21%|██▏       | 2925/13706 [1:42:50<143:15:32, 47.84s/it]"
     ]
    },
    {
     "name": "stdout",
     "output_type": "stream",
     "text": [
      "💾 Saved checkpoint after 2925 train videos\n"
     ]
    },
    {
     "name": "stderr",
     "output_type": "stream",
     "text": [
      "Total Progress:  21%|██▏       | 2930/13706 [1:43:44<51:20:27, 17.15s/it]"
     ]
    },
    {
     "name": "stdout",
     "output_type": "stream",
     "text": [
      "💾 Saved checkpoint after 2930 train videos\n"
     ]
    },
    {
     "name": "stderr",
     "output_type": "stream",
     "text": [
      "Total Progress:  21%|██▏       | 2935/13706 [1:45:34<54:37:01, 18.25s/it]"
     ]
    },
    {
     "name": "stdout",
     "output_type": "stream",
     "text": [
      "💾 Saved checkpoint after 2935 train videos\n"
     ]
    },
    {
     "name": "stderr",
     "output_type": "stream",
     "text": [
      "Total Progress:  21%|██▏       | 2940/13706 [1:46:41<45:28:21, 15.21s/it]"
     ]
    },
    {
     "name": "stdout",
     "output_type": "stream",
     "text": [
      "💾 Saved checkpoint after 2940 train videos\n"
     ]
    },
    {
     "name": "stderr",
     "output_type": "stream",
     "text": [
      "Total Progress:  21%|██▏       | 2945/13706 [1:47:35<35:24:29, 11.85s/it]"
     ]
    },
    {
     "name": "stdout",
     "output_type": "stream",
     "text": [
      "💾 Saved checkpoint after 2945 train videos\n"
     ]
    },
    {
     "name": "stderr",
     "output_type": "stream",
     "text": [
      "Total Progress:  22%|██▏       | 2950/13706 [1:48:45<40:45:00, 13.64s/it]"
     ]
    },
    {
     "name": "stdout",
     "output_type": "stream",
     "text": [
      "💾 Saved checkpoint after 2950 train videos\n"
     ]
    },
    {
     "name": "stderr",
     "output_type": "stream",
     "text": [
      "Total Progress:  22%|██▏       | 2955/13706 [1:49:38<33:04:19, 11.07s/it]"
     ]
    },
    {
     "name": "stdout",
     "output_type": "stream",
     "text": [
      "💾 Saved checkpoint after 2955 train videos\n"
     ]
    },
    {
     "name": "stderr",
     "output_type": "stream",
     "text": [
      "Total Progress:  22%|██▏       | 2960/13706 [1:51:00<58:40:57, 19.66s/it]"
     ]
    },
    {
     "name": "stdout",
     "output_type": "stream",
     "text": [
      "💾 Saved checkpoint after 2960 train videos\n"
     ]
    },
    {
     "name": "stderr",
     "output_type": "stream",
     "text": [
      "Total Progress:  22%|██▏       | 2965/13706 [1:52:22<55:04:23, 18.46s/it]"
     ]
    },
    {
     "name": "stdout",
     "output_type": "stream",
     "text": [
      "💾 Saved checkpoint after 2965 train videos\n"
     ]
    },
    {
     "name": "stderr",
     "output_type": "stream",
     "text": [
      "Total Progress:  22%|██▏       | 2970/13706 [1:53:27<37:17:38, 12.51s/it]"
     ]
    },
    {
     "name": "stdout",
     "output_type": "stream",
     "text": [
      "💾 Saved checkpoint after 2970 train videos\n"
     ]
    },
    {
     "name": "stderr",
     "output_type": "stream",
     "text": [
      "Total Progress:  22%|██▏       | 2975/13706 [1:54:44<44:47:18, 15.03s/it]"
     ]
    },
    {
     "name": "stdout",
     "output_type": "stream",
     "text": [
      "💾 Saved checkpoint after 2975 train videos\n"
     ]
    },
    {
     "name": "stderr",
     "output_type": "stream",
     "text": [
      "Total Progress:  22%|██▏       | 2980/13706 [1:55:48<41:48:05, 14.03s/it]"
     ]
    },
    {
     "name": "stdout",
     "output_type": "stream",
     "text": [
      "💾 Saved checkpoint after 2980 train videos\n"
     ]
    },
    {
     "name": "stderr",
     "output_type": "stream",
     "text": [
      "Total Progress:  22%|██▏       | 2985/13706 [1:57:24<51:50:50, 17.41s/it]"
     ]
    },
    {
     "name": "stdout",
     "output_type": "stream",
     "text": [
      "💾 Saved checkpoint after 2985 train videos\n"
     ]
    },
    {
     "name": "stderr",
     "output_type": "stream",
     "text": [
      "Total Progress:  22%|██▏       | 2990/13706 [1:58:43<48:13:36, 16.20s/it]"
     ]
    },
    {
     "name": "stdout",
     "output_type": "stream",
     "text": [
      "💾 Saved checkpoint after 2990 train videos\n"
     ]
    },
    {
     "name": "stderr",
     "output_type": "stream",
     "text": [
      "Total Progress:  22%|██▏       | 2995/13706 [2:00:13<54:10:18, 18.21s/it]"
     ]
    },
    {
     "name": "stdout",
     "output_type": "stream",
     "text": [
      "💾 Saved checkpoint after 2995 train videos\n"
     ]
    },
    {
     "name": "stderr",
     "output_type": "stream",
     "text": [
      "Total Progress:  22%|██▏       | 3000/13706 [2:01:12<39:43:08, 13.36s/it]"
     ]
    },
    {
     "name": "stdout",
     "output_type": "stream",
     "text": [
      "💾 Saved checkpoint after 3000 train videos\n"
     ]
    },
    {
     "name": "stderr",
     "output_type": "stream",
     "text": [
      "Total Progress:  22%|██▏       | 3005/13706 [2:02:41<57:43:11, 19.42s/it]"
     ]
    },
    {
     "name": "stdout",
     "output_type": "stream",
     "text": [
      "💾 Saved checkpoint after 3005 train videos\n"
     ]
    },
    {
     "name": "stderr",
     "output_type": "stream",
     "text": [
      "Total Progress:  22%|██▏       | 3010/13706 [2:04:09<51:12:31, 17.24s/it]"
     ]
    },
    {
     "name": "stdout",
     "output_type": "stream",
     "text": [
      "💾 Saved checkpoint after 3010 train videos\n"
     ]
    },
    {
     "name": "stderr",
     "output_type": "stream",
     "text": [
      "Total Progress:  22%|██▏       | 3015/13706 [2:05:19<45:50:13, 15.43s/it]"
     ]
    },
    {
     "name": "stdout",
     "output_type": "stream",
     "text": [
      "💾 Saved checkpoint after 3015 train videos\n"
     ]
    },
    {
     "name": "stderr",
     "output_type": "stream",
     "text": [
      "Total Progress:  22%|██▏       | 3020/13706 [2:06:18<41:14:24, 13.89s/it]"
     ]
    },
    {
     "name": "stdout",
     "output_type": "stream",
     "text": [
      "💾 Saved checkpoint after 3020 train videos\n"
     ]
    },
    {
     "name": "stderr",
     "output_type": "stream",
     "text": [
      "Total Progress:  22%|██▏       | 3025/13706 [2:06:56<23:47:58,  8.02s/it]"
     ]
    },
    {
     "name": "stdout",
     "output_type": "stream",
     "text": [
      "💾 Saved checkpoint after 3025 train videos\n"
     ]
    },
    {
     "name": "stderr",
     "output_type": "stream",
     "text": [
      "Total Progress:  22%|██▏       | 3030/13706 [2:08:29<53:08:02, 17.92s/it]"
     ]
    },
    {
     "name": "stdout",
     "output_type": "stream",
     "text": [
      "💾 Saved checkpoint after 3030 train videos\n"
     ]
    },
    {
     "name": "stderr",
     "output_type": "stream",
     "text": [
      "Total Progress:  22%|██▏       | 3035/13706 [2:09:40<37:05:06, 12.51s/it]"
     ]
    },
    {
     "name": "stdout",
     "output_type": "stream",
     "text": [
      "💾 Saved checkpoint after 3035 train videos\n"
     ]
    },
    {
     "name": "stderr",
     "output_type": "stream",
     "text": [
      "Total Progress:  22%|██▏       | 3040/13706 [2:11:24<61:04:25, 20.61s/it]"
     ]
    },
    {
     "name": "stdout",
     "output_type": "stream",
     "text": [
      "💾 Saved checkpoint after 3040 train videos\n"
     ]
    },
    {
     "name": "stderr",
     "output_type": "stream",
     "text": [
      "Total Progress:  22%|██▏       | 3045/13706 [2:12:39<44:30:56, 15.03s/it]"
     ]
    },
    {
     "name": "stdout",
     "output_type": "stream",
     "text": [
      "💾 Saved checkpoint after 3045 train videos\n"
     ]
    },
    {
     "name": "stderr",
     "output_type": "stream",
     "text": [
      "Total Progress:  22%|██▏       | 3050/13706 [2:13:53<51:55:41, 17.54s/it]"
     ]
    },
    {
     "name": "stdout",
     "output_type": "stream",
     "text": [
      "💾 Saved checkpoint after 3050 train videos\n"
     ]
    },
    {
     "name": "stderr",
     "output_type": "stream",
     "text": [
      "Total Progress:  22%|██▏       | 3055/13706 [2:14:44<35:03:08, 11.85s/it]"
     ]
    },
    {
     "name": "stdout",
     "output_type": "stream",
     "text": [
      "💾 Saved checkpoint after 3055 train videos\n"
     ]
    },
    {
     "name": "stderr",
     "output_type": "stream",
     "text": [
      "Total Progress:  22%|██▏       | 3060/13706 [2:16:23<65:52:43, 22.28s/it]"
     ]
    },
    {
     "name": "stdout",
     "output_type": "stream",
     "text": [
      "💾 Saved checkpoint after 3060 train videos\n"
     ]
    },
    {
     "name": "stderr",
     "output_type": "stream",
     "text": [
      "Total Progress:  22%|██▏       | 3065/13706 [2:17:48<42:45:34, 14.47s/it]"
     ]
    },
    {
     "name": "stdout",
     "output_type": "stream",
     "text": [
      "💾 Saved checkpoint after 3065 train videos\n"
     ]
    },
    {
     "name": "stderr",
     "output_type": "stream",
     "text": [
      "Total Progress:  22%|██▏       | 3070/13706 [2:18:29<28:12:32,  9.55s/it]"
     ]
    },
    {
     "name": "stdout",
     "output_type": "stream",
     "text": [
      "💾 Saved checkpoint after 3070 train videos\n"
     ]
    },
    {
     "name": "stderr",
     "output_type": "stream",
     "text": [
      "Total Progress:  22%|██▏       | 3075/13706 [2:19:03<21:08:29,  7.16s/it]"
     ]
    },
    {
     "name": "stdout",
     "output_type": "stream",
     "text": [
      "💾 Saved checkpoint after 3075 train videos\n"
     ]
    },
    {
     "name": "stderr",
     "output_type": "stream",
     "text": [
      "Total Progress:  22%|██▏       | 3080/13706 [2:20:34<45:20:24, 15.36s/it]"
     ]
    },
    {
     "name": "stdout",
     "output_type": "stream",
     "text": [
      "💾 Saved checkpoint after 3080 train videos\n"
     ]
    },
    {
     "name": "stderr",
     "output_type": "stream",
     "text": [
      "Total Progress:  23%|██▎       | 3085/13706 [2:21:39<36:32:04, 12.38s/it]"
     ]
    },
    {
     "name": "stdout",
     "output_type": "stream",
     "text": [
      "💾 Saved checkpoint after 3085 train videos\n"
     ]
    },
    {
     "name": "stderr",
     "output_type": "stream",
     "text": [
      "Total Progress:  23%|██▎       | 3090/13706 [2:24:48<78:13:42, 26.53s/it]"
     ]
    },
    {
     "name": "stdout",
     "output_type": "stream",
     "text": [
      "💾 Saved checkpoint after 3090 train videos\n"
     ]
    },
    {
     "name": "stderr",
     "output_type": "stream",
     "text": [
      "Total Progress:  23%|██▎       | 3095/13706 [2:25:58<47:31:53, 16.13s/it]"
     ]
    },
    {
     "name": "stdout",
     "output_type": "stream",
     "text": [
      "💾 Saved checkpoint after 3095 train videos\n"
     ]
    },
    {
     "name": "stderr",
     "output_type": "stream",
     "text": [
      "Total Progress:  23%|██▎       | 3100/13706 [2:26:48<34:07:34, 11.58s/it]"
     ]
    },
    {
     "name": "stdout",
     "output_type": "stream",
     "text": [
      "💾 Saved checkpoint after 3100 train videos\n"
     ]
    },
    {
     "name": "stderr",
     "output_type": "stream",
     "text": [
      "Total Progress:  23%|██▎       | 3105/13706 [2:27:42<33:54:41, 11.52s/it]"
     ]
    },
    {
     "name": "stdout",
     "output_type": "stream",
     "text": [
      "💾 Saved checkpoint after 3105 train videos\n"
     ]
    },
    {
     "name": "stderr",
     "output_type": "stream",
     "text": [
      "Total Progress:  23%|██▎       | 3110/13706 [2:28:52<38:07:37, 12.95s/it]"
     ]
    },
    {
     "name": "stdout",
     "output_type": "stream",
     "text": [
      "💾 Saved checkpoint after 3110 train videos\n"
     ]
    },
    {
     "name": "stderr",
     "output_type": "stream",
     "text": [
      "Total Progress:  23%|██▎       | 3115/13706 [2:29:49<34:34:27, 11.75s/it]"
     ]
    },
    {
     "name": "stdout",
     "output_type": "stream",
     "text": [
      "💾 Saved checkpoint after 3115 train videos\n"
     ]
    },
    {
     "name": "stderr",
     "output_type": "stream",
     "text": [
      "Total Progress:  23%|██▎       | 3120/13706 [2:31:29<43:30:43, 14.80s/it]"
     ]
    },
    {
     "name": "stdout",
     "output_type": "stream",
     "text": [
      "💾 Saved checkpoint after 3120 train videos\n"
     ]
    },
    {
     "name": "stderr",
     "output_type": "stream",
     "text": [
      "Total Progress:  23%|██▎       | 3125/13706 [2:32:13<26:24:33,  8.99s/it]"
     ]
    },
    {
     "name": "stdout",
     "output_type": "stream",
     "text": [
      "💾 Saved checkpoint after 3125 train videos\n"
     ]
    },
    {
     "name": "stderr",
     "output_type": "stream",
     "text": [
      "Total Progress:  23%|██▎       | 3130/13706 [2:33:10<33:11:30, 11.30s/it]"
     ]
    },
    {
     "name": "stdout",
     "output_type": "stream",
     "text": [
      "💾 Saved checkpoint after 3130 train videos\n"
     ]
    },
    {
     "name": "stderr",
     "output_type": "stream",
     "text": [
      "Total Progress:  23%|██▎       | 3135/13706 [2:33:56<28:13:23,  9.61s/it]"
     ]
    },
    {
     "name": "stdout",
     "output_type": "stream",
     "text": [
      "💾 Saved checkpoint after 3135 train videos\n"
     ]
    },
    {
     "name": "stderr",
     "output_type": "stream",
     "text": [
      "Total Progress:  23%|██▎       | 3140/13706 [2:35:12<44:17:29, 15.09s/it]"
     ]
    },
    {
     "name": "stdout",
     "output_type": "stream",
     "text": [
      "💾 Saved checkpoint after 3140 train videos\n"
     ]
    },
    {
     "name": "stderr",
     "output_type": "stream",
     "text": [
      "Total Progress:  23%|██▎       | 3145/13706 [2:35:55<31:13:41, 10.64s/it]"
     ]
    },
    {
     "name": "stdout",
     "output_type": "stream",
     "text": [
      "💾 Saved checkpoint after 3145 train videos\n"
     ]
    },
    {
     "name": "stderr",
     "output_type": "stream",
     "text": [
      "Total Progress:  23%|██▎       | 3150/13706 [2:37:02<43:20:04, 14.78s/it]"
     ]
    },
    {
     "name": "stdout",
     "output_type": "stream",
     "text": [
      "💾 Saved checkpoint after 3150 train videos\n"
     ]
    },
    {
     "name": "stderr",
     "output_type": "stream",
     "text": [
      "Total Progress:  23%|██▎       | 3155/13706 [2:37:39<26:11:10,  8.93s/it]"
     ]
    },
    {
     "name": "stdout",
     "output_type": "stream",
     "text": [
      "💾 Saved checkpoint after 3155 train videos\n"
     ]
    },
    {
     "name": "stderr",
     "output_type": "stream",
     "text": [
      "Total Progress:  23%|██▎       | 3160/13706 [2:38:44<33:58:58, 11.60s/it]"
     ]
    },
    {
     "name": "stdout",
     "output_type": "stream",
     "text": [
      "💾 Saved checkpoint after 3160 train videos\n"
     ]
    },
    {
     "name": "stderr",
     "output_type": "stream",
     "text": [
      "Total Progress:  23%|██▎       | 3165/13706 [2:40:09<42:58:02, 14.67s/it]"
     ]
    },
    {
     "name": "stdout",
     "output_type": "stream",
     "text": [
      "💾 Saved checkpoint after 3165 train videos\n"
     ]
    },
    {
     "name": "stderr",
     "output_type": "stream",
     "text": [
      "Total Progress:  23%|██▎       | 3170/13706 [2:41:06<36:09:13, 12.35s/it]"
     ]
    },
    {
     "name": "stdout",
     "output_type": "stream",
     "text": [
      "💾 Saved checkpoint after 3170 train videos\n"
     ]
    },
    {
     "name": "stderr",
     "output_type": "stream",
     "text": [
      "Total Progress:  23%|██▎       | 3175/13706 [2:41:52<29:41:54, 10.15s/it]"
     ]
    },
    {
     "name": "stdout",
     "output_type": "stream",
     "text": [
      "💾 Saved checkpoint after 3175 train videos\n"
     ]
    },
    {
     "name": "stderr",
     "output_type": "stream",
     "text": [
      "Total Progress:  23%|██▎       | 3180/13706 [2:43:40<66:36:31, 22.78s/it]"
     ]
    },
    {
     "name": "stdout",
     "output_type": "stream",
     "text": [
      "💾 Saved checkpoint after 3180 train videos\n"
     ]
    },
    {
     "name": "stderr",
     "output_type": "stream",
     "text": [
      "Total Progress:  23%|██▎       | 3185/13706 [2:44:51<42:25:23, 14.52s/it]"
     ]
    },
    {
     "name": "stdout",
     "output_type": "stream",
     "text": [
      "💾 Saved checkpoint after 3185 train videos\n"
     ]
    },
    {
     "name": "stderr",
     "output_type": "stream",
     "text": [
      "Total Progress:  23%|██▎       | 3190/13706 [2:46:55<55:49:55, 19.11s/it]"
     ]
    },
    {
     "name": "stdout",
     "output_type": "stream",
     "text": [
      "💾 Saved checkpoint after 3190 train videos\n"
     ]
    },
    {
     "name": "stderr",
     "output_type": "stream",
     "text": [
      "Total Progress:  23%|██▎       | 3195/13706 [2:49:21<88:16:26, 30.23s/it]"
     ]
    },
    {
     "name": "stdout",
     "output_type": "stream",
     "text": [
      "💾 Saved checkpoint after 3195 train videos\n"
     ]
    },
    {
     "name": "stderr",
     "output_type": "stream",
     "text": [
      "Total Progress:  23%|██▎       | 3200/13706 [2:50:39<50:36:49, 17.34s/it]"
     ]
    },
    {
     "name": "stdout",
     "output_type": "stream",
     "text": [
      "💾 Saved checkpoint after 3200 train videos\n"
     ]
    },
    {
     "name": "stderr",
     "output_type": "stream",
     "text": [
      "Total Progress:  23%|██▎       | 3205/13706 [2:52:44<75:16:07, 25.80s/it]"
     ]
    },
    {
     "name": "stdout",
     "output_type": "stream",
     "text": [
      "💾 Saved checkpoint after 3205 train videos\n"
     ]
    },
    {
     "name": "stderr",
     "output_type": "stream",
     "text": [
      "Total Progress:  23%|██▎       | 3210/13706 [2:54:14<51:16:21, 17.59s/it]"
     ]
    },
    {
     "name": "stdout",
     "output_type": "stream",
     "text": [
      "💾 Saved checkpoint after 3210 train videos\n"
     ]
    },
    {
     "name": "stderr",
     "output_type": "stream",
     "text": [
      "Total Progress:  23%|██▎       | 3215/13706 [2:55:14<35:10:04, 12.07s/it]"
     ]
    },
    {
     "name": "stdout",
     "output_type": "stream",
     "text": [
      "💾 Saved checkpoint after 3215 train videos\n"
     ]
    },
    {
     "name": "stderr",
     "output_type": "stream",
     "text": [
      "Total Progress:  23%|██▎       | 3220/13706 [2:56:40<42:03:04, 14.44s/it]"
     ]
    },
    {
     "name": "stdout",
     "output_type": "stream",
     "text": [
      "💾 Saved checkpoint after 3220 train videos\n"
     ]
    },
    {
     "name": "stderr",
     "output_type": "stream",
     "text": [
      "Total Progress:  24%|██▎       | 3225/13706 [2:58:08<51:33:40, 17.71s/it]"
     ]
    },
    {
     "name": "stdout",
     "output_type": "stream",
     "text": [
      "💾 Saved checkpoint after 3225 train videos\n"
     ]
    },
    {
     "name": "stderr",
     "output_type": "stream",
     "text": [
      "Total Progress:  24%|██▎       | 3230/13706 [3:00:28<54:03:29, 18.58s/it]"
     ]
    },
    {
     "name": "stdout",
     "output_type": "stream",
     "text": [
      "💾 Saved checkpoint after 3230 train videos\n"
     ]
    },
    {
     "name": "stderr",
     "output_type": "stream",
     "text": [
      "Total Progress:  24%|██▎       | 3235/13706 [3:02:05<55:08:36, 18.96s/it]"
     ]
    },
    {
     "name": "stdout",
     "output_type": "stream",
     "text": [
      "💾 Saved checkpoint after 3235 train videos\n"
     ]
    },
    {
     "name": "stderr",
     "output_type": "stream",
     "text": [
      "Total Progress:  24%|██▎       | 3240/13706 [3:03:14<40:15:05, 13.85s/it]"
     ]
    },
    {
     "name": "stdout",
     "output_type": "stream",
     "text": [
      "💾 Saved checkpoint after 3240 train videos\n"
     ]
    },
    {
     "name": "stderr",
     "output_type": "stream",
     "text": [
      "Total Progress:  24%|██▎       | 3245/13706 [3:04:07<32:17:06, 11.11s/it]"
     ]
    },
    {
     "name": "stdout",
     "output_type": "stream",
     "text": [
      "💾 Saved checkpoint after 3245 train videos\n"
     ]
    },
    {
     "name": "stderr",
     "output_type": "stream",
     "text": [
      "Total Progress:  24%|██▎       | 3250/13706 [3:05:15<35:54:14, 12.36s/it]"
     ]
    },
    {
     "name": "stdout",
     "output_type": "stream",
     "text": [
      "💾 Saved checkpoint after 3250 train videos\n"
     ]
    },
    {
     "name": "stderr",
     "output_type": "stream",
     "text": [
      "Total Progress:  24%|██▎       | 3255/13706 [3:06:20<36:09:43, 12.46s/it]"
     ]
    },
    {
     "name": "stdout",
     "output_type": "stream",
     "text": [
      "💾 Saved checkpoint after 3255 train videos\n"
     ]
    },
    {
     "name": "stderr",
     "output_type": "stream",
     "text": [
      "Total Progress:  24%|██▍       | 3260/13706 [3:07:49<53:35:52, 18.47s/it]"
     ]
    },
    {
     "name": "stdout",
     "output_type": "stream",
     "text": [
      "💾 Saved checkpoint after 3260 train videos\n"
     ]
    },
    {
     "name": "stderr",
     "output_type": "stream",
     "text": [
      "Total Progress:  24%|██▍       | 3265/13706 [3:08:48<36:40:04, 12.64s/it]"
     ]
    },
    {
     "name": "stdout",
     "output_type": "stream",
     "text": [
      "💾 Saved checkpoint after 3265 train videos\n"
     ]
    },
    {
     "name": "stderr",
     "output_type": "stream",
     "text": [
      "Total Progress:  24%|██▍       | 3270/13706 [3:09:43<35:43:00, 12.32s/it]"
     ]
    },
    {
     "name": "stdout",
     "output_type": "stream",
     "text": [
      "💾 Saved checkpoint after 3270 train videos\n"
     ]
    },
    {
     "name": "stderr",
     "output_type": "stream",
     "text": [
      "Total Progress:  24%|██▍       | 3275/13706 [3:10:23<24:01:43,  8.29s/it]"
     ]
    },
    {
     "name": "stdout",
     "output_type": "stream",
     "text": [
      "💾 Saved checkpoint after 3275 train videos\n"
     ]
    },
    {
     "name": "stderr",
     "output_type": "stream",
     "text": [
      "Total Progress:  24%|██▍       | 3280/13706 [3:12:56<88:09:45, 30.44s/it] "
     ]
    },
    {
     "name": "stdout",
     "output_type": "stream",
     "text": [
      "💾 Saved checkpoint after 3280 train videos\n"
     ]
    },
    {
     "name": "stderr",
     "output_type": "stream",
     "text": [
      "Total Progress:  24%|██▍       | 3285/13706 [3:15:05<90:11:27, 31.16s/it]"
     ]
    },
    {
     "name": "stdout",
     "output_type": "stream",
     "text": [
      "💾 Saved checkpoint after 3285 train videos\n"
     ]
    },
    {
     "name": "stderr",
     "output_type": "stream",
     "text": [
      "Total Progress:  24%|██▍       | 3290/13706 [3:16:12<49:54:25, 17.25s/it]"
     ]
    },
    {
     "name": "stdout",
     "output_type": "stream",
     "text": [
      "💾 Saved checkpoint after 3290 train videos\n"
     ]
    },
    {
     "name": "stderr",
     "output_type": "stream",
     "text": [
      "Total Progress:  24%|██▍       | 3295/13706 [3:17:55<62:18:27, 21.55s/it]"
     ]
    },
    {
     "name": "stdout",
     "output_type": "stream",
     "text": [
      "💾 Saved checkpoint after 3295 train videos\n"
     ]
    },
    {
     "name": "stderr",
     "output_type": "stream",
     "text": [
      "Total Progress:  24%|██▍       | 3300/13706 [3:19:02<45:54:12, 15.88s/it]"
     ]
    },
    {
     "name": "stdout",
     "output_type": "stream",
     "text": [
      "💾 Saved checkpoint after 3300 train videos\n"
     ]
    },
    {
     "name": "stderr",
     "output_type": "stream",
     "text": [
      "Total Progress:  24%|██▍       | 3305/13706 [3:19:58<33:17:18, 11.52s/it]"
     ]
    },
    {
     "name": "stdout",
     "output_type": "stream",
     "text": [
      "💾 Saved checkpoint after 3305 train videos\n"
     ]
    },
    {
     "name": "stderr",
     "output_type": "stream",
     "text": [
      "Total Progress:  24%|██▍       | 3310/13706 [3:21:21<35:22:14, 12.25s/it]"
     ]
    },
    {
     "name": "stdout",
     "output_type": "stream",
     "text": [
      "💾 Saved checkpoint after 3310 train videos\n"
     ]
    },
    {
     "name": "stderr",
     "output_type": "stream",
     "text": [
      "Total Progress:  24%|██▍       | 3315/13706 [3:22:28<45:22:45, 15.72s/it]"
     ]
    },
    {
     "name": "stdout",
     "output_type": "stream",
     "text": [
      "💾 Saved checkpoint after 3315 train videos\n"
     ]
    },
    {
     "name": "stderr",
     "output_type": "stream",
     "text": [
      "Total Progress:  24%|██▍       | 3320/13706 [3:23:49<45:10:19, 15.66s/it]"
     ]
    },
    {
     "name": "stdout",
     "output_type": "stream",
     "text": [
      "💾 Saved checkpoint after 3320 train videos\n"
     ]
    },
    {
     "name": "stderr",
     "output_type": "stream",
     "text": [
      "Total Progress:  24%|██▍       | 3325/13706 [3:25:30<51:26:45, 17.84s/it]"
     ]
    },
    {
     "name": "stdout",
     "output_type": "stream",
     "text": [
      "💾 Saved checkpoint after 3325 train videos\n"
     ]
    },
    {
     "name": "stderr",
     "output_type": "stream",
     "text": [
      "Total Progress:  24%|██▍       | 3330/13706 [3:26:44<40:01:38, 13.89s/it]"
     ]
    },
    {
     "name": "stdout",
     "output_type": "stream",
     "text": [
      "💾 Saved checkpoint after 3330 train videos\n"
     ]
    },
    {
     "name": "stderr",
     "output_type": "stream",
     "text": [
      "Total Progress:  24%|██▍       | 3335/13706 [3:27:50<40:16:06, 13.98s/it]"
     ]
    },
    {
     "name": "stdout",
     "output_type": "stream",
     "text": [
      "💾 Saved checkpoint after 3335 train videos\n"
     ]
    },
    {
     "name": "stderr",
     "output_type": "stream",
     "text": [
      "Total Progress:  24%|██▍       | 3340/13706 [3:28:41<27:50:11,  9.67s/it]"
     ]
    },
    {
     "name": "stdout",
     "output_type": "stream",
     "text": [
      "💾 Saved checkpoint after 3340 train videos\n"
     ]
    },
    {
     "name": "stderr",
     "output_type": "stream",
     "text": [
      "Total Progress:  24%|██▍       | 3345/13706 [3:29:33<31:00:31, 10.77s/it]"
     ]
    },
    {
     "name": "stdout",
     "output_type": "stream",
     "text": [
      "💾 Saved checkpoint after 3345 train videos\n"
     ]
    },
    {
     "name": "stderr",
     "output_type": "stream",
     "text": [
      "Total Progress:  24%|██▍       | 3350/13706 [3:30:15<23:43:22,  8.25s/it]"
     ]
    },
    {
     "name": "stdout",
     "output_type": "stream",
     "text": [
      "💾 Saved checkpoint after 3350 train videos\n"
     ]
    },
    {
     "name": "stderr",
     "output_type": "stream",
     "text": [
      "Total Progress:  24%|██▍       | 3355/13706 [3:31:57<51:42:57, 17.99s/it]"
     ]
    },
    {
     "name": "stdout",
     "output_type": "stream",
     "text": [
      "💾 Saved checkpoint after 3355 train videos\n"
     ]
    },
    {
     "name": "stderr",
     "output_type": "stream",
     "text": [
      "Total Progress:  25%|██▍       | 3360/13706 [3:33:29<50:52:24, 17.70s/it]"
     ]
    },
    {
     "name": "stdout",
     "output_type": "stream",
     "text": [
      "💾 Saved checkpoint after 3360 train videos\n"
     ]
    },
    {
     "name": "stderr",
     "output_type": "stream",
     "text": [
      "Total Progress:  25%|██▍       | 3365/13706 [3:34:48<39:05:36, 13.61s/it]"
     ]
    },
    {
     "name": "stdout",
     "output_type": "stream",
     "text": [
      "💾 Saved checkpoint after 3365 train videos\n"
     ]
    },
    {
     "name": "stderr",
     "output_type": "stream",
     "text": [
      "Total Progress:  25%|██▍       | 3370/13706 [3:36:37<46:07:58, 16.07s/it]"
     ]
    },
    {
     "name": "stdout",
     "output_type": "stream",
     "text": [
      "💾 Saved checkpoint after 3370 train videos\n"
     ]
    },
    {
     "name": "stderr",
     "output_type": "stream",
     "text": [
      "Total Progress:  25%|██▍       | 3375/13706 [3:37:24<31:10:31, 10.86s/it]"
     ]
    },
    {
     "name": "stdout",
     "output_type": "stream",
     "text": [
      "💾 Saved checkpoint after 3375 train videos\n"
     ]
    },
    {
     "name": "stderr",
     "output_type": "stream",
     "text": [
      "Total Progress:  25%|██▍       | 3380/13706 [3:39:01<39:00:45, 13.60s/it]"
     ]
    },
    {
     "name": "stdout",
     "output_type": "stream",
     "text": [
      "💾 Saved checkpoint after 3380 train videos\n"
     ]
    },
    {
     "name": "stderr",
     "output_type": "stream",
     "text": [
      "Total Progress:  25%|██▍       | 3385/13706 [3:40:03<45:10:49, 15.76s/it]"
     ]
    },
    {
     "name": "stdout",
     "output_type": "stream",
     "text": [
      "💾 Saved checkpoint after 3385 train videos\n"
     ]
    },
    {
     "name": "stderr",
     "output_type": "stream",
     "text": [
      "Total Progress:  25%|██▍       | 3390/13706 [3:41:22<44:04:01, 15.38s/it]"
     ]
    },
    {
     "name": "stdout",
     "output_type": "stream",
     "text": [
      "💾 Saved checkpoint after 3390 train videos\n"
     ]
    },
    {
     "name": "stderr",
     "output_type": "stream",
     "text": [
      "Total Progress:  25%|██▍       | 3395/13706 [3:42:22<33:58:27, 11.86s/it]"
     ]
    },
    {
     "name": "stdout",
     "output_type": "stream",
     "text": [
      "💾 Saved checkpoint after 3395 train videos\n"
     ]
    },
    {
     "name": "stderr",
     "output_type": "stream",
     "text": [
      "Total Progress:  25%|██▍       | 3400/13706 [3:43:11<32:30:13, 11.35s/it]"
     ]
    },
    {
     "name": "stdout",
     "output_type": "stream",
     "text": [
      "💾 Saved checkpoint after 3400 train videos\n"
     ]
    },
    {
     "name": "stderr",
     "output_type": "stream",
     "text": [
      "Total Progress:  25%|██▍       | 3405/13706 [3:44:00<29:38:28, 10.36s/it]"
     ]
    },
    {
     "name": "stdout",
     "output_type": "stream",
     "text": [
      "💾 Saved checkpoint after 3405 train videos\n"
     ]
    },
    {
     "name": "stderr",
     "output_type": "stream",
     "text": [
      "Total Progress:  25%|██▍       | 3410/13706 [3:45:01<31:21:07, 10.96s/it]"
     ]
    },
    {
     "name": "stdout",
     "output_type": "stream",
     "text": [
      "💾 Saved checkpoint after 3410 train videos\n"
     ]
    },
    {
     "name": "stderr",
     "output_type": "stream",
     "text": [
      "Total Progress:  25%|██▍       | 3415/13706 [3:47:09<57:53:27, 20.25s/it]"
     ]
    },
    {
     "name": "stdout",
     "output_type": "stream",
     "text": [
      "💾 Saved checkpoint after 3415 train videos\n"
     ]
    },
    {
     "name": "stderr",
     "output_type": "stream",
     "text": [
      "Total Progress:  25%|██▍       | 3420/13706 [3:48:47<49:45:10, 17.41s/it]"
     ]
    },
    {
     "name": "stdout",
     "output_type": "stream",
     "text": [
      "💾 Saved checkpoint after 3420 train videos\n"
     ]
    },
    {
     "name": "stderr",
     "output_type": "stream",
     "text": [
      "Total Progress:  25%|██▍       | 3425/13706 [3:50:40<76:42:38, 26.86s/it]"
     ]
    },
    {
     "name": "stdout",
     "output_type": "stream",
     "text": [
      "💾 Saved checkpoint after 3425 train videos\n"
     ]
    },
    {
     "name": "stderr",
     "output_type": "stream",
     "text": [
      "Total Progress:  25%|██▌       | 3430/13706 [3:51:55<49:36:26, 17.38s/it]"
     ]
    },
    {
     "name": "stdout",
     "output_type": "stream",
     "text": [
      "💾 Saved checkpoint after 3430 train videos\n"
     ]
    },
    {
     "name": "stderr",
     "output_type": "stream",
     "text": [
      "Total Progress:  25%|██▌       | 3435/13706 [3:53:04<39:22:37, 13.80s/it]"
     ]
    },
    {
     "name": "stdout",
     "output_type": "stream",
     "text": [
      "💾 Saved checkpoint after 3435 train videos\n"
     ]
    },
    {
     "name": "stderr",
     "output_type": "stream",
     "text": [
      "Total Progress:  25%|██▌       | 3440/13706 [3:53:59<32:28:12, 11.39s/it]"
     ]
    },
    {
     "name": "stdout",
     "output_type": "stream",
     "text": [
      "💾 Saved checkpoint after 3440 train videos\n"
     ]
    },
    {
     "name": "stderr",
     "output_type": "stream",
     "text": [
      "Total Progress:  25%|██▌       | 3445/13706 [3:55:17<42:49:14, 15.02s/it]"
     ]
    },
    {
     "name": "stdout",
     "output_type": "stream",
     "text": [
      "💾 Saved checkpoint after 3445 train videos\n"
     ]
    },
    {
     "name": "stderr",
     "output_type": "stream",
     "text": [
      "Total Progress:  25%|██▌       | 3450/13706 [3:57:08<57:10:34, 20.07s/it]"
     ]
    },
    {
     "name": "stdout",
     "output_type": "stream",
     "text": [
      "💾 Saved checkpoint after 3450 train videos\n"
     ]
    },
    {
     "name": "stderr",
     "output_type": "stream",
     "text": [
      "Total Progress:  25%|██▌       | 3455/13706 [3:59:05<59:14:59, 20.81s/it]"
     ]
    },
    {
     "name": "stdout",
     "output_type": "stream",
     "text": [
      "💾 Saved checkpoint after 3455 train videos\n"
     ]
    },
    {
     "name": "stderr",
     "output_type": "stream",
     "text": [
      "Total Progress:  25%|██▌       | 3460/13706 [4:00:40<46:52:41, 16.47s/it]"
     ]
    },
    {
     "name": "stdout",
     "output_type": "stream",
     "text": [
      "💾 Saved checkpoint after 3460 train videos\n"
     ]
    },
    {
     "name": "stderr",
     "output_type": "stream",
     "text": [
      "Total Progress:  25%|██▌       | 3465/13706 [4:01:28<31:57:11, 11.23s/it]"
     ]
    },
    {
     "name": "stdout",
     "output_type": "stream",
     "text": [
      "💾 Saved checkpoint after 3465 train videos\n"
     ]
    },
    {
     "name": "stderr",
     "output_type": "stream",
     "text": [
      "Total Progress:  25%|██▌       | 3470/13706 [4:02:36<36:21:24, 12.79s/it]"
     ]
    },
    {
     "name": "stdout",
     "output_type": "stream",
     "text": [
      "💾 Saved checkpoint after 3470 train videos\n"
     ]
    },
    {
     "name": "stderr",
     "output_type": "stream",
     "text": [
      "Total Progress:  25%|██▌       | 3475/13706 [4:03:59<43:55:02, 15.45s/it]"
     ]
    },
    {
     "name": "stdout",
     "output_type": "stream",
     "text": [
      "💾 Saved checkpoint after 3475 train videos\n"
     ]
    },
    {
     "name": "stderr",
     "output_type": "stream",
     "text": [
      "Total Progress:  25%|██▌       | 3480/13706 [4:04:30<21:58:25,  7.74s/it]"
     ]
    },
    {
     "name": "stdout",
     "output_type": "stream",
     "text": [
      "💾 Saved checkpoint after 3480 train videos\n"
     ]
    },
    {
     "name": "stderr",
     "output_type": "stream",
     "text": [
      "Total Progress:  25%|██▌       | 3485/13706 [4:06:12<48:10:42, 16.97s/it]"
     ]
    },
    {
     "name": "stdout",
     "output_type": "stream",
     "text": [
      "💾 Saved checkpoint after 3485 train videos\n"
     ]
    },
    {
     "name": "stderr",
     "output_type": "stream",
     "text": [
      "Total Progress:  25%|██▌       | 3490/13706 [4:07:28<38:47:38, 13.67s/it]"
     ]
    },
    {
     "name": "stdout",
     "output_type": "stream",
     "text": [
      "💾 Saved checkpoint after 3490 train videos\n"
     ]
    },
    {
     "name": "stderr",
     "output_type": "stream",
     "text": [
      "Total Progress:  25%|██▌       | 3495/13706 [4:08:11<24:48:56,  8.75s/it]"
     ]
    },
    {
     "name": "stdout",
     "output_type": "stream",
     "text": [
      "💾 Saved checkpoint after 3495 train videos\n"
     ]
    },
    {
     "name": "stderr",
     "output_type": "stream",
     "text": [
      "Total Progress:  26%|██▌       | 3500/13706 [4:09:10<28:32:04, 10.07s/it]"
     ]
    },
    {
     "name": "stdout",
     "output_type": "stream",
     "text": [
      "💾 Saved checkpoint after 3500 train videos\n"
     ]
    },
    {
     "name": "stderr",
     "output_type": "stream",
     "text": [
      "Total Progress:  26%|██▌       | 3505/13706 [4:09:58<31:21:55, 11.07s/it]"
     ]
    },
    {
     "name": "stdout",
     "output_type": "stream",
     "text": [
      "💾 Saved checkpoint after 3505 train videos\n"
     ]
    },
    {
     "name": "stderr",
     "output_type": "stream",
     "text": [
      "Total Progress:  26%|██▌       | 3510/13706 [4:11:27<54:34:02, 19.27s/it]"
     ]
    },
    {
     "name": "stdout",
     "output_type": "stream",
     "text": [
      "💾 Saved checkpoint after 3510 train videos\n"
     ]
    },
    {
     "name": "stderr",
     "output_type": "stream",
     "text": [
      "Total Progress:  26%|██▌       | 3515/13706 [4:14:21<77:59:21, 27.55s/it]"
     ]
    },
    {
     "name": "stdout",
     "output_type": "stream",
     "text": [
      "💾 Saved checkpoint after 3515 train videos\n"
     ]
    },
    {
     "name": "stderr",
     "output_type": "stream",
     "text": [
      "Total Progress:  26%|██▌       | 3520/13706 [4:15:09<30:40:52, 10.84s/it]"
     ]
    },
    {
     "name": "stdout",
     "output_type": "stream",
     "text": [
      "💾 Saved checkpoint after 3520 train videos\n"
     ]
    },
    {
     "name": "stderr",
     "output_type": "stream",
     "text": [
      "Total Progress:  26%|██▌       | 3525/13706 [4:15:51<27:52:01,  9.85s/it]"
     ]
    },
    {
     "name": "stdout",
     "output_type": "stream",
     "text": [
      "💾 Saved checkpoint after 3525 train videos\n"
     ]
    },
    {
     "name": "stderr",
     "output_type": "stream",
     "text": [
      "Total Progress:  26%|██▌       | 3530/13706 [4:16:38<26:40:30,  9.44s/it]"
     ]
    },
    {
     "name": "stdout",
     "output_type": "stream",
     "text": [
      "💾 Saved checkpoint after 3530 train videos\n"
     ]
    },
    {
     "name": "stderr",
     "output_type": "stream",
     "text": [
      "Total Progress:  26%|██▌       | 3535/13706 [4:17:26<27:53:25,  9.87s/it]"
     ]
    },
    {
     "name": "stdout",
     "output_type": "stream",
     "text": [
      "💾 Saved checkpoint after 3535 train videos\n"
     ]
    },
    {
     "name": "stderr",
     "output_type": "stream",
     "text": [
      "Total Progress:  26%|██▌       | 3540/13706 [4:18:29<32:14:53, 11.42s/it]"
     ]
    },
    {
     "name": "stdout",
     "output_type": "stream",
     "text": [
      "💾 Saved checkpoint after 3540 train videos\n"
     ]
    },
    {
     "name": "stderr",
     "output_type": "stream",
     "text": [
      "Total Progress:  26%|██▌       | 3545/13706 [4:19:46<53:16:12, 18.87s/it]"
     ]
    },
    {
     "name": "stdout",
     "output_type": "stream",
     "text": [
      "💾 Saved checkpoint after 3545 train videos\n"
     ]
    },
    {
     "name": "stderr",
     "output_type": "stream",
     "text": [
      "Total Progress:  26%|██▌       | 3550/13706 [4:20:53<47:11:55, 16.73s/it]"
     ]
    },
    {
     "name": "stdout",
     "output_type": "stream",
     "text": [
      "💾 Saved checkpoint after 3550 train videos\n"
     ]
    },
    {
     "name": "stderr",
     "output_type": "stream",
     "text": [
      "Total Progress:  26%|██▌       | 3555/13706 [4:21:58<42:43:10, 15.15s/it]"
     ]
    },
    {
     "name": "stdout",
     "output_type": "stream",
     "text": [
      "💾 Saved checkpoint after 3555 train videos\n"
     ]
    },
    {
     "name": "stderr",
     "output_type": "stream",
     "text": [
      "Total Progress:  26%|██▌       | 3560/13706 [4:22:56<34:47:36, 12.35s/it]"
     ]
    },
    {
     "name": "stdout",
     "output_type": "stream",
     "text": [
      "💾 Saved checkpoint after 3560 train videos\n"
     ]
    },
    {
     "name": "stderr",
     "output_type": "stream",
     "text": [
      "Total Progress:  26%|██▌       | 3565/13706 [4:23:38<24:34:06,  8.72s/it]"
     ]
    },
    {
     "name": "stdout",
     "output_type": "stream",
     "text": [
      "💾 Saved checkpoint after 3565 train videos\n"
     ]
    },
    {
     "name": "stderr",
     "output_type": "stream",
     "text": [
      "Total Progress:  26%|██▌       | 3570/13706 [4:25:21<60:41:12, 21.55s/it]"
     ]
    },
    {
     "name": "stdout",
     "output_type": "stream",
     "text": [
      "💾 Saved checkpoint after 3570 train videos\n"
     ]
    },
    {
     "name": "stderr",
     "output_type": "stream",
     "text": [
      "Total Progress:  26%|██▌       | 3575/13706 [4:26:20<36:47:21, 13.07s/it]"
     ]
    },
    {
     "name": "stdout",
     "output_type": "stream",
     "text": [
      "💾 Saved checkpoint after 3575 train videos\n"
     ]
    },
    {
     "name": "stderr",
     "output_type": "stream",
     "text": [
      "Total Progress:  26%|██▌       | 3580/13706 [4:27:38<41:52:39, 14.89s/it]"
     ]
    },
    {
     "name": "stdout",
     "output_type": "stream",
     "text": [
      "💾 Saved checkpoint after 3580 train videos\n"
     ]
    },
    {
     "name": "stderr",
     "output_type": "stream",
     "text": [
      "Total Progress:  26%|██▌       | 3585/13706 [4:28:30<32:48:53, 11.67s/it]"
     ]
    },
    {
     "name": "stdout",
     "output_type": "stream",
     "text": [
      "💾 Saved checkpoint after 3585 train videos\n"
     ]
    },
    {
     "name": "stderr",
     "output_type": "stream",
     "text": [
      "Total Progress:  26%|██▌       | 3590/13706 [4:29:12<25:26:38,  9.05s/it]"
     ]
    },
    {
     "name": "stdout",
     "output_type": "stream",
     "text": [
      "💾 Saved checkpoint after 3590 train videos\n"
     ]
    },
    {
     "name": "stderr",
     "output_type": "stream",
     "text": [
      "Total Progress:  26%|██▌       | 3595/13706 [4:30:27<40:31:03, 14.43s/it]"
     ]
    },
    {
     "name": "stdout",
     "output_type": "stream",
     "text": [
      "💾 Saved checkpoint after 3595 train videos\n"
     ]
    },
    {
     "name": "stderr",
     "output_type": "stream",
     "text": [
      "Total Progress:  26%|██▋       | 3600/13706 [4:31:30<38:24:38, 13.68s/it]"
     ]
    },
    {
     "name": "stdout",
     "output_type": "stream",
     "text": [
      "💾 Saved checkpoint after 3600 train videos\n"
     ]
    },
    {
     "name": "stderr",
     "output_type": "stream",
     "text": [
      "Total Progress:  26%|██▋       | 3605/13706 [4:32:10<23:25:32,  8.35s/it]"
     ]
    },
    {
     "name": "stdout",
     "output_type": "stream",
     "text": [
      "💾 Saved checkpoint after 3605 train videos\n"
     ]
    },
    {
     "name": "stderr",
     "output_type": "stream",
     "text": [
      "Total Progress:  26%|██▋       | 3610/13706 [4:32:36<16:35:25,  5.92s/it]"
     ]
    },
    {
     "name": "stdout",
     "output_type": "stream",
     "text": [
      "💾 Saved checkpoint after 3610 train videos\n"
     ]
    },
    {
     "name": "stderr",
     "output_type": "stream",
     "text": [
      "Total Progress:  26%|██▋       | 3615/13706 [4:34:03<56:54:25, 20.30s/it]"
     ]
    },
    {
     "name": "stdout",
     "output_type": "stream",
     "text": [
      "💾 Saved checkpoint after 3615 train videos\n"
     ]
    },
    {
     "name": "stderr",
     "output_type": "stream",
     "text": [
      "Total Progress:  26%|██▋       | 3620/13706 [4:35:29<45:23:12, 16.20s/it]"
     ]
    },
    {
     "name": "stdout",
     "output_type": "stream",
     "text": [
      "💾 Saved checkpoint after 3620 train videos\n"
     ]
    },
    {
     "name": "stderr",
     "output_type": "stream",
     "text": [
      "Total Progress:  26%|██▋       | 3625/13706 [4:36:55<51:59:48, 18.57s/it]"
     ]
    },
    {
     "name": "stdout",
     "output_type": "stream",
     "text": [
      "💾 Saved checkpoint after 3625 train videos\n"
     ]
    },
    {
     "name": "stderr",
     "output_type": "stream",
     "text": [
      "Total Progress:  26%|██▋       | 3630/13706 [4:37:55<41:07:55, 14.70s/it]"
     ]
    },
    {
     "name": "stdout",
     "output_type": "stream",
     "text": [
      "💾 Saved checkpoint after 3630 train videos\n"
     ]
    },
    {
     "name": "stderr",
     "output_type": "stream",
     "text": [
      "Total Progress:  27%|██▋       | 3635/13706 [4:39:39<49:33:00, 17.71s/it]"
     ]
    },
    {
     "name": "stdout",
     "output_type": "stream",
     "text": [
      "💾 Saved checkpoint after 3635 train videos\n"
     ]
    },
    {
     "name": "stderr",
     "output_type": "stream",
     "text": [
      "Total Progress:  27%|██▋       | 3640/13706 [4:41:22<44:22:16, 15.87s/it]"
     ]
    },
    {
     "name": "stdout",
     "output_type": "stream",
     "text": [
      "💾 Saved checkpoint after 3640 train videos\n"
     ]
    },
    {
     "name": "stderr",
     "output_type": "stream",
     "text": [
      "Total Progress:  27%|██▋       | 3645/13706 [4:42:29<39:39:21, 14.19s/it]"
     ]
    },
    {
     "name": "stdout",
     "output_type": "stream",
     "text": [
      "💾 Saved checkpoint after 3645 train videos\n"
     ]
    },
    {
     "name": "stderr",
     "output_type": "stream",
     "text": [
      "Total Progress:  27%|██▋       | 3650/13706 [4:43:52<47:06:46, 16.87s/it]"
     ]
    },
    {
     "name": "stdout",
     "output_type": "stream",
     "text": [
      "💾 Saved checkpoint after 3650 train videos\n"
     ]
    },
    {
     "name": "stderr",
     "output_type": "stream",
     "text": [
      "Total Progress:  27%|██▋       | 3655/13706 [4:45:10<49:11:15, 17.62s/it]"
     ]
    },
    {
     "name": "stdout",
     "output_type": "stream",
     "text": [
      "💾 Saved checkpoint after 3655 train videos\n"
     ]
    },
    {
     "name": "stderr",
     "output_type": "stream",
     "text": [
      "Total Progress:  27%|██▋       | 3660/13706 [4:45:46<23:35:04,  8.45s/it]"
     ]
    },
    {
     "name": "stdout",
     "output_type": "stream",
     "text": [
      "💾 Saved checkpoint after 3660 train videos\n"
     ]
    },
    {
     "name": "stderr",
     "output_type": "stream",
     "text": [
      "Total Progress:  27%|██▋       | 3665/13706 [4:46:44<29:12:42, 10.47s/it]"
     ]
    },
    {
     "name": "stdout",
     "output_type": "stream",
     "text": [
      "💾 Saved checkpoint after 3665 train videos\n"
     ]
    },
    {
     "name": "stderr",
     "output_type": "stream",
     "text": [
      "Total Progress:  27%|██▋       | 3670/13706 [4:47:29<31:00:43, 11.12s/it]"
     ]
    },
    {
     "name": "stdout",
     "output_type": "stream",
     "text": [
      "💾 Saved checkpoint after 3670 train videos\n"
     ]
    },
    {
     "name": "stderr",
     "output_type": "stream",
     "text": [
      "Total Progress:  27%|██▋       | 3675/13706 [4:48:33<31:41:25, 11.37s/it]"
     ]
    },
    {
     "name": "stdout",
     "output_type": "stream",
     "text": [
      "💾 Saved checkpoint after 3675 train videos\n"
     ]
    },
    {
     "name": "stderr",
     "output_type": "stream",
     "text": [
      "Total Progress:  27%|██▋       | 3680/13706 [4:49:29<32:23:02, 11.63s/it]"
     ]
    },
    {
     "name": "stdout",
     "output_type": "stream",
     "text": [
      "💾 Saved checkpoint after 3680 train videos\n"
     ]
    },
    {
     "name": "stderr",
     "output_type": "stream",
     "text": [
      "Total Progress:  27%|██▋       | 3685/13706 [4:50:54<44:28:44, 15.98s/it]"
     ]
    },
    {
     "name": "stdout",
     "output_type": "stream",
     "text": [
      "💾 Saved checkpoint after 3685 train videos\n"
     ]
    },
    {
     "name": "stderr",
     "output_type": "stream",
     "text": [
      "Total Progress:  27%|██▋       | 3690/13706 [4:52:24<40:04:38, 14.40s/it]"
     ]
    },
    {
     "name": "stdout",
     "output_type": "stream",
     "text": [
      "💾 Saved checkpoint after 3690 train videos\n"
     ]
    },
    {
     "name": "stderr",
     "output_type": "stream",
     "text": [
      "Total Progress:  27%|██▋       | 3695/13706 [4:53:20<32:40:27, 11.75s/it]"
     ]
    },
    {
     "name": "stdout",
     "output_type": "stream",
     "text": [
      "💾 Saved checkpoint after 3695 train videos\n"
     ]
    },
    {
     "name": "stderr",
     "output_type": "stream",
     "text": [
      "Total Progress:  27%|██▋       | 3700/13706 [4:54:22<32:38:48, 11.75s/it]"
     ]
    },
    {
     "name": "stdout",
     "output_type": "stream",
     "text": [
      "💾 Saved checkpoint after 3700 train videos\n"
     ]
    },
    {
     "name": "stderr",
     "output_type": "stream",
     "text": [
      "Total Progress:  27%|██▋       | 3705/13706 [4:56:21<52:57:00, 19.06s/it]"
     ]
    },
    {
     "name": "stdout",
     "output_type": "stream",
     "text": [
      "💾 Saved checkpoint after 3705 train videos\n"
     ]
    },
    {
     "name": "stderr",
     "output_type": "stream",
     "text": [
      "Total Progress:  27%|██▋       | 3710/13706 [4:57:16<31:29:04, 11.34s/it]"
     ]
    },
    {
     "name": "stdout",
     "output_type": "stream",
     "text": [
      "💾 Saved checkpoint after 3710 train videos\n"
     ]
    },
    {
     "name": "stderr",
     "output_type": "stream",
     "text": [
      "Total Progress:  27%|██▋       | 3715/13706 [4:57:59<28:03:49, 10.11s/it]"
     ]
    },
    {
     "name": "stdout",
     "output_type": "stream",
     "text": [
      "💾 Saved checkpoint after 3715 train videos\n"
     ]
    },
    {
     "name": "stderr",
     "output_type": "stream",
     "text": [
      "Total Progress:  27%|██▋       | 3720/13706 [5:00:18<51:09:46, 18.44s/it]"
     ]
    },
    {
     "name": "stdout",
     "output_type": "stream",
     "text": [
      "💾 Saved checkpoint after 3720 train videos\n"
     ]
    },
    {
     "name": "stderr",
     "output_type": "stream",
     "text": [
      "Total Progress:  27%|██▋       | 3725/13706 [5:01:21<38:58:47, 14.06s/it]"
     ]
    },
    {
     "name": "stdout",
     "output_type": "stream",
     "text": [
      "💾 Saved checkpoint after 3725 train videos\n"
     ]
    },
    {
     "name": "stderr",
     "output_type": "stream",
     "text": [
      "Total Progress:  27%|██▋       | 3730/13706 [5:02:15<28:01:56, 10.12s/it]"
     ]
    },
    {
     "name": "stdout",
     "output_type": "stream",
     "text": [
      "💾 Saved checkpoint after 3730 train videos\n"
     ]
    },
    {
     "name": "stderr",
     "output_type": "stream",
     "text": [
      "Total Progress:  27%|██▋       | 3735/13706 [5:03:58<56:47:53, 20.51s/it]"
     ]
    },
    {
     "name": "stdout",
     "output_type": "stream",
     "text": [
      "💾 Saved checkpoint after 3735 train videos\n"
     ]
    },
    {
     "name": "stderr",
     "output_type": "stream",
     "text": [
      "Total Progress:  27%|██▋       | 3740/13706 [5:05:14<42:52:49, 15.49s/it]"
     ]
    },
    {
     "name": "stdout",
     "output_type": "stream",
     "text": [
      "💾 Saved checkpoint after 3740 train videos\n"
     ]
    },
    {
     "name": "stderr",
     "output_type": "stream",
     "text": [
      "Total Progress:  27%|██▋       | 3745/13706 [5:06:56<45:04:02, 16.29s/it]"
     ]
    },
    {
     "name": "stdout",
     "output_type": "stream",
     "text": [
      "💾 Saved checkpoint after 3745 train videos\n"
     ]
    },
    {
     "name": "stderr",
     "output_type": "stream",
     "text": [
      "Total Progress:  27%|██▋       | 3750/13706 [5:07:41<28:38:46, 10.36s/it]"
     ]
    },
    {
     "name": "stdout",
     "output_type": "stream",
     "text": [
      "💾 Saved checkpoint after 3750 train videos\n"
     ]
    },
    {
     "name": "stderr",
     "output_type": "stream",
     "text": [
      "Total Progress:  27%|██▋       | 3755/13706 [5:08:20<25:36:22,  9.26s/it]"
     ]
    },
    {
     "name": "stdout",
     "output_type": "stream",
     "text": [
      "💾 Saved checkpoint after 3755 train videos\n"
     ]
    },
    {
     "name": "stderr",
     "output_type": "stream",
     "text": [
      "Total Progress:  27%|██▋       | 3760/13706 [5:09:03<25:38:54,  9.28s/it]"
     ]
    },
    {
     "name": "stdout",
     "output_type": "stream",
     "text": [
      "💾 Saved checkpoint after 3760 train videos\n"
     ]
    },
    {
     "name": "stderr",
     "output_type": "stream",
     "text": [
      "Total Progress:  27%|██▋       | 3765/13706 [5:09:54<33:08:57, 12.00s/it]"
     ]
    },
    {
     "name": "stdout",
     "output_type": "stream",
     "text": [
      "💾 Saved checkpoint after 3765 train videos\n"
     ]
    },
    {
     "name": "stderr",
     "output_type": "stream",
     "text": [
      "Total Progress:  28%|██▊       | 3770/13706 [5:10:45<26:14:12,  9.51s/it]"
     ]
    },
    {
     "name": "stdout",
     "output_type": "stream",
     "text": [
      "💾 Saved checkpoint after 3770 train videos\n"
     ]
    },
    {
     "name": "stderr",
     "output_type": "stream",
     "text": [
      "Total Progress:  28%|██▊       | 3775/13706 [5:12:10<43:19:08, 15.70s/it]"
     ]
    },
    {
     "name": "stdout",
     "output_type": "stream",
     "text": [
      "💾 Saved checkpoint after 3775 train videos\n"
     ]
    },
    {
     "name": "stderr",
     "output_type": "stream",
     "text": [
      "Total Progress:  28%|██▊       | 3780/13706 [5:13:37<56:39:15, 20.55s/it]"
     ]
    },
    {
     "name": "stdout",
     "output_type": "stream",
     "text": [
      "💾 Saved checkpoint after 3780 train videos\n"
     ]
    },
    {
     "name": "stderr",
     "output_type": "stream",
     "text": [
      "Total Progress:  28%|██▊       | 3785/13706 [5:14:24<32:31:32, 11.80s/it]"
     ]
    },
    {
     "name": "stdout",
     "output_type": "stream",
     "text": [
      "💾 Saved checkpoint after 3785 train videos\n"
     ]
    },
    {
     "name": "stderr",
     "output_type": "stream",
     "text": [
      "Total Progress:  28%|██▊       | 3790/13706 [5:16:15<46:18:16, 16.81s/it]"
     ]
    },
    {
     "name": "stdout",
     "output_type": "stream",
     "text": [
      "💾 Saved checkpoint after 3790 train videos\n"
     ]
    },
    {
     "name": "stderr",
     "output_type": "stream",
     "text": [
      "Total Progress:  28%|██▊       | 3795/13706 [5:17:12<34:40:08, 12.59s/it]"
     ]
    },
    {
     "name": "stdout",
     "output_type": "stream",
     "text": [
      "💾 Saved checkpoint after 3795 train videos\n"
     ]
    },
    {
     "name": "stderr",
     "output_type": "stream",
     "text": [
      "Total Progress:  28%|██▊       | 3800/13706 [5:18:42<43:00:04, 15.63s/it]"
     ]
    },
    {
     "name": "stdout",
     "output_type": "stream",
     "text": [
      "💾 Saved checkpoint after 3800 train videos\n"
     ]
    },
    {
     "name": "stderr",
     "output_type": "stream",
     "text": [
      "Total Progress:  28%|██▊       | 3805/13706 [5:19:49<38:11:29, 13.89s/it]"
     ]
    },
    {
     "name": "stdout",
     "output_type": "stream",
     "text": [
      "💾 Saved checkpoint after 3805 train videos\n"
     ]
    },
    {
     "name": "stderr",
     "output_type": "stream",
     "text": [
      "Total Progress:  28%|██▊       | 3810/13706 [5:20:35<25:06:22,  9.13s/it]"
     ]
    },
    {
     "name": "stdout",
     "output_type": "stream",
     "text": [
      "💾 Saved checkpoint after 3810 train videos\n"
     ]
    },
    {
     "name": "stderr",
     "output_type": "stream",
     "text": [
      "Total Progress:  28%|██▊       | 3815/13706 [5:21:18<22:19:12,  8.12s/it]"
     ]
    },
    {
     "name": "stdout",
     "output_type": "stream",
     "text": [
      "💾 Saved checkpoint after 3815 train videos\n"
     ]
    },
    {
     "name": "stderr",
     "output_type": "stream",
     "text": [
      "Total Progress:  28%|██▊       | 3820/13706 [5:22:37<33:05:15, 12.05s/it]"
     ]
    },
    {
     "name": "stdout",
     "output_type": "stream",
     "text": [
      "💾 Saved checkpoint after 3820 train videos\n"
     ]
    },
    {
     "name": "stderr",
     "output_type": "stream",
     "text": [
      "Total Progress:  28%|██▊       | 3825/13706 [5:24:39<40:55:07, 14.91s/it]"
     ]
    },
    {
     "name": "stdout",
     "output_type": "stream",
     "text": [
      "💾 Saved checkpoint after 3825 train videos\n"
     ]
    },
    {
     "name": "stderr",
     "output_type": "stream",
     "text": [
      "Total Progress:  28%|██▊       | 3830/13706 [5:25:39<29:43:05, 10.83s/it]"
     ]
    },
    {
     "name": "stdout",
     "output_type": "stream",
     "text": [
      "💾 Saved checkpoint after 3830 train videos\n"
     ]
    },
    {
     "name": "stderr",
     "output_type": "stream",
     "text": [
      "Total Progress:  28%|██▊       | 3835/13706 [5:26:58<49:02:50, 17.89s/it]"
     ]
    },
    {
     "name": "stdout",
     "output_type": "stream",
     "text": [
      "💾 Saved checkpoint after 3835 train videos\n"
     ]
    },
    {
     "name": "stderr",
     "output_type": "stream",
     "text": [
      "Total Progress:  28%|██▊       | 3840/13706 [5:27:55<36:29:50, 13.32s/it]"
     ]
    },
    {
     "name": "stdout",
     "output_type": "stream",
     "text": [
      "💾 Saved checkpoint after 3840 train videos\n"
     ]
    },
    {
     "name": "stderr",
     "output_type": "stream",
     "text": [
      "Total Progress:  28%|██▊       | 3845/13706 [5:28:26<17:00:06,  6.21s/it]"
     ]
    },
    {
     "name": "stdout",
     "output_type": "stream",
     "text": [
      "💾 Saved checkpoint after 3845 train videos\n"
     ]
    },
    {
     "name": "stderr",
     "output_type": "stream",
     "text": [
      "Total Progress:  28%|██▊       | 3850/13706 [5:30:19<48:39:25, 17.77s/it]"
     ]
    },
    {
     "name": "stdout",
     "output_type": "stream",
     "text": [
      "💾 Saved checkpoint after 3850 train videos\n"
     ]
    },
    {
     "name": "stderr",
     "output_type": "stream",
     "text": [
      "Total Progress:  28%|██▊       | 3855/13706 [5:30:58<25:28:18,  9.31s/it]"
     ]
    },
    {
     "name": "stdout",
     "output_type": "stream",
     "text": [
      "💾 Saved checkpoint after 3855 train videos\n"
     ]
    },
    {
     "name": "stderr",
     "output_type": "stream",
     "text": [
      "Total Progress:  28%|██▊       | 3860/13706 [5:31:39<21:51:06,  7.99s/it]"
     ]
    },
    {
     "name": "stdout",
     "output_type": "stream",
     "text": [
      "💾 Saved checkpoint after 3860 train videos\n"
     ]
    },
    {
     "name": "stderr",
     "output_type": "stream",
     "text": [
      "Total Progress:  28%|██▊       | 3865/13706 [5:32:38<34:50:38, 12.75s/it]"
     ]
    },
    {
     "name": "stdout",
     "output_type": "stream",
     "text": [
      "💾 Saved checkpoint after 3865 train videos\n"
     ]
    },
    {
     "name": "stderr",
     "output_type": "stream",
     "text": [
      "Total Progress:  28%|██▊       | 3870/13706 [5:33:47<39:10:32, 14.34s/it]"
     ]
    },
    {
     "name": "stdout",
     "output_type": "stream",
     "text": [
      "💾 Saved checkpoint after 3870 train videos\n"
     ]
    },
    {
     "name": "stderr",
     "output_type": "stream",
     "text": [
      "Total Progress:  28%|██▊       | 3875/13706 [5:35:15<55:14:39, 20.23s/it]"
     ]
    },
    {
     "name": "stdout",
     "output_type": "stream",
     "text": [
      "💾 Saved checkpoint after 3875 train videos\n"
     ]
    },
    {
     "name": "stderr",
     "output_type": "stream",
     "text": [
      "Total Progress:  28%|██▊       | 3880/13706 [5:36:01<30:08:14, 11.04s/it]"
     ]
    },
    {
     "name": "stdout",
     "output_type": "stream",
     "text": [
      "💾 Saved checkpoint after 3880 train videos\n"
     ]
    },
    {
     "name": "stderr",
     "output_type": "stream",
     "text": [
      "Total Progress:  28%|██▊       | 3885/13706 [5:37:23<44:15:58, 16.23s/it]"
     ]
    },
    {
     "name": "stdout",
     "output_type": "stream",
     "text": [
      "💾 Saved checkpoint after 3885 train videos\n"
     ]
    },
    {
     "name": "stderr",
     "output_type": "stream",
     "text": [
      "Total Progress:  28%|██▊       | 3890/13706 [5:38:18<30:24:05, 11.15s/it]"
     ]
    },
    {
     "name": "stdout",
     "output_type": "stream",
     "text": [
      "💾 Saved checkpoint after 3890 train videos\n"
     ]
    },
    {
     "name": "stderr",
     "output_type": "stream",
     "text": [
      "Total Progress:  28%|██▊       | 3895/13706 [5:39:28<34:00:20, 12.48s/it]"
     ]
    },
    {
     "name": "stdout",
     "output_type": "stream",
     "text": [
      "💾 Saved checkpoint after 3895 train videos\n"
     ]
    },
    {
     "name": "stderr",
     "output_type": "stream",
     "text": [
      "Total Progress:  28%|██▊       | 3900/13706 [5:41:20<69:47:33, 25.62s/it]"
     ]
    },
    {
     "name": "stdout",
     "output_type": "stream",
     "text": [
      "💾 Saved checkpoint after 3900 train videos\n"
     ]
    },
    {
     "name": "stderr",
     "output_type": "stream",
     "text": [
      "Total Progress:  28%|██▊       | 3905/13706 [5:42:18<33:32:55, 12.32s/it]"
     ]
    },
    {
     "name": "stdout",
     "output_type": "stream",
     "text": [
      "💾 Saved checkpoint after 3905 train videos\n"
     ]
    },
    {
     "name": "stderr",
     "output_type": "stream",
     "text": [
      "Total Progress:  29%|██▊       | 3910/13706 [5:43:13<29:55:17, 11.00s/it]"
     ]
    },
    {
     "name": "stdout",
     "output_type": "stream",
     "text": [
      "💾 Saved checkpoint after 3910 train videos\n"
     ]
    },
    {
     "name": "stderr",
     "output_type": "stream",
     "text": [
      "Total Progress:  29%|██▊       | 3915/13706 [5:44:18<25:58:47,  9.55s/it]"
     ]
    },
    {
     "name": "stdout",
     "output_type": "stream",
     "text": [
      "💾 Saved checkpoint after 3915 train videos\n"
     ]
    },
    {
     "name": "stderr",
     "output_type": "stream",
     "text": [
      "Total Progress:  29%|██▊       | 3920/13706 [5:45:16<33:50:57, 12.45s/it]"
     ]
    },
    {
     "name": "stdout",
     "output_type": "stream",
     "text": [
      "💾 Saved checkpoint after 3920 train videos\n"
     ]
    },
    {
     "name": "stderr",
     "output_type": "stream",
     "text": [
      "Total Progress:  29%|██▊       | 3925/13706 [5:46:09<29:37:57, 10.91s/it]"
     ]
    },
    {
     "name": "stdout",
     "output_type": "stream",
     "text": [
      "💾 Saved checkpoint after 3925 train videos\n"
     ]
    },
    {
     "name": "stderr",
     "output_type": "stream",
     "text": [
      "Total Progress:  29%|██▊       | 3930/13706 [5:47:21<37:50:35, 13.94s/it]"
     ]
    },
    {
     "name": "stdout",
     "output_type": "stream",
     "text": [
      "💾 Saved checkpoint after 3930 train videos\n"
     ]
    },
    {
     "name": "stderr",
     "output_type": "stream",
     "text": [
      "Total Progress:  29%|██▊       | 3935/13706 [5:48:33<46:11:10, 17.02s/it]"
     ]
    },
    {
     "name": "stdout",
     "output_type": "stream",
     "text": [
      "💾 Saved checkpoint after 3935 train videos\n"
     ]
    },
    {
     "name": "stderr",
     "output_type": "stream",
     "text": [
      "Total Progress:  29%|██▊       | 3940/13706 [5:49:53<38:40:54, 14.26s/it]"
     ]
    },
    {
     "name": "stdout",
     "output_type": "stream",
     "text": [
      "💾 Saved checkpoint after 3940 train videos\n"
     ]
    },
    {
     "name": "stderr",
     "output_type": "stream",
     "text": [
      "Total Progress:  29%|██▉       | 3945/13706 [5:51:20<40:37:48, 14.98s/it]"
     ]
    },
    {
     "name": "stdout",
     "output_type": "stream",
     "text": [
      "💾 Saved checkpoint after 3945 train videos\n"
     ]
    },
    {
     "name": "stderr",
     "output_type": "stream",
     "text": [
      "Total Progress:  29%|██▉       | 3950/13706 [5:52:26<32:15:15, 11.90s/it]"
     ]
    },
    {
     "name": "stdout",
     "output_type": "stream",
     "text": [
      "💾 Saved checkpoint after 3950 train videos\n"
     ]
    },
    {
     "name": "stderr",
     "output_type": "stream",
     "text": [
      "Total Progress:  29%|██▉       | 3955/13706 [5:54:30<53:00:56, 19.57s/it]"
     ]
    },
    {
     "name": "stdout",
     "output_type": "stream",
     "text": [
      "💾 Saved checkpoint after 3955 train videos\n"
     ]
    },
    {
     "name": "stderr",
     "output_type": "stream",
     "text": [
      "Total Progress:  29%|██▉       | 3960/13706 [5:55:28<40:32:30, 14.98s/it]"
     ]
    },
    {
     "name": "stdout",
     "output_type": "stream",
     "text": [
      "💾 Saved checkpoint after 3960 train videos\n"
     ]
    },
    {
     "name": "stderr",
     "output_type": "stream",
     "text": [
      "Total Progress:  29%|██▉       | 3965/13706 [5:56:26<31:16:05, 11.56s/it]"
     ]
    },
    {
     "name": "stdout",
     "output_type": "stream",
     "text": [
      "💾 Saved checkpoint after 3965 train videos\n"
     ]
    },
    {
     "name": "stderr",
     "output_type": "stream",
     "text": [
      "Total Progress:  29%|██▉       | 3970/13706 [5:57:35<41:00:41, 15.16s/it]"
     ]
    },
    {
     "name": "stdout",
     "output_type": "stream",
     "text": [
      "💾 Saved checkpoint after 3970 train videos\n"
     ]
    },
    {
     "name": "stderr",
     "output_type": "stream",
     "text": [
      "Total Progress:  29%|██▉       | 3975/13706 [5:59:39<69:22:52, 25.67s/it]"
     ]
    },
    {
     "name": "stdout",
     "output_type": "stream",
     "text": [
      "💾 Saved checkpoint after 3975 train videos\n"
     ]
    },
    {
     "name": "stderr",
     "output_type": "stream",
     "text": [
      "Total Progress:  29%|██▉       | 3980/13706 [6:00:38<37:57:57, 14.05s/it]"
     ]
    },
    {
     "name": "stdout",
     "output_type": "stream",
     "text": [
      "💾 Saved checkpoint after 3980 train videos\n"
     ]
    },
    {
     "name": "stderr",
     "output_type": "stream",
     "text": [
      "Total Progress:  29%|██▉       | 3985/13706 [6:02:46<65:25:56, 24.23s/it]"
     ]
    },
    {
     "name": "stdout",
     "output_type": "stream",
     "text": [
      "💾 Saved checkpoint after 3985 train videos\n"
     ]
    },
    {
     "name": "stderr",
     "output_type": "stream",
     "text": [
      "Total Progress:  29%|██▉       | 3990/13706 [6:03:35<33:27:03, 12.39s/it]"
     ]
    },
    {
     "name": "stdout",
     "output_type": "stream",
     "text": [
      "💾 Saved checkpoint after 3990 train videos\n"
     ]
    },
    {
     "name": "stderr",
     "output_type": "stream",
     "text": [
      "Total Progress:  29%|██▉       | 3995/13706 [6:04:45<41:50:50, 15.51s/it]"
     ]
    },
    {
     "name": "stdout",
     "output_type": "stream",
     "text": [
      "💾 Saved checkpoint after 3995 train videos\n"
     ]
    },
    {
     "name": "stderr",
     "output_type": "stream",
     "text": [
      "Total Progress:  29%|██▉       | 4000/13706 [6:06:22<49:24:27, 18.33s/it]"
     ]
    },
    {
     "name": "stdout",
     "output_type": "stream",
     "text": [
      "💾 Saved checkpoint after 4000 train videos\n"
     ]
    },
    {
     "name": "stderr",
     "output_type": "stream",
     "text": [
      "Total Progress:  29%|██▉       | 4005/13706 [6:07:04<29:58:56, 11.13s/it]"
     ]
    },
    {
     "name": "stdout",
     "output_type": "stream",
     "text": [
      "💾 Saved checkpoint after 4005 train videos\n"
     ]
    },
    {
     "name": "stderr",
     "output_type": "stream",
     "text": [
      "Total Progress:  29%|██▉       | 4010/13706 [6:08:34<42:56:34, 15.94s/it]"
     ]
    },
    {
     "name": "stdout",
     "output_type": "stream",
     "text": [
      "💾 Saved checkpoint after 4010 train videos\n"
     ]
    },
    {
     "name": "stderr",
     "output_type": "stream",
     "text": [
      "Total Progress:  29%|██▉       | 4015/13706 [6:09:21<29:43:14, 11.04s/it]"
     ]
    },
    {
     "name": "stdout",
     "output_type": "stream",
     "text": [
      "💾 Saved checkpoint after 4015 train videos\n"
     ]
    },
    {
     "name": "stderr",
     "output_type": "stream",
     "text": [
      "Total Progress:  29%|██▉       | 4020/13706 [6:10:47<46:27:48, 17.27s/it]"
     ]
    },
    {
     "name": "stdout",
     "output_type": "stream",
     "text": [
      "💾 Saved checkpoint after 4020 train videos\n"
     ]
    },
    {
     "name": "stderr",
     "output_type": "stream",
     "text": [
      "Total Progress:  29%|██▉       | 4025/13706 [6:11:59<39:20:24, 14.63s/it]"
     ]
    },
    {
     "name": "stdout",
     "output_type": "stream",
     "text": [
      "💾 Saved checkpoint after 4025 train videos\n"
     ]
    },
    {
     "name": "stderr",
     "output_type": "stream",
     "text": [
      "Total Progress:  29%|██▉       | 4030/13706 [6:13:12<37:47:29, 14.06s/it]"
     ]
    },
    {
     "name": "stdout",
     "output_type": "stream",
     "text": [
      "💾 Saved checkpoint after 4030 train videos\n"
     ]
    },
    {
     "name": "stderr",
     "output_type": "stream",
     "text": [
      "Total Progress:  29%|██▉       | 4035/13706 [6:14:53<45:19:24, 16.87s/it]"
     ]
    },
    {
     "name": "stdout",
     "output_type": "stream",
     "text": [
      "💾 Saved checkpoint after 4035 train videos\n"
     ]
    },
    {
     "name": "stderr",
     "output_type": "stream",
     "text": [
      "Total Progress:  29%|██▉       | 4040/13706 [6:15:39<25:52:05,  9.63s/it]"
     ]
    },
    {
     "name": "stdout",
     "output_type": "stream",
     "text": [
      "💾 Saved checkpoint after 4040 train videos\n"
     ]
    },
    {
     "name": "stderr",
     "output_type": "stream",
     "text": [
      "Total Progress:  30%|██▉       | 4045/13706 [6:16:59<45:26:19, 16.93s/it]"
     ]
    },
    {
     "name": "stdout",
     "output_type": "stream",
     "text": [
      "💾 Saved checkpoint after 4045 train videos\n"
     ]
    },
    {
     "name": "stderr",
     "output_type": "stream",
     "text": [
      "Total Progress:  30%|██▉       | 4050/13706 [6:18:22<46:23:41, 17.30s/it]"
     ]
    },
    {
     "name": "stdout",
     "output_type": "stream",
     "text": [
      "💾 Saved checkpoint after 4050 train videos\n"
     ]
    },
    {
     "name": "stderr",
     "output_type": "stream",
     "text": [
      "Total Progress:  30%|██▉       | 4055/13706 [6:19:54<53:32:00, 19.97s/it]"
     ]
    },
    {
     "name": "stdout",
     "output_type": "stream",
     "text": [
      "💾 Saved checkpoint after 4055 train videos\n"
     ]
    },
    {
     "name": "stderr",
     "output_type": "stream",
     "text": [
      "Total Progress:  30%|██▉       | 4060/13706 [6:20:40<31:33:07, 11.78s/it]"
     ]
    },
    {
     "name": "stdout",
     "output_type": "stream",
     "text": [
      "💾 Saved checkpoint after 4060 train videos\n"
     ]
    },
    {
     "name": "stderr",
     "output_type": "stream",
     "text": [
      "Total Progress:  30%|██▉       | 4065/13706 [6:22:12<42:44:30, 15.96s/it]"
     ]
    },
    {
     "name": "stdout",
     "output_type": "stream",
     "text": [
      "💾 Saved checkpoint after 4065 train videos\n"
     ]
    },
    {
     "name": "stderr",
     "output_type": "stream",
     "text": [
      "Total Progress:  30%|██▉       | 4070/13706 [6:23:05<32:01:41, 11.97s/it]"
     ]
    },
    {
     "name": "stdout",
     "output_type": "stream",
     "text": [
      "💾 Saved checkpoint after 4070 train videos\n"
     ]
    },
    {
     "name": "stderr",
     "output_type": "stream",
     "text": [
      "Total Progress:  30%|██▉       | 4075/13706 [6:25:20<60:26:18, 22.59s/it]"
     ]
    },
    {
     "name": "stdout",
     "output_type": "stream",
     "text": [
      "💾 Saved checkpoint after 4075 train videos\n"
     ]
    },
    {
     "name": "stderr",
     "output_type": "stream",
     "text": [
      "Total Progress:  30%|██▉       | 4080/13706 [6:26:32<39:04:15, 14.61s/it]"
     ]
    },
    {
     "name": "stdout",
     "output_type": "stream",
     "text": [
      "💾 Saved checkpoint after 4080 train videos\n"
     ]
    },
    {
     "name": "stderr",
     "output_type": "stream",
     "text": [
      "Total Progress:  30%|██▉       | 4085/13706 [6:27:26<33:15:03, 12.44s/it]"
     ]
    },
    {
     "name": "stdout",
     "output_type": "stream",
     "text": [
      "💾 Saved checkpoint after 4085 train videos\n"
     ]
    },
    {
     "name": "stderr",
     "output_type": "stream",
     "text": [
      "Total Progress:  30%|██▉       | 4090/13706 [6:28:21<29:59:20, 11.23s/it]"
     ]
    },
    {
     "name": "stdout",
     "output_type": "stream",
     "text": [
      "💾 Saved checkpoint after 4090 train videos\n"
     ]
    },
    {
     "name": "stderr",
     "output_type": "stream",
     "text": [
      "Total Progress:  30%|██▉       | 4095/13706 [6:29:04<25:03:36,  9.39s/it]"
     ]
    },
    {
     "name": "stdout",
     "output_type": "stream",
     "text": [
      "💾 Saved checkpoint after 4095 train videos\n"
     ]
    },
    {
     "name": "stderr",
     "output_type": "stream",
     "text": [
      "Total Progress:  30%|██▉       | 4100/13706 [6:30:30<50:30:16, 18.93s/it]"
     ]
    },
    {
     "name": "stdout",
     "output_type": "stream",
     "text": [
      "💾 Saved checkpoint after 4100 train videos\n"
     ]
    },
    {
     "name": "stderr",
     "output_type": "stream",
     "text": [
      "Total Progress:  30%|██▉       | 4105/13706 [6:31:35<41:09:55, 15.44s/it]"
     ]
    },
    {
     "name": "stdout",
     "output_type": "stream",
     "text": [
      "💾 Saved checkpoint after 4105 train videos\n"
     ]
    },
    {
     "name": "stderr",
     "output_type": "stream",
     "text": [
      "Total Progress:  30%|██▉       | 4110/13706 [6:33:34<65:29:27, 24.57s/it]"
     ]
    },
    {
     "name": "stdout",
     "output_type": "stream",
     "text": [
      "💾 Saved checkpoint after 4110 train videos\n"
     ]
    },
    {
     "name": "stderr",
     "output_type": "stream",
     "text": [
      "Total Progress:  30%|███       | 4115/13706 [6:35:25<56:51:05, 21.34s/it]"
     ]
    },
    {
     "name": "stdout",
     "output_type": "stream",
     "text": [
      "💾 Saved checkpoint after 4115 train videos\n"
     ]
    },
    {
     "name": "stderr",
     "output_type": "stream",
     "text": [
      "Total Progress:  30%|███       | 4120/13706 [6:36:46<41:06:31, 15.44s/it]"
     ]
    },
    {
     "name": "stdout",
     "output_type": "stream",
     "text": [
      "💾 Saved checkpoint after 4120 train videos\n"
     ]
    },
    {
     "name": "stderr",
     "output_type": "stream",
     "text": [
      "Total Progress:  30%|███       | 4125/13706 [6:37:58<40:58:27, 15.40s/it]"
     ]
    },
    {
     "name": "stdout",
     "output_type": "stream",
     "text": [
      "💾 Saved checkpoint after 4125 train videos\n"
     ]
    },
    {
     "name": "stderr",
     "output_type": "stream",
     "text": [
      "Total Progress:  30%|███       | 4130/13706 [6:38:38<27:00:29, 10.15s/it]"
     ]
    },
    {
     "name": "stdout",
     "output_type": "stream",
     "text": [
      "💾 Saved checkpoint after 4130 train videos\n"
     ]
    },
    {
     "name": "stderr",
     "output_type": "stream",
     "text": [
      "Total Progress:  30%|███       | 4135/13706 [6:39:23<24:56:33,  9.38s/it]"
     ]
    },
    {
     "name": "stdout",
     "output_type": "stream",
     "text": [
      "💾 Saved checkpoint after 4135 train videos\n"
     ]
    },
    {
     "name": "stderr",
     "output_type": "stream",
     "text": [
      "Total Progress:  30%|███       | 4140/13706 [6:40:25<30:33:27, 11.50s/it]"
     ]
    },
    {
     "name": "stdout",
     "output_type": "stream",
     "text": [
      "💾 Saved checkpoint after 4140 train videos\n"
     ]
    },
    {
     "name": "stderr",
     "output_type": "stream",
     "text": [
      "Total Progress:  30%|███       | 4145/13706 [6:41:22<31:47:27, 11.97s/it]"
     ]
    },
    {
     "name": "stdout",
     "output_type": "stream",
     "text": [
      "💾 Saved checkpoint after 4145 train videos\n"
     ]
    },
    {
     "name": "stderr",
     "output_type": "stream",
     "text": [
      "Total Progress:  30%|███       | 4150/13706 [6:42:04<24:41:56,  9.30s/it]"
     ]
    },
    {
     "name": "stdout",
     "output_type": "stream",
     "text": [
      "💾 Saved checkpoint after 4150 train videos\n"
     ]
    },
    {
     "name": "stderr",
     "output_type": "stream",
     "text": [
      "Total Progress:  30%|███       | 4155/13706 [6:44:16<81:45:10, 30.81s/it]"
     ]
    },
    {
     "name": "stdout",
     "output_type": "stream",
     "text": [
      "💾 Saved checkpoint after 4155 train videos\n"
     ]
    },
    {
     "name": "stderr",
     "output_type": "stream",
     "text": [
      "Total Progress:  30%|███       | 4160/13706 [6:45:55<64:13:31, 24.22s/it]"
     ]
    },
    {
     "name": "stdout",
     "output_type": "stream",
     "text": [
      "💾 Saved checkpoint after 4160 train videos\n"
     ]
    },
    {
     "name": "stderr",
     "output_type": "stream",
     "text": [
      "Total Progress:  30%|███       | 4165/13706 [6:46:50<39:41:49, 14.98s/it]"
     ]
    },
    {
     "name": "stdout",
     "output_type": "stream",
     "text": [
      "💾 Saved checkpoint after 4165 train videos\n"
     ]
    },
    {
     "name": "stderr",
     "output_type": "stream",
     "text": [
      "Total Progress:  30%|███       | 4170/13706 [6:48:00<37:49:19, 14.28s/it]"
     ]
    },
    {
     "name": "stdout",
     "output_type": "stream",
     "text": [
      "💾 Saved checkpoint after 4170 train videos\n"
     ]
    },
    {
     "name": "stderr",
     "output_type": "stream",
     "text": [
      "Total Progress:  30%|███       | 4175/13706 [6:49:10<31:38:30, 11.95s/it]"
     ]
    },
    {
     "name": "stdout",
     "output_type": "stream",
     "text": [
      "💾 Saved checkpoint after 4175 train videos\n"
     ]
    },
    {
     "name": "stderr",
     "output_type": "stream",
     "text": [
      "Total Progress:  30%|███       | 4180/13706 [6:50:12<33:18:10, 12.59s/it]"
     ]
    },
    {
     "name": "stdout",
     "output_type": "stream",
     "text": [
      "💾 Saved checkpoint after 4180 train videos\n"
     ]
    },
    {
     "name": "stderr",
     "output_type": "stream",
     "text": [
      "Total Progress:  31%|███       | 4185/13706 [6:51:44<44:32:14, 16.84s/it]"
     ]
    },
    {
     "name": "stdout",
     "output_type": "stream",
     "text": [
      "💾 Saved checkpoint after 4185 train videos\n"
     ]
    },
    {
     "name": "stderr",
     "output_type": "stream",
     "text": [
      "Total Progress:  31%|███       | 4190/13706 [6:53:24<54:23:17, 20.58s/it]"
     ]
    },
    {
     "name": "stdout",
     "output_type": "stream",
     "text": [
      "💾 Saved checkpoint after 4190 train videos\n"
     ]
    },
    {
     "name": "stderr",
     "output_type": "stream",
     "text": [
      "Total Progress:  31%|███       | 4195/13706 [6:55:41<76:54:49, 29.11s/it]"
     ]
    },
    {
     "name": "stdout",
     "output_type": "stream",
     "text": [
      "💾 Saved checkpoint after 4195 train videos\n"
     ]
    },
    {
     "name": "stderr",
     "output_type": "stream",
     "text": [
      "Total Progress:  31%|███       | 4200/13706 [6:57:09<51:44:04, 19.59s/it]"
     ]
    },
    {
     "name": "stdout",
     "output_type": "stream",
     "text": [
      "💾 Saved checkpoint after 4200 train videos\n"
     ]
    },
    {
     "name": "stderr",
     "output_type": "stream",
     "text": [
      "Total Progress:  31%|███       | 4205/13706 [6:58:08<32:26:49, 12.29s/it]"
     ]
    },
    {
     "name": "stdout",
     "output_type": "stream",
     "text": [
      "💾 Saved checkpoint after 4205 train videos\n"
     ]
    },
    {
     "name": "stderr",
     "output_type": "stream",
     "text": [
      "Total Progress:  31%|███       | 4210/13706 [6:59:43<45:49:06, 17.37s/it]"
     ]
    },
    {
     "name": "stdout",
     "output_type": "stream",
     "text": [
      "💾 Saved checkpoint after 4210 train videos\n"
     ]
    },
    {
     "name": "stderr",
     "output_type": "stream",
     "text": [
      "Total Progress:  31%|███       | 4215/13706 [7:00:43<35:59:05, 13.65s/it]"
     ]
    },
    {
     "name": "stdout",
     "output_type": "stream",
     "text": [
      "💾 Saved checkpoint after 4215 train videos\n"
     ]
    },
    {
     "name": "stderr",
     "output_type": "stream",
     "text": [
      "Total Progress:  31%|███       | 4220/13706 [7:01:38<28:14:22, 10.72s/it]"
     ]
    },
    {
     "name": "stdout",
     "output_type": "stream",
     "text": [
      "💾 Saved checkpoint after 4220 train videos\n"
     ]
    },
    {
     "name": "stderr",
     "output_type": "stream",
     "text": [
      "Total Progress:  31%|███       | 4225/13706 [7:03:09<40:41:13, 15.45s/it]"
     ]
    },
    {
     "name": "stdout",
     "output_type": "stream",
     "text": [
      "💾 Saved checkpoint after 4225 train videos\n"
     ]
    },
    {
     "name": "stderr",
     "output_type": "stream",
     "text": [
      "Total Progress:  31%|███       | 4230/13706 [7:04:45<38:01:15, 14.44s/it]"
     ]
    },
    {
     "name": "stdout",
     "output_type": "stream",
     "text": [
      "💾 Saved checkpoint after 4230 train videos\n"
     ]
    },
    {
     "name": "stderr",
     "output_type": "stream",
     "text": [
      "Total Progress:  31%|███       | 4235/13706 [7:06:17<41:07:35, 15.63s/it]"
     ]
    },
    {
     "name": "stdout",
     "output_type": "stream",
     "text": [
      "💾 Saved checkpoint after 4235 train videos\n"
     ]
    },
    {
     "name": "stderr",
     "output_type": "stream",
     "text": [
      "Total Progress:  31%|███       | 4240/13706 [7:08:26<61:08:37, 23.25s/it]"
     ]
    },
    {
     "name": "stdout",
     "output_type": "stream",
     "text": [
      "💾 Saved checkpoint after 4240 train videos\n"
     ]
    },
    {
     "name": "stderr",
     "output_type": "stream",
     "text": [
      "Total Progress:  31%|███       | 4245/13706 [7:10:44<90:38:46, 34.49s/it]"
     ]
    },
    {
     "name": "stdout",
     "output_type": "stream",
     "text": [
      "💾 Saved checkpoint after 4245 train videos\n"
     ]
    },
    {
     "name": "stderr",
     "output_type": "stream",
     "text": [
      "Total Progress:  31%|███       | 4250/13706 [7:11:55<47:06:38, 17.94s/it]"
     ]
    },
    {
     "name": "stdout",
     "output_type": "stream",
     "text": [
      "💾 Saved checkpoint after 4250 train videos\n"
     ]
    },
    {
     "name": "stderr",
     "output_type": "stream",
     "text": [
      "Total Progress:  31%|███       | 4255/13706 [7:13:22<51:16:20, 19.53s/it]"
     ]
    },
    {
     "name": "stdout",
     "output_type": "stream",
     "text": [
      "💾 Saved checkpoint after 4255 train videos\n"
     ]
    },
    {
     "name": "stderr",
     "output_type": "stream",
     "text": [
      "Total Progress:  31%|███       | 4260/13706 [7:15:11<73:54:18, 28.17s/it]"
     ]
    },
    {
     "name": "stdout",
     "output_type": "stream",
     "text": [
      "💾 Saved checkpoint after 4260 train videos\n"
     ]
    },
    {
     "name": "stderr",
     "output_type": "stream",
     "text": [
      "Total Progress:  31%|███       | 4265/13706 [7:16:34<50:12:37, 19.15s/it]"
     ]
    },
    {
     "name": "stdout",
     "output_type": "stream",
     "text": [
      "💾 Saved checkpoint after 4265 train videos\n"
     ]
    },
    {
     "name": "stderr",
     "output_type": "stream",
     "text": [
      "Total Progress:  31%|███       | 4270/13706 [7:17:42<39:13:27, 14.96s/it]"
     ]
    },
    {
     "name": "stdout",
     "output_type": "stream",
     "text": [
      "💾 Saved checkpoint after 4270 train videos\n"
     ]
    },
    {
     "name": "stderr",
     "output_type": "stream",
     "text": [
      "Total Progress:  31%|███       | 4275/13706 [7:18:31<27:39:51, 10.56s/it]"
     ]
    },
    {
     "name": "stdout",
     "output_type": "stream",
     "text": [
      "💾 Saved checkpoint after 4275 train videos\n"
     ]
    },
    {
     "name": "stderr",
     "output_type": "stream",
     "text": [
      "Total Progress:  31%|███       | 4280/13706 [7:19:10<21:29:17,  8.21s/it]"
     ]
    },
    {
     "name": "stdout",
     "output_type": "stream",
     "text": [
      "💾 Saved checkpoint after 4280 train videos\n"
     ]
    },
    {
     "name": "stderr",
     "output_type": "stream",
     "text": [
      "Total Progress:  31%|███▏      | 4285/13706 [7:20:04<26:44:34, 10.22s/it]"
     ]
    },
    {
     "name": "stdout",
     "output_type": "stream",
     "text": [
      "💾 Saved checkpoint after 4285 train videos\n"
     ]
    },
    {
     "name": "stderr",
     "output_type": "stream",
     "text": [
      "Total Progress:  31%|███▏      | 4290/13706 [7:21:15<29:40:22, 11.34s/it]"
     ]
    },
    {
     "name": "stdout",
     "output_type": "stream",
     "text": [
      "💾 Saved checkpoint after 4290 train videos\n"
     ]
    },
    {
     "name": "stderr",
     "output_type": "stream",
     "text": [
      "Total Progress:  31%|███▏      | 4295/13706 [7:22:18<30:27:00, 11.65s/it]"
     ]
    },
    {
     "name": "stdout",
     "output_type": "stream",
     "text": [
      "💾 Saved checkpoint after 4295 train videos\n"
     ]
    },
    {
     "name": "stderr",
     "output_type": "stream",
     "text": [
      "Total Progress:  31%|███▏      | 4300/13706 [7:24:09<53:09:04, 20.34s/it]"
     ]
    },
    {
     "name": "stdout",
     "output_type": "stream",
     "text": [
      "💾 Saved checkpoint after 4300 train videos\n"
     ]
    },
    {
     "name": "stderr",
     "output_type": "stream",
     "text": [
      "Total Progress:  31%|███▏      | 4305/13706 [7:25:07<32:57:58, 12.62s/it]"
     ]
    },
    {
     "name": "stdout",
     "output_type": "stream",
     "text": [
      "💾 Saved checkpoint after 4305 train videos\n"
     ]
    },
    {
     "name": "stderr",
     "output_type": "stream",
     "text": [
      "Total Progress:  31%|███▏      | 4310/13706 [7:27:08<74:14:53, 28.45s/it]"
     ]
    },
    {
     "name": "stdout",
     "output_type": "stream",
     "text": [
      "💾 Saved checkpoint after 4310 train videos\n"
     ]
    },
    {
     "name": "stderr",
     "output_type": "stream",
     "text": [
      "Total Progress:  31%|███▏      | 4315/13706 [7:28:05<34:22:23, 13.18s/it]"
     ]
    },
    {
     "name": "stdout",
     "output_type": "stream",
     "text": [
      "💾 Saved checkpoint after 4315 train videos\n"
     ]
    },
    {
     "name": "stderr",
     "output_type": "stream",
     "text": [
      "Total Progress:  32%|███▏      | 4320/13706 [7:28:45<24:33:44,  9.42s/it]"
     ]
    },
    {
     "name": "stdout",
     "output_type": "stream",
     "text": [
      "💾 Saved checkpoint after 4320 train videos\n"
     ]
    },
    {
     "name": "stderr",
     "output_type": "stream",
     "text": [
      "Total Progress:  32%|███▏      | 4325/13706 [7:29:36<27:42:18, 10.63s/it]"
     ]
    },
    {
     "name": "stdout",
     "output_type": "stream",
     "text": [
      "💾 Saved checkpoint after 4325 train videos\n"
     ]
    },
    {
     "name": "stderr",
     "output_type": "stream",
     "text": [
      "Total Progress:  32%|███▏      | 4330/13706 [7:30:33<26:04:09, 10.01s/it]"
     ]
    },
    {
     "name": "stdout",
     "output_type": "stream",
     "text": [
      "💾 Saved checkpoint after 4330 train videos\n"
     ]
    },
    {
     "name": "stderr",
     "output_type": "stream",
     "text": [
      "Total Progress:  32%|███▏      | 4335/13706 [7:31:52<43:20:16, 16.65s/it]"
     ]
    },
    {
     "name": "stdout",
     "output_type": "stream",
     "text": [
      "💾 Saved checkpoint after 4335 train videos\n"
     ]
    },
    {
     "name": "stderr",
     "output_type": "stream",
     "text": [
      "Total Progress:  32%|███▏      | 4340/13706 [7:33:05<35:47:16, 13.76s/it]"
     ]
    },
    {
     "name": "stdout",
     "output_type": "stream",
     "text": [
      "💾 Saved checkpoint after 4340 train videos\n"
     ]
    },
    {
     "name": "stderr",
     "output_type": "stream",
     "text": [
      "Total Progress:  32%|███▏      | 4345/13706 [7:34:11<35:05:42, 13.50s/it]"
     ]
    },
    {
     "name": "stdout",
     "output_type": "stream",
     "text": [
      "💾 Saved checkpoint after 4345 train videos\n"
     ]
    },
    {
     "name": "stderr",
     "output_type": "stream",
     "text": [
      "Total Progress:  32%|███▏      | 4350/13706 [7:35:54<61:39:23, 23.72s/it]"
     ]
    },
    {
     "name": "stdout",
     "output_type": "stream",
     "text": [
      "💾 Saved checkpoint after 4350 train videos\n"
     ]
    },
    {
     "name": "stderr",
     "output_type": "stream",
     "text": [
      "Total Progress:  32%|███▏      | 4355/13706 [7:37:24<50:40:59, 19.51s/it]"
     ]
    },
    {
     "name": "stdout",
     "output_type": "stream",
     "text": [
      "💾 Saved checkpoint after 4355 train videos\n"
     ]
    },
    {
     "name": "stderr",
     "output_type": "stream",
     "text": [
      "Total Progress:  32%|███▏      | 4360/13706 [7:38:12<28:37:00, 11.02s/it]"
     ]
    },
    {
     "name": "stdout",
     "output_type": "stream",
     "text": [
      "💾 Saved checkpoint after 4360 train videos\n"
     ]
    },
    {
     "name": "stderr",
     "output_type": "stream",
     "text": [
      "Total Progress:  32%|███▏      | 4365/13706 [7:39:58<54:42:44, 21.09s/it]"
     ]
    },
    {
     "name": "stdout",
     "output_type": "stream",
     "text": [
      "💾 Saved checkpoint after 4365 train videos\n"
     ]
    },
    {
     "name": "stderr",
     "output_type": "stream",
     "text": [
      "Total Progress:  32%|███▏      | 4370/13706 [7:41:09<41:18:30, 15.93s/it]"
     ]
    },
    {
     "name": "stdout",
     "output_type": "stream",
     "text": [
      "💾 Saved checkpoint after 4370 train videos\n"
     ]
    },
    {
     "name": "stderr",
     "output_type": "stream",
     "text": [
      "Total Progress:  32%|███▏      | 4375/13706 [7:42:46<44:00:46, 16.98s/it]"
     ]
    },
    {
     "name": "stdout",
     "output_type": "stream",
     "text": [
      "💾 Saved checkpoint after 4375 train videos\n"
     ]
    },
    {
     "name": "stderr",
     "output_type": "stream",
     "text": [
      "Total Progress:  32%|███▏      | 4380/13706 [7:43:41<28:07:29, 10.86s/it]"
     ]
    },
    {
     "name": "stdout",
     "output_type": "stream",
     "text": [
      "💾 Saved checkpoint after 4380 train videos\n"
     ]
    },
    {
     "name": "stderr",
     "output_type": "stream",
     "text": [
      "Total Progress:  32%|███▏      | 4385/13706 [7:44:34<28:04:52, 10.85s/it]"
     ]
    },
    {
     "name": "stdout",
     "output_type": "stream",
     "text": [
      "💾 Saved checkpoint after 4385 train videos\n"
     ]
    },
    {
     "name": "stderr",
     "output_type": "stream",
     "text": [
      "Total Progress:  32%|███▏      | 4390/13706 [7:46:22<53:17:07, 20.59s/it]"
     ]
    },
    {
     "name": "stdout",
     "output_type": "stream",
     "text": [
      "💾 Saved checkpoint after 4390 train videos\n"
     ]
    },
    {
     "name": "stderr",
     "output_type": "stream",
     "text": [
      "Total Progress:  32%|███▏      | 4395/13706 [7:47:42<45:24:52, 17.56s/it]"
     ]
    },
    {
     "name": "stdout",
     "output_type": "stream",
     "text": [
      "💾 Saved checkpoint after 4395 train videos\n"
     ]
    },
    {
     "name": "stderr",
     "output_type": "stream",
     "text": [
      "Total Progress:  32%|███▏      | 4400/13706 [7:48:40<30:03:27, 11.63s/it]"
     ]
    },
    {
     "name": "stdout",
     "output_type": "stream",
     "text": [
      "💾 Saved checkpoint after 4400 train videos\n"
     ]
    },
    {
     "name": "stderr",
     "output_type": "stream",
     "text": [
      "Total Progress:  32%|███▏      | 4405/13706 [7:49:48<36:15:33, 14.03s/it]"
     ]
    },
    {
     "name": "stdout",
     "output_type": "stream",
     "text": [
      "💾 Saved checkpoint after 4405 train videos\n"
     ]
    },
    {
     "name": "stderr",
     "output_type": "stream",
     "text": [
      "Total Progress:  32%|███▏      | 4410/13706 [7:50:45<32:03:15, 12.41s/it]"
     ]
    },
    {
     "name": "stdout",
     "output_type": "stream",
     "text": [
      "💾 Saved checkpoint after 4410 train videos\n"
     ]
    },
    {
     "name": "stderr",
     "output_type": "stream",
     "text": [
      "Total Progress:  32%|███▏      | 4415/13706 [7:52:16<45:09:46, 17.50s/it]"
     ]
    },
    {
     "name": "stdout",
     "output_type": "stream",
     "text": [
      "💾 Saved checkpoint after 4415 train videos\n"
     ]
    },
    {
     "name": "stderr",
     "output_type": "stream",
     "text": [
      "Total Progress:  32%|███▏      | 4420/13706 [7:53:02<25:40:41,  9.95s/it]"
     ]
    },
    {
     "name": "stdout",
     "output_type": "stream",
     "text": [
      "💾 Saved checkpoint after 4420 train videos\n"
     ]
    },
    {
     "name": "stderr",
     "output_type": "stream",
     "text": [
      "Total Progress:  32%|███▏      | 4425/13706 [7:53:53<29:31:01, 11.45s/it]"
     ]
    },
    {
     "name": "stdout",
     "output_type": "stream",
     "text": [
      "💾 Saved checkpoint after 4425 train videos\n"
     ]
    },
    {
     "name": "stderr",
     "output_type": "stream",
     "text": [
      "Total Progress:  32%|███▏      | 4430/13706 [7:55:07<34:22:58, 13.34s/it]"
     ]
    },
    {
     "name": "stdout",
     "output_type": "stream",
     "text": [
      "💾 Saved checkpoint after 4430 train videos\n"
     ]
    },
    {
     "name": "stderr",
     "output_type": "stream",
     "text": [
      "Total Progress:  32%|███▏      | 4435/13706 [7:56:30<34:59:01, 13.58s/it]"
     ]
    },
    {
     "name": "stdout",
     "output_type": "stream",
     "text": [
      "💾 Saved checkpoint after 4435 train videos\n"
     ]
    },
    {
     "name": "stderr",
     "output_type": "stream",
     "text": [
      "Total Progress:  32%|███▏      | 4440/13706 [7:58:01<45:41:04, 17.75s/it]"
     ]
    },
    {
     "name": "stdout",
     "output_type": "stream",
     "text": [
      "💾 Saved checkpoint after 4440 train videos\n"
     ]
    },
    {
     "name": "stderr",
     "output_type": "stream",
     "text": [
      "Total Progress:  32%|███▏      | 4445/13706 [7:59:19<35:24:21, 13.76s/it]"
     ]
    },
    {
     "name": "stdout",
     "output_type": "stream",
     "text": [
      "💾 Saved checkpoint after 4445 train videos\n"
     ]
    },
    {
     "name": "stderr",
     "output_type": "stream",
     "text": [
      "Total Progress:  32%|███▏      | 4450/13706 [8:00:32<38:21:31, 14.92s/it]"
     ]
    },
    {
     "name": "stdout",
     "output_type": "stream",
     "text": [
      "💾 Saved checkpoint after 4450 train videos\n"
     ]
    },
    {
     "name": "stderr",
     "output_type": "stream",
     "text": [
      "Total Progress:  33%|███▎      | 4455/13706 [8:01:43<34:02:38, 13.25s/it]"
     ]
    },
    {
     "name": "stdout",
     "output_type": "stream",
     "text": [
      "💾 Saved checkpoint after 4455 train videos\n"
     ]
    },
    {
     "name": "stderr",
     "output_type": "stream",
     "text": [
      "Total Progress:  33%|███▎      | 4460/13706 [8:03:02<31:33:55, 12.29s/it]"
     ]
    },
    {
     "name": "stdout",
     "output_type": "stream",
     "text": [
      "💾 Saved checkpoint after 4460 train videos\n"
     ]
    },
    {
     "name": "stderr",
     "output_type": "stream",
     "text": [
      "Total Progress:  33%|███▎      | 4465/13706 [8:04:39<45:45:06, 17.82s/it]"
     ]
    },
    {
     "name": "stdout",
     "output_type": "stream",
     "text": [
      "💾 Saved checkpoint after 4465 train videos\n"
     ]
    },
    {
     "name": "stderr",
     "output_type": "stream",
     "text": [
      "Total Progress:  33%|███▎      | 4470/13706 [8:05:53<37:48:46, 14.74s/it]"
     ]
    },
    {
     "name": "stdout",
     "output_type": "stream",
     "text": [
      "💾 Saved checkpoint after 4470 train videos\n"
     ]
    },
    {
     "name": "stderr",
     "output_type": "stream",
     "text": [
      "Total Progress:  33%|███▎      | 4475/13706 [8:06:58<32:09:29, 12.54s/it]"
     ]
    },
    {
     "name": "stdout",
     "output_type": "stream",
     "text": [
      "💾 Saved checkpoint after 4475 train videos\n"
     ]
    },
    {
     "name": "stderr",
     "output_type": "stream",
     "text": [
      "Total Progress:  33%|███▎      | 4480/13706 [8:08:12<29:41:28, 11.59s/it]"
     ]
    },
    {
     "name": "stdout",
     "output_type": "stream",
     "text": [
      "💾 Saved checkpoint after 4480 train videos\n"
     ]
    },
    {
     "name": "stderr",
     "output_type": "stream",
     "text": [
      "Total Progress:  33%|███▎      | 4485/13706 [8:08:57<25:29:54,  9.95s/it]"
     ]
    },
    {
     "name": "stdout",
     "output_type": "stream",
     "text": [
      "💾 Saved checkpoint after 4485 train videos\n"
     ]
    },
    {
     "name": "stderr",
     "output_type": "stream",
     "text": [
      "Total Progress:  33%|███▎      | 4490/13706 [8:10:21<42:56:16, 16.77s/it]"
     ]
    },
    {
     "name": "stdout",
     "output_type": "stream",
     "text": [
      "💾 Saved checkpoint after 4490 train videos\n"
     ]
    },
    {
     "name": "stderr",
     "output_type": "stream",
     "text": [
      "Total Progress:  33%|███▎      | 4495/13706 [8:11:03<27:39:13, 10.81s/it]"
     ]
    },
    {
     "name": "stdout",
     "output_type": "stream",
     "text": [
      "💾 Saved checkpoint after 4495 train videos\n"
     ]
    },
    {
     "name": "stderr",
     "output_type": "stream",
     "text": [
      "Total Progress:  33%|███▎      | 4500/13706 [8:11:54<23:51:16,  9.33s/it]"
     ]
    },
    {
     "name": "stdout",
     "output_type": "stream",
     "text": [
      "💾 Saved checkpoint after 4500 train videos\n"
     ]
    },
    {
     "name": "stderr",
     "output_type": "stream",
     "text": [
      "Total Progress:  33%|███▎      | 4505/13706 [8:12:50<29:49:12, 11.67s/it]"
     ]
    },
    {
     "name": "stdout",
     "output_type": "stream",
     "text": [
      "💾 Saved checkpoint after 4505 train videos\n"
     ]
    },
    {
     "name": "stderr",
     "output_type": "stream",
     "text": [
      "Total Progress:  33%|███▎      | 4510/13706 [8:14:34<44:29:03, 17.41s/it]"
     ]
    },
    {
     "name": "stdout",
     "output_type": "stream",
     "text": [
      "💾 Saved checkpoint after 4510 train videos\n"
     ]
    },
    {
     "name": "stderr",
     "output_type": "stream",
     "text": [
      "Total Progress:  33%|███▎      | 4515/13706 [8:15:32<35:09:44, 13.77s/it]"
     ]
    },
    {
     "name": "stdout",
     "output_type": "stream",
     "text": [
      "💾 Saved checkpoint after 4515 train videos\n"
     ]
    },
    {
     "name": "stderr",
     "output_type": "stream",
     "text": [
      "Total Progress:  33%|███▎      | 4520/13706 [8:16:41<31:28:12, 12.33s/it]"
     ]
    },
    {
     "name": "stdout",
     "output_type": "stream",
     "text": [
      "💾 Saved checkpoint after 4520 train videos\n"
     ]
    },
    {
     "name": "stderr",
     "output_type": "stream",
     "text": [
      "Total Progress:  33%|███▎      | 4525/13706 [8:17:43<28:10:56, 11.05s/it]"
     ]
    },
    {
     "name": "stdout",
     "output_type": "stream",
     "text": [
      "💾 Saved checkpoint after 4525 train videos\n"
     ]
    },
    {
     "name": "stderr",
     "output_type": "stream",
     "text": [
      "Total Progress:  33%|███▎      | 4530/13706 [8:18:32<26:48:07, 10.52s/it]"
     ]
    },
    {
     "name": "stdout",
     "output_type": "stream",
     "text": [
      "💾 Saved checkpoint after 4530 train videos\n"
     ]
    },
    {
     "name": "stderr",
     "output_type": "stream",
     "text": [
      "Total Progress:  33%|███▎      | 4535/13706 [8:20:17<51:39:13, 20.28s/it]"
     ]
    },
    {
     "name": "stdout",
     "output_type": "stream",
     "text": [
      "💾 Saved checkpoint after 4535 train videos\n"
     ]
    },
    {
     "name": "stderr",
     "output_type": "stream",
     "text": [
      "Total Progress:  33%|███▎      | 4540/13706 [8:21:25<46:47:47, 18.38s/it]"
     ]
    },
    {
     "name": "stdout",
     "output_type": "stream",
     "text": [
      "💾 Saved checkpoint after 4540 train videos\n"
     ]
    },
    {
     "name": "stderr",
     "output_type": "stream",
     "text": [
      "Total Progress:  33%|███▎      | 4545/13706 [8:24:43<106:48:04, 41.97s/it]"
     ]
    },
    {
     "name": "stdout",
     "output_type": "stream",
     "text": [
      "💾 Saved checkpoint after 4545 train videos\n"
     ]
    },
    {
     "name": "stderr",
     "output_type": "stream",
     "text": [
      "Total Progress:  33%|███▎      | 4550/13706 [8:26:02<58:10:01, 22.87s/it]"
     ]
    },
    {
     "name": "stdout",
     "output_type": "stream",
     "text": [
      "💾 Saved checkpoint after 4550 train videos\n"
     ]
    },
    {
     "name": "stderr",
     "output_type": "stream",
     "text": [
      "Total Progress:  33%|███▎      | 4555/13706 [8:27:10<33:20:34, 13.12s/it]"
     ]
    },
    {
     "name": "stdout",
     "output_type": "stream",
     "text": [
      "💾 Saved checkpoint after 4555 train videos\n"
     ]
    },
    {
     "name": "stderr",
     "output_type": "stream",
     "text": [
      "Total Progress:  33%|███▎      | 4560/13706 [8:28:25<38:36:20, 15.20s/it]"
     ]
    },
    {
     "name": "stdout",
     "output_type": "stream",
     "text": [
      "💾 Saved checkpoint after 4560 train videos\n"
     ]
    },
    {
     "name": "stderr",
     "output_type": "stream",
     "text": [
      "Total Progress:  33%|███▎      | 4565/13706 [8:29:37<42:57:56, 16.92s/it]"
     ]
    },
    {
     "name": "stdout",
     "output_type": "stream",
     "text": [
      "💾 Saved checkpoint after 4565 train videos\n"
     ]
    },
    {
     "name": "stderr",
     "output_type": "stream",
     "text": [
      "Total Progress:  33%|███▎      | 4570/13706 [8:30:38<40:59:05, 16.15s/it]"
     ]
    },
    {
     "name": "stdout",
     "output_type": "stream",
     "text": [
      "💾 Saved checkpoint after 4570 train videos\n"
     ]
    },
    {
     "name": "stderr",
     "output_type": "stream",
     "text": [
      "Total Progress:  33%|███▎      | 4575/13706 [8:31:32<30:55:53, 12.20s/it]"
     ]
    },
    {
     "name": "stdout",
     "output_type": "stream",
     "text": [
      "💾 Saved checkpoint after 4575 train videos\n"
     ]
    },
    {
     "name": "stderr",
     "output_type": "stream",
     "text": [
      "Total Progress:  33%|███▎      | 4580/13706 [8:32:37<27:51:10, 10.99s/it]"
     ]
    },
    {
     "name": "stdout",
     "output_type": "stream",
     "text": [
      "💾 Saved checkpoint after 4580 train videos\n"
     ]
    },
    {
     "name": "stderr",
     "output_type": "stream",
     "text": [
      "Total Progress:  33%|███▎      | 4585/13706 [8:33:18<22:12:05,  8.76s/it]"
     ]
    },
    {
     "name": "stdout",
     "output_type": "stream",
     "text": [
      "💾 Saved checkpoint after 4585 train videos\n"
     ]
    },
    {
     "name": "stderr",
     "output_type": "stream",
     "text": [
      "Total Progress:  33%|███▎      | 4590/13706 [8:34:17<26:14:29, 10.36s/it]"
     ]
    },
    {
     "name": "stdout",
     "output_type": "stream",
     "text": [
      "💾 Saved checkpoint after 4590 train videos\n"
     ]
    },
    {
     "name": "stderr",
     "output_type": "stream",
     "text": [
      "Total Progress:  34%|███▎      | 4595/13706 [8:34:59<21:04:31,  8.33s/it]"
     ]
    },
    {
     "name": "stdout",
     "output_type": "stream",
     "text": [
      "💾 Saved checkpoint after 4595 train videos\n"
     ]
    },
    {
     "name": "stderr",
     "output_type": "stream",
     "text": [
      "Total Progress:  34%|███▎      | 4600/13706 [8:36:40<44:40:57, 17.66s/it]"
     ]
    },
    {
     "name": "stdout",
     "output_type": "stream",
     "text": [
      "💾 Saved checkpoint after 4600 train videos\n"
     ]
    },
    {
     "name": "stderr",
     "output_type": "stream",
     "text": [
      "Total Progress:  34%|███▎      | 4605/13706 [8:38:05<37:12:31, 14.72s/it]"
     ]
    },
    {
     "name": "stdout",
     "output_type": "stream",
     "text": [
      "💾 Saved checkpoint after 4605 train videos\n"
     ]
    },
    {
     "name": "stderr",
     "output_type": "stream",
     "text": [
      "Total Progress:  34%|███▎      | 4610/13706 [8:39:13<39:55:38, 15.80s/it]"
     ]
    },
    {
     "name": "stdout",
     "output_type": "stream",
     "text": [
      "💾 Saved checkpoint after 4610 train videos\n"
     ]
    },
    {
     "name": "stderr",
     "output_type": "stream",
     "text": [
      "Total Progress:  34%|███▎      | 4615/13706 [8:41:01<45:50:52, 18.16s/it]"
     ]
    },
    {
     "name": "stdout",
     "output_type": "stream",
     "text": [
      "💾 Saved checkpoint after 4615 train videos\n"
     ]
    },
    {
     "name": "stderr",
     "output_type": "stream",
     "text": [
      "Total Progress:  34%|███▎      | 4620/13706 [8:43:19<65:43:28, 26.04s/it]"
     ]
    },
    {
     "name": "stdout",
     "output_type": "stream",
     "text": [
      "💾 Saved checkpoint after 4620 train videos\n"
     ]
    },
    {
     "name": "stderr",
     "output_type": "stream",
     "text": [
      "Total Progress:  34%|███▎      | 4625/13706 [8:44:42<42:16:57, 16.76s/it]"
     ]
    },
    {
     "name": "stdout",
     "output_type": "stream",
     "text": [
      "💾 Saved checkpoint after 4625 train videos\n"
     ]
    },
    {
     "name": "stderr",
     "output_type": "stream",
     "text": [
      "Total Progress:  34%|███▍      | 4630/13706 [8:45:44<33:43:52, 13.38s/it]"
     ]
    },
    {
     "name": "stdout",
     "output_type": "stream",
     "text": [
      "💾 Saved checkpoint after 4630 train videos\n"
     ]
    },
    {
     "name": "stderr",
     "output_type": "stream",
     "text": [
      "Total Progress:  34%|███▍      | 4635/13706 [8:46:42<27:52:29, 11.06s/it]"
     ]
    },
    {
     "name": "stdout",
     "output_type": "stream",
     "text": [
      "💾 Saved checkpoint after 4635 train videos\n"
     ]
    },
    {
     "name": "stderr",
     "output_type": "stream",
     "text": [
      "Total Progress:  34%|███▍      | 4640/13706 [8:47:17<20:51:35,  8.28s/it]"
     ]
    },
    {
     "name": "stdout",
     "output_type": "stream",
     "text": [
      "💾 Saved checkpoint after 4640 train videos\n"
     ]
    },
    {
     "name": "stderr",
     "output_type": "stream",
     "text": [
      "Total Progress:  34%|███▍      | 4645/13706 [8:48:36<43:28:33, 17.27s/it]"
     ]
    },
    {
     "name": "stdout",
     "output_type": "stream",
     "text": [
      "💾 Saved checkpoint after 4645 train videos\n"
     ]
    },
    {
     "name": "stderr",
     "output_type": "stream",
     "text": [
      "Total Progress:  34%|███▍      | 4650/13706 [8:50:17<46:30:09, 18.49s/it]"
     ]
    },
    {
     "name": "stdout",
     "output_type": "stream",
     "text": [
      "💾 Saved checkpoint after 4650 train videos\n"
     ]
    },
    {
     "name": "stderr",
     "output_type": "stream",
     "text": [
      "Total Progress:  34%|███▍      | 4655/13706 [8:51:12<31:38:41, 12.59s/it]"
     ]
    },
    {
     "name": "stdout",
     "output_type": "stream",
     "text": [
      "💾 Saved checkpoint after 4655 train videos\n"
     ]
    },
    {
     "name": "stderr",
     "output_type": "stream",
     "text": [
      "Total Progress:  34%|███▍      | 4660/13706 [8:52:31<34:14:59, 13.63s/it]"
     ]
    },
    {
     "name": "stdout",
     "output_type": "stream",
     "text": [
      "💾 Saved checkpoint after 4660 train videos\n"
     ]
    },
    {
     "name": "stderr",
     "output_type": "stream",
     "text": [
      "Total Progress:  34%|███▍      | 4665/13706 [8:54:07<48:19:05, 19.24s/it]"
     ]
    },
    {
     "name": "stdout",
     "output_type": "stream",
     "text": [
      "💾 Saved checkpoint after 4665 train videos\n"
     ]
    },
    {
     "name": "stderr",
     "output_type": "stream",
     "text": [
      "Total Progress:  34%|███▍      | 4670/13706 [8:55:33<45:55:28, 18.30s/it]"
     ]
    },
    {
     "name": "stdout",
     "output_type": "stream",
     "text": [
      "💾 Saved checkpoint after 4670 train videos\n"
     ]
    },
    {
     "name": "stderr",
     "output_type": "stream",
     "text": [
      "Total Progress:  34%|███▍      | 4675/13706 [8:56:42<42:41:09, 17.02s/it]"
     ]
    },
    {
     "name": "stdout",
     "output_type": "stream",
     "text": [
      "💾 Saved checkpoint after 4675 train videos\n"
     ]
    },
    {
     "name": "stderr",
     "output_type": "stream",
     "text": [
      "Total Progress:  34%|███▍      | 4680/13706 [8:57:53<33:36:03, 13.40s/it]"
     ]
    },
    {
     "name": "stdout",
     "output_type": "stream",
     "text": [
      "💾 Saved checkpoint after 4680 train videos\n"
     ]
    },
    {
     "name": "stderr",
     "output_type": "stream",
     "text": [
      "Total Progress:  34%|███▍      | 4685/13706 [8:59:17<35:01:52, 13.98s/it]"
     ]
    },
    {
     "name": "stdout",
     "output_type": "stream",
     "text": [
      "💾 Saved checkpoint after 4685 train videos\n"
     ]
    },
    {
     "name": "stderr",
     "output_type": "stream",
     "text": [
      "Total Progress:  34%|███▍      | 4690/13706 [9:00:03<22:15:04,  8.88s/it]"
     ]
    },
    {
     "name": "stdout",
     "output_type": "stream",
     "text": [
      "💾 Saved checkpoint after 4690 train videos\n"
     ]
    },
    {
     "name": "stderr",
     "output_type": "stream",
     "text": [
      "Total Progress:  34%|███▍      | 4695/13706 [9:00:43<22:18:27,  8.91s/it]"
     ]
    },
    {
     "name": "stdout",
     "output_type": "stream",
     "text": [
      "💾 Saved checkpoint after 4695 train videos\n"
     ]
    },
    {
     "name": "stderr",
     "output_type": "stream",
     "text": [
      "Total Progress:  34%|███▍      | 4700/13706 [9:01:41<29:35:14, 11.83s/it]"
     ]
    },
    {
     "name": "stdout",
     "output_type": "stream",
     "text": [
      "💾 Saved checkpoint after 4700 train videos\n"
     ]
    },
    {
     "name": "stderr",
     "output_type": "stream",
     "text": [
      "Total Progress:  34%|███▍      | 4705/13706 [9:02:48<34:21:54, 13.74s/it]"
     ]
    },
    {
     "name": "stdout",
     "output_type": "stream",
     "text": [
      "💾 Saved checkpoint after 4705 train videos\n"
     ]
    },
    {
     "name": "stderr",
     "output_type": "stream",
     "text": [
      "Total Progress:  34%|███▍      | 4710/13706 [9:03:53<36:14:57, 14.51s/it]"
     ]
    },
    {
     "name": "stdout",
     "output_type": "stream",
     "text": [
      "💾 Saved checkpoint after 4710 train videos\n"
     ]
    },
    {
     "name": "stderr",
     "output_type": "stream",
     "text": [
      "Total Progress:  34%|███▍      | 4715/13706 [9:05:16<36:53:08, 14.77s/it]"
     ]
    },
    {
     "name": "stdout",
     "output_type": "stream",
     "text": [
      "💾 Saved checkpoint after 4715 train videos\n"
     ]
    },
    {
     "name": "stderr",
     "output_type": "stream",
     "text": [
      "Total Progress:  34%|███▍      | 4720/13706 [9:06:44<37:43:31, 15.11s/it]"
     ]
    },
    {
     "name": "stdout",
     "output_type": "stream",
     "text": [
      "💾 Saved checkpoint after 4720 train videos\n"
     ]
    },
    {
     "name": "stderr",
     "output_type": "stream",
     "text": [
      "Total Progress:  34%|███▍      | 4725/13706 [9:08:06<42:35:16, 17.07s/it]"
     ]
    },
    {
     "name": "stdout",
     "output_type": "stream",
     "text": [
      "💾 Saved checkpoint after 4725 train videos\n"
     ]
    },
    {
     "name": "stderr",
     "output_type": "stream",
     "text": [
      "Total Progress:  35%|███▍      | 4730/13706 [9:09:02<32:23:25, 12.99s/it]"
     ]
    },
    {
     "name": "stdout",
     "output_type": "stream",
     "text": [
      "💾 Saved checkpoint after 4730 train videos\n"
     ]
    },
    {
     "name": "stderr",
     "output_type": "stream",
     "text": [
      "Total Progress:  35%|███▍      | 4735/13706 [9:10:19<38:33:09, 15.47s/it]"
     ]
    },
    {
     "name": "stdout",
     "output_type": "stream",
     "text": [
      "💾 Saved checkpoint after 4735 train videos\n"
     ]
    },
    {
     "name": "stderr",
     "output_type": "stream",
     "text": [
      "Total Progress:  35%|███▍      | 4740/13706 [9:10:56<21:01:07,  8.44s/it]"
     ]
    },
    {
     "name": "stdout",
     "output_type": "stream",
     "text": [
      "💾 Saved checkpoint after 4740 train videos\n"
     ]
    },
    {
     "name": "stderr",
     "output_type": "stream",
     "text": [
      "Total Progress:  35%|███▍      | 4745/13706 [9:11:48<22:36:33,  9.08s/it]"
     ]
    },
    {
     "name": "stdout",
     "output_type": "stream",
     "text": [
      "💾 Saved checkpoint after 4745 train videos\n"
     ]
    },
    {
     "name": "stderr",
     "output_type": "stream",
     "text": [
      "Total Progress:  35%|███▍      | 4750/13706 [9:12:41<26:36:13, 10.69s/it]"
     ]
    },
    {
     "name": "stdout",
     "output_type": "stream",
     "text": [
      "💾 Saved checkpoint after 4750 train videos\n"
     ]
    },
    {
     "name": "stderr",
     "output_type": "stream",
     "text": [
      "Total Progress:  35%|███▍      | 4755/13706 [9:14:02<39:37:32, 15.94s/it]"
     ]
    },
    {
     "name": "stdout",
     "output_type": "stream",
     "text": [
      "💾 Saved checkpoint after 4755 train videos\n"
     ]
    },
    {
     "name": "stderr",
     "output_type": "stream",
     "text": [
      "Total Progress:  35%|███▍      | 4760/13706 [9:14:53<29:58:50, 12.06s/it]"
     ]
    },
    {
     "name": "stdout",
     "output_type": "stream",
     "text": [
      "💾 Saved checkpoint after 4760 train videos\n"
     ]
    },
    {
     "name": "stderr",
     "output_type": "stream",
     "text": [
      "Total Progress:  35%|███▍      | 4765/13706 [9:16:07<31:41:49, 12.76s/it]"
     ]
    },
    {
     "name": "stdout",
     "output_type": "stream",
     "text": [
      "💾 Saved checkpoint after 4765 train videos\n"
     ]
    },
    {
     "name": "stderr",
     "output_type": "stream",
     "text": [
      "Total Progress:  35%|███▍      | 4770/13706 [9:18:04<50:10:08, 20.21s/it]"
     ]
    },
    {
     "name": "stdout",
     "output_type": "stream",
     "text": [
      "💾 Saved checkpoint after 4770 train videos\n"
     ]
    },
    {
     "name": "stderr",
     "output_type": "stream",
     "text": [
      "Total Progress:  35%|███▍      | 4775/13706 [9:18:59<30:58:32, 12.49s/it]"
     ]
    },
    {
     "name": "stdout",
     "output_type": "stream",
     "text": [
      "💾 Saved checkpoint after 4775 train videos\n"
     ]
    },
    {
     "name": "stderr",
     "output_type": "stream",
     "text": [
      "Total Progress:  35%|███▍      | 4780/13706 [9:22:15<130:54:49, 52.80s/it]"
     ]
    },
    {
     "name": "stdout",
     "output_type": "stream",
     "text": [
      "💾 Saved checkpoint after 4780 train videos\n"
     ]
    },
    {
     "name": "stderr",
     "output_type": "stream",
     "text": [
      "Total Progress:  35%|███▍      | 4785/13706 [9:23:58<57:43:05, 23.29s/it]"
     ]
    },
    {
     "name": "stdout",
     "output_type": "stream",
     "text": [
      "💾 Saved checkpoint after 4785 train videos\n"
     ]
    },
    {
     "name": "stderr",
     "output_type": "stream",
     "text": [
      "Total Progress:  35%|███▍      | 4790/13706 [9:25:02<36:08:33, 14.59s/it]"
     ]
    },
    {
     "name": "stdout",
     "output_type": "stream",
     "text": [
      "💾 Saved checkpoint after 4790 train videos\n"
     ]
    },
    {
     "name": "stderr",
     "output_type": "stream",
     "text": [
      "Total Progress:  35%|███▍      | 4795/13706 [9:25:47<20:07:31,  8.13s/it]"
     ]
    },
    {
     "name": "stdout",
     "output_type": "stream",
     "text": [
      "💾 Saved checkpoint after 4795 train videos\n"
     ]
    },
    {
     "name": "stderr",
     "output_type": "stream",
     "text": [
      "Total Progress:  35%|███▌      | 4800/13706 [9:26:55<29:26:12, 11.90s/it]"
     ]
    },
    {
     "name": "stdout",
     "output_type": "stream",
     "text": [
      "💾 Saved checkpoint after 4800 train videos\n"
     ]
    },
    {
     "name": "stderr",
     "output_type": "stream",
     "text": [
      "Total Progress:  35%|███▌      | 4805/13706 [9:27:52<34:48:32, 14.08s/it]"
     ]
    },
    {
     "name": "stdout",
     "output_type": "stream",
     "text": [
      "💾 Saved checkpoint after 4805 train videos\n"
     ]
    },
    {
     "name": "stderr",
     "output_type": "stream",
     "text": [
      "Total Progress:  35%|███▌      | 4810/13706 [9:30:39<88:30:50, 35.82s/it]"
     ]
    },
    {
     "name": "stdout",
     "output_type": "stream",
     "text": [
      "💾 Saved checkpoint after 4810 train videos\n"
     ]
    },
    {
     "name": "stderr",
     "output_type": "stream",
     "text": [
      "Total Progress:  35%|███▌      | 4815/13706 [9:31:45<42:11:12, 17.08s/it]"
     ]
    },
    {
     "name": "stdout",
     "output_type": "stream",
     "text": [
      "💾 Saved checkpoint after 4815 train videos\n"
     ]
    },
    {
     "name": "stderr",
     "output_type": "stream",
     "text": [
      "Total Progress:  35%|███▌      | 4820/13706 [9:32:45<31:01:40, 12.57s/it]"
     ]
    },
    {
     "name": "stdout",
     "output_type": "stream",
     "text": [
      "💾 Saved checkpoint after 4820 train videos\n"
     ]
    },
    {
     "name": "stderr",
     "output_type": "stream",
     "text": [
      "Total Progress:  35%|███▌      | 4825/13706 [9:34:20<39:26:41, 15.99s/it]"
     ]
    },
    {
     "name": "stdout",
     "output_type": "stream",
     "text": [
      "💾 Saved checkpoint after 4825 train videos\n"
     ]
    },
    {
     "name": "stderr",
     "output_type": "stream",
     "text": [
      "Total Progress:  35%|███▌      | 4830/13706 [9:35:46<37:55:31, 15.38s/it]"
     ]
    },
    {
     "name": "stdout",
     "output_type": "stream",
     "text": [
      "💾 Saved checkpoint after 4830 train videos\n"
     ]
    },
    {
     "name": "stderr",
     "output_type": "stream",
     "text": [
      "Total Progress:  35%|███▌      | 4835/13706 [9:36:59<26:16:08, 10.66s/it]"
     ]
    },
    {
     "name": "stdout",
     "output_type": "stream",
     "text": [
      "💾 Saved checkpoint after 4835 train videos\n"
     ]
    },
    {
     "name": "stderr",
     "output_type": "stream",
     "text": [
      "Total Progress:  35%|███▌      | 4840/13706 [9:37:56<34:33:48, 14.03s/it]"
     ]
    },
    {
     "name": "stdout",
     "output_type": "stream",
     "text": [
      "💾 Saved checkpoint after 4840 train videos\n"
     ]
    },
    {
     "name": "stderr",
     "output_type": "stream",
     "text": [
      "Total Progress:  35%|███▌      | 4845/13706 [9:38:52<28:46:55, 11.69s/it]"
     ]
    },
    {
     "name": "stdout",
     "output_type": "stream",
     "text": [
      "💾 Saved checkpoint after 4845 train videos\n"
     ]
    },
    {
     "name": "stderr",
     "output_type": "stream",
     "text": [
      "Total Progress:  35%|███▌      | 4850/13706 [9:40:20<36:28:06, 14.82s/it]"
     ]
    },
    {
     "name": "stdout",
     "output_type": "stream",
     "text": [
      "💾 Saved checkpoint after 4850 train videos\n"
     ]
    },
    {
     "name": "stderr",
     "output_type": "stream",
     "text": [
      "Total Progress:  35%|███▌      | 4855/13706 [9:42:17<49:50:16, 20.27s/it]"
     ]
    },
    {
     "name": "stdout",
     "output_type": "stream",
     "text": [
      "💾 Saved checkpoint after 4855 train videos\n"
     ]
    },
    {
     "name": "stderr",
     "output_type": "stream",
     "text": [
      "Total Progress:  35%|███▌      | 4860/13706 [9:44:00<67:51:11, 27.61s/it]"
     ]
    },
    {
     "name": "stdout",
     "output_type": "stream",
     "text": [
      "💾 Saved checkpoint after 4860 train videos\n"
     ]
    },
    {
     "name": "stderr",
     "output_type": "stream",
     "text": [
      "Total Progress:  35%|███▌      | 4865/13706 [9:46:22<73:03:35, 29.75s/it]"
     ]
    },
    {
     "name": "stdout",
     "output_type": "stream",
     "text": [
      "💾 Saved checkpoint after 4865 train videos\n"
     ]
    },
    {
     "name": "stderr",
     "output_type": "stream",
     "text": [
      "Total Progress:  36%|███▌      | 4870/13706 [9:47:50<61:02:55, 24.87s/it]"
     ]
    },
    {
     "name": "stdout",
     "output_type": "stream",
     "text": [
      "💾 Saved checkpoint after 4870 train videos\n"
     ]
    },
    {
     "name": "stderr",
     "output_type": "stream",
     "text": [
      "Total Progress:  36%|███▌      | 4875/13706 [9:49:23<42:55:35, 17.50s/it]"
     ]
    },
    {
     "name": "stdout",
     "output_type": "stream",
     "text": [
      "💾 Saved checkpoint after 4875 train videos\n"
     ]
    },
    {
     "name": "stderr",
     "output_type": "stream",
     "text": [
      "Total Progress:  36%|███▌      | 4880/13706 [9:50:30<33:37:27, 13.71s/it]"
     ]
    },
    {
     "name": "stdout",
     "output_type": "stream",
     "text": [
      "💾 Saved checkpoint after 4880 train videos\n"
     ]
    },
    {
     "name": "stderr",
     "output_type": "stream",
     "text": [
      "Total Progress:  36%|███▌      | 4885/13706 [9:51:20<21:54:46,  8.94s/it]"
     ]
    },
    {
     "name": "stdout",
     "output_type": "stream",
     "text": [
      "💾 Saved checkpoint after 4885 train videos\n"
     ]
    },
    {
     "name": "stderr",
     "output_type": "stream",
     "text": [
      "Total Progress:  36%|███▌      | 4890/13706 [9:52:52<47:12:14, 19.28s/it]"
     ]
    },
    {
     "name": "stdout",
     "output_type": "stream",
     "text": [
      "💾 Saved checkpoint after 4890 train videos\n"
     ]
    },
    {
     "name": "stderr",
     "output_type": "stream",
     "text": [
      "Total Progress:  36%|███▌      | 4895/13706 [9:53:51<33:23:36, 13.64s/it]"
     ]
    },
    {
     "name": "stdout",
     "output_type": "stream",
     "text": [
      "💾 Saved checkpoint after 4895 train videos\n"
     ]
    },
    {
     "name": "stderr",
     "output_type": "stream",
     "text": [
      "Total Progress:  36%|███▌      | 4900/13706 [9:54:35<24:40:07, 10.08s/it]"
     ]
    },
    {
     "name": "stdout",
     "output_type": "stream",
     "text": [
      "💾 Saved checkpoint after 4900 train videos\n"
     ]
    },
    {
     "name": "stderr",
     "output_type": "stream",
     "text": [
      "Total Progress:  36%|███▌      | 4905/13706 [9:55:39<23:36:21,  9.66s/it]"
     ]
    },
    {
     "name": "stdout",
     "output_type": "stream",
     "text": [
      "💾 Saved checkpoint after 4905 train videos\n"
     ]
    },
    {
     "name": "stderr",
     "output_type": "stream",
     "text": [
      "Total Progress:  36%|███▌      | 4910/13706 [9:56:53<40:21:49, 16.52s/it]"
     ]
    },
    {
     "name": "stdout",
     "output_type": "stream",
     "text": [
      "💾 Saved checkpoint after 4910 train videos\n"
     ]
    },
    {
     "name": "stderr",
     "output_type": "stream",
     "text": [
      "Total Progress:  36%|███▌      | 4915/13706 [9:58:16<44:03:03, 18.04s/it]"
     ]
    },
    {
     "name": "stdout",
     "output_type": "stream",
     "text": [
      "💾 Saved checkpoint after 4915 train videos\n"
     ]
    },
    {
     "name": "stderr",
     "output_type": "stream",
     "text": [
      "Total Progress:  36%|███▌      | 4920/13706 [9:59:07<31:25:20, 12.88s/it]"
     ]
    },
    {
     "name": "stdout",
     "output_type": "stream",
     "text": [
      "💾 Saved checkpoint after 4920 train videos\n"
     ]
    },
    {
     "name": "stderr",
     "output_type": "stream",
     "text": [
      "Total Progress:  36%|███▌      | 4925/13706 [10:00:35<49:48:37, 20.42s/it]"
     ]
    },
    {
     "name": "stdout",
     "output_type": "stream",
     "text": [
      "💾 Saved checkpoint after 4925 train videos\n"
     ]
    },
    {
     "name": "stderr",
     "output_type": "stream",
     "text": [
      "Total Progress:  36%|███▌      | 4930/13706 [10:02:00<44:56:13, 18.43s/it]"
     ]
    },
    {
     "name": "stdout",
     "output_type": "stream",
     "text": [
      "💾 Saved checkpoint after 4930 train videos\n"
     ]
    },
    {
     "name": "stderr",
     "output_type": "stream",
     "text": [
      "Total Progress:  36%|███▌      | 4935/13706 [10:03:00<28:39:25, 11.76s/it]"
     ]
    },
    {
     "name": "stdout",
     "output_type": "stream",
     "text": [
      "💾 Saved checkpoint after 4935 train videos\n"
     ]
    },
    {
     "name": "stderr",
     "output_type": "stream",
     "text": [
      "Total Progress:  36%|███▌      | 4940/13706 [10:03:36<21:44:43,  8.93s/it]"
     ]
    },
    {
     "name": "stdout",
     "output_type": "stream",
     "text": [
      "💾 Saved checkpoint after 4940 train videos\n"
     ]
    },
    {
     "name": "stderr",
     "output_type": "stream",
     "text": [
      "Total Progress:  36%|███▌      | 4945/13706 [10:05:32<48:32:38, 19.95s/it]"
     ]
    },
    {
     "name": "stdout",
     "output_type": "stream",
     "text": [
      "💾 Saved checkpoint after 4945 train videos\n"
     ]
    },
    {
     "name": "stderr",
     "output_type": "stream",
     "text": [
      "Total Progress:  36%|███▌      | 4950/13706 [10:06:55<50:52:42, 20.92s/it]"
     ]
    },
    {
     "name": "stdout",
     "output_type": "stream",
     "text": [
      "💾 Saved checkpoint after 4950 train videos\n"
     ]
    },
    {
     "name": "stderr",
     "output_type": "stream",
     "text": [
      "Total Progress:  36%|███▌      | 4955/13706 [10:09:15<84:58:52, 34.96s/it]"
     ]
    },
    {
     "name": "stdout",
     "output_type": "stream",
     "text": [
      "💾 Saved checkpoint after 4955 train videos\n"
     ]
    },
    {
     "name": "stderr",
     "output_type": "stream",
     "text": [
      "Total Progress:  36%|███▌      | 4960/13706 [10:11:55<74:28:29, 30.66s/it]"
     ]
    },
    {
     "name": "stdout",
     "output_type": "stream",
     "text": [
      "💾 Saved checkpoint after 4960 train videos\n"
     ]
    },
    {
     "name": "stderr",
     "output_type": "stream",
     "text": [
      "Total Progress:  36%|███▌      | 4965/13706 [10:14:19<56:51:42, 23.42s/it]"
     ]
    },
    {
     "name": "stdout",
     "output_type": "stream",
     "text": [
      "💾 Saved checkpoint after 4965 train videos\n"
     ]
    },
    {
     "name": "stderr",
     "output_type": "stream",
     "text": [
      "Total Progress:  36%|███▋      | 4970/13706 [10:15:10<28:55:15, 11.92s/it]"
     ]
    },
    {
     "name": "stdout",
     "output_type": "stream",
     "text": [
      "💾 Saved checkpoint after 4970 train videos\n"
     ]
    },
    {
     "name": "stderr",
     "output_type": "stream",
     "text": [
      "Total Progress:  36%|███▋      | 4975/13706 [10:16:01<25:40:49, 10.59s/it]"
     ]
    },
    {
     "name": "stdout",
     "output_type": "stream",
     "text": [
      "💾 Saved checkpoint after 4975 train videos\n"
     ]
    },
    {
     "name": "stderr",
     "output_type": "stream",
     "text": [
      "Total Progress:  36%|███▋      | 4980/13706 [10:16:51<23:58:19,  9.89s/it]"
     ]
    },
    {
     "name": "stdout",
     "output_type": "stream",
     "text": [
      "💾 Saved checkpoint after 4980 train videos\n"
     ]
    },
    {
     "name": "stderr",
     "output_type": "stream",
     "text": [
      "Total Progress:  36%|███▋      | 4985/13706 [10:18:18<45:55:13, 18.96s/it]"
     ]
    },
    {
     "name": "stdout",
     "output_type": "stream",
     "text": [
      "💾 Saved checkpoint after 4985 train videos\n"
     ]
    },
    {
     "name": "stderr",
     "output_type": "stream",
     "text": [
      "Total Progress:  36%|███▋      | 4990/13706 [10:20:16<65:23:14, 27.01s/it]"
     ]
    },
    {
     "name": "stdout",
     "output_type": "stream",
     "text": [
      "💾 Saved checkpoint after 4990 train videos\n"
     ]
    },
    {
     "name": "stderr",
     "output_type": "stream",
     "text": [
      "Total Progress:  36%|███▋      | 4995/13706 [10:21:16<34:47:53, 14.38s/it]"
     ]
    },
    {
     "name": "stdout",
     "output_type": "stream",
     "text": [
      "💾 Saved checkpoint after 4995 train videos\n"
     ]
    },
    {
     "name": "stderr",
     "output_type": "stream",
     "text": [
      "Total Progress:  36%|███▋      | 5000/13706 [10:22:14<29:47:05, 12.32s/it]"
     ]
    },
    {
     "name": "stdout",
     "output_type": "stream",
     "text": [
      "💾 Saved checkpoint after 5000 train videos\n"
     ]
    },
    {
     "name": "stderr",
     "output_type": "stream",
     "text": [
      "Total Progress:  37%|███▋      | 5005/13706 [10:23:14<28:15:20, 11.69s/it]"
     ]
    },
    {
     "name": "stdout",
     "output_type": "stream",
     "text": [
      "💾 Saved checkpoint after 5005 train videos\n"
     ]
    },
    {
     "name": "stderr",
     "output_type": "stream",
     "text": [
      "Total Progress:  37%|███▋      | 5010/13706 [10:24:50<40:25:46, 16.74s/it]"
     ]
    },
    {
     "name": "stdout",
     "output_type": "stream",
     "text": [
      "💾 Saved checkpoint after 5010 train videos\n"
     ]
    },
    {
     "name": "stderr",
     "output_type": "stream",
     "text": [
      "Total Progress:  37%|███▋      | 5015/13706 [10:25:52<33:25:27, 13.85s/it]"
     ]
    },
    {
     "name": "stdout",
     "output_type": "stream",
     "text": [
      "💾 Saved checkpoint after 5015 train videos\n"
     ]
    },
    {
     "name": "stderr",
     "output_type": "stream",
     "text": [
      "Total Progress:  37%|███▋      | 5020/13706 [10:27:05<44:35:28, 18.48s/it]"
     ]
    },
    {
     "name": "stdout",
     "output_type": "stream",
     "text": [
      "💾 Saved checkpoint after 5020 train videos\n"
     ]
    },
    {
     "name": "stderr",
     "output_type": "stream",
     "text": [
      "Total Progress:  37%|███▋      | 5025/13706 [10:28:32<40:48:00, 16.92s/it]"
     ]
    },
    {
     "name": "stdout",
     "output_type": "stream",
     "text": [
      "💾 Saved checkpoint after 5025 train videos\n"
     ]
    },
    {
     "name": "stderr",
     "output_type": "stream",
     "text": [
      "Total Progress:  37%|███▋      | 5030/13706 [10:30:22<42:09:50, 17.50s/it]"
     ]
    },
    {
     "name": "stdout",
     "output_type": "stream",
     "text": [
      "💾 Saved checkpoint after 5030 train videos\n"
     ]
    },
    {
     "name": "stderr",
     "output_type": "stream",
     "text": [
      "Total Progress:  37%|███▋      | 5035/13706 [10:31:28<41:09:42, 17.09s/it]"
     ]
    },
    {
     "name": "stdout",
     "output_type": "stream",
     "text": [
      "💾 Saved checkpoint after 5035 train videos\n"
     ]
    },
    {
     "name": "stderr",
     "output_type": "stream",
     "text": [
      "Total Progress:  37%|███▋      | 5040/13706 [10:32:21<25:00:05, 10.39s/it]"
     ]
    },
    {
     "name": "stdout",
     "output_type": "stream",
     "text": [
      "💾 Saved checkpoint after 5040 train videos\n"
     ]
    },
    {
     "name": "stderr",
     "output_type": "stream",
     "text": [
      "Total Progress:  37%|███▋      | 5045/13706 [10:33:43<32:23:11, 13.46s/it]"
     ]
    },
    {
     "name": "stdout",
     "output_type": "stream",
     "text": [
      "💾 Saved checkpoint after 5045 train videos\n"
     ]
    },
    {
     "name": "stderr",
     "output_type": "stream",
     "text": [
      "Total Progress:  37%|███▋      | 5050/13706 [10:35:01<30:36:35, 12.73s/it]"
     ]
    },
    {
     "name": "stdout",
     "output_type": "stream",
     "text": [
      "💾 Saved checkpoint after 5050 train videos\n"
     ]
    },
    {
     "name": "stderr",
     "output_type": "stream",
     "text": [
      "Total Progress:  37%|███▋      | 5055/13706 [10:36:12<28:29:57, 11.86s/it]"
     ]
    },
    {
     "name": "stdout",
     "output_type": "stream",
     "text": [
      "💾 Saved checkpoint after 5055 train videos\n"
     ]
    },
    {
     "name": "stderr",
     "output_type": "stream",
     "text": [
      "Total Progress:  37%|███▋      | 5060/13706 [10:37:53<55:54:14, 23.28s/it]"
     ]
    },
    {
     "name": "stdout",
     "output_type": "stream",
     "text": [
      "💾 Saved checkpoint after 5060 train videos\n"
     ]
    },
    {
     "name": "stderr",
     "output_type": "stream",
     "text": [
      "Total Progress:  37%|███▋      | 5065/13706 [10:39:22<39:41:36, 16.54s/it]"
     ]
    },
    {
     "name": "stdout",
     "output_type": "stream",
     "text": [
      "💾 Saved checkpoint after 5065 train videos\n"
     ]
    },
    {
     "name": "stderr",
     "output_type": "stream",
     "text": [
      "Total Progress:  37%|███▋      | 5070/13706 [10:40:39<38:55:09, 16.22s/it]"
     ]
    },
    {
     "name": "stdout",
     "output_type": "stream",
     "text": [
      "💾 Saved checkpoint after 5070 train videos\n"
     ]
    },
    {
     "name": "stderr",
     "output_type": "stream",
     "text": [
      "Total Progress:  37%|███▋      | 5075/13706 [10:42:17<39:00:32, 16.27s/it]"
     ]
    },
    {
     "name": "stdout",
     "output_type": "stream",
     "text": [
      "💾 Saved checkpoint after 5075 train videos\n"
     ]
    },
    {
     "name": "stderr",
     "output_type": "stream",
     "text": [
      "Total Progress:  37%|███▋      | 5080/13706 [10:43:27<32:50:28, 13.71s/it]"
     ]
    },
    {
     "name": "stdout",
     "output_type": "stream",
     "text": [
      "💾 Saved checkpoint after 5080 train videos\n"
     ]
    },
    {
     "name": "stderr",
     "output_type": "stream",
     "text": [
      "Total Progress:  37%|███▋      | 5085/13706 [10:44:56<44:31:45, 18.59s/it]"
     ]
    },
    {
     "name": "stdout",
     "output_type": "stream",
     "text": [
      "💾 Saved checkpoint after 5085 train videos\n"
     ]
    },
    {
     "name": "stderr",
     "output_type": "stream",
     "text": [
      "Total Progress:  37%|███▋      | 5090/13706 [10:46:57<44:41:16, 18.67s/it]"
     ]
    },
    {
     "name": "stdout",
     "output_type": "stream",
     "text": [
      "💾 Saved checkpoint after 5090 train videos\n"
     ]
    },
    {
     "name": "stderr",
     "output_type": "stream",
     "text": [
      "Total Progress:  37%|███▋      | 5095/13706 [10:48:07<34:41:50, 14.51s/it]"
     ]
    },
    {
     "name": "stdout",
     "output_type": "stream",
     "text": [
      "💾 Saved checkpoint after 5095 train videos\n"
     ]
    },
    {
     "name": "stderr",
     "output_type": "stream",
     "text": [
      "Total Progress:  37%|███▋      | 5100/13706 [10:49:31<41:57:58, 17.56s/it]"
     ]
    },
    {
     "name": "stdout",
     "output_type": "stream",
     "text": [
      "💾 Saved checkpoint after 5100 train videos\n"
     ]
    },
    {
     "name": "stderr",
     "output_type": "stream",
     "text": [
      "Total Progress:  37%|███▋      | 5105/13706 [10:51:12<40:11:35, 16.82s/it]"
     ]
    },
    {
     "name": "stdout",
     "output_type": "stream",
     "text": [
      "💾 Saved checkpoint after 5105 train videos\n"
     ]
    },
    {
     "name": "stderr",
     "output_type": "stream",
     "text": [
      "Total Progress:  37%|███▋      | 5110/13706 [10:52:07<26:18:25, 11.02s/it]"
     ]
    },
    {
     "name": "stdout",
     "output_type": "stream",
     "text": [
      "💾 Saved checkpoint after 5110 train videos\n"
     ]
    },
    {
     "name": "stderr",
     "output_type": "stream",
     "text": [
      "Total Progress:  37%|███▋      | 5115/13706 [10:52:49<18:18:37,  7.67s/it]"
     ]
    },
    {
     "name": "stdout",
     "output_type": "stream",
     "text": [
      "💾 Saved checkpoint after 5115 train videos\n"
     ]
    },
    {
     "name": "stderr",
     "output_type": "stream",
     "text": [
      "Total Progress:  37%|███▋      | 5120/13706 [10:53:42<23:15:15,  9.75s/it]"
     ]
    },
    {
     "name": "stdout",
     "output_type": "stream",
     "text": [
      "💾 Saved checkpoint after 5120 train videos\n"
     ]
    },
    {
     "name": "stderr",
     "output_type": "stream",
     "text": [
      "Total Progress:  37%|███▋      | 5125/13706 [10:54:38<29:12:14, 12.25s/it]"
     ]
    },
    {
     "name": "stdout",
     "output_type": "stream",
     "text": [
      "💾 Saved checkpoint after 5125 train videos\n"
     ]
    },
    {
     "name": "stderr",
     "output_type": "stream",
     "text": [
      "Total Progress:  37%|███▋      | 5130/13706 [10:56:11<40:50:40, 17.15s/it]"
     ]
    },
    {
     "name": "stdout",
     "output_type": "stream",
     "text": [
      "💾 Saved checkpoint after 5130 train videos\n"
     ]
    },
    {
     "name": "stderr",
     "output_type": "stream",
     "text": [
      "Total Progress:  37%|███▋      | 5135/13706 [10:57:55<50:45:27, 21.32s/it]"
     ]
    },
    {
     "name": "stdout",
     "output_type": "stream",
     "text": [
      "💾 Saved checkpoint after 5135 train videos\n"
     ]
    },
    {
     "name": "stderr",
     "output_type": "stream",
     "text": [
      "Total Progress:  38%|███▊      | 5140/13706 [10:59:57<42:55:11, 18.04s/it]"
     ]
    },
    {
     "name": "stdout",
     "output_type": "stream",
     "text": [
      "💾 Saved checkpoint after 5140 train videos\n"
     ]
    },
    {
     "name": "stderr",
     "output_type": "stream",
     "text": [
      "Total Progress:  38%|███▊      | 5145/13706 [11:00:54<28:07:04, 11.82s/it]"
     ]
    },
    {
     "name": "stdout",
     "output_type": "stream",
     "text": [
      "💾 Saved checkpoint after 5145 train videos\n"
     ]
    },
    {
     "name": "stderr",
     "output_type": "stream",
     "text": [
      "Total Progress:  38%|███▊      | 5150/13706 [11:01:47<26:46:12, 11.26s/it]"
     ]
    },
    {
     "name": "stdout",
     "output_type": "stream",
     "text": [
      "💾 Saved checkpoint after 5150 train videos\n"
     ]
    },
    {
     "name": "stderr",
     "output_type": "stream",
     "text": [
      "Total Progress:  38%|███▊      | 5155/13706 [11:03:30<40:45:57, 17.16s/it]"
     ]
    },
    {
     "name": "stdout",
     "output_type": "stream",
     "text": [
      "💾 Saved checkpoint after 5155 train videos\n"
     ]
    },
    {
     "name": "stderr",
     "output_type": "stream",
     "text": [
      "Total Progress:  38%|███▊      | 5160/13706 [11:04:42<35:21:48, 14.90s/it]"
     ]
    },
    {
     "name": "stdout",
     "output_type": "stream",
     "text": [
      "💾 Saved checkpoint after 5160 train videos\n"
     ]
    },
    {
     "name": "stderr",
     "output_type": "stream",
     "text": [
      "Total Progress:  38%|███▊      | 5165/13706 [11:05:47<30:50:59, 13.00s/it]"
     ]
    },
    {
     "name": "stdout",
     "output_type": "stream",
     "text": [
      "💾 Saved checkpoint after 5165 train videos\n"
     ]
    },
    {
     "name": "stderr",
     "output_type": "stream",
     "text": [
      "Total Progress:  38%|███▊      | 5170/13706 [11:07:14<45:27:17, 19.17s/it]"
     ]
    },
    {
     "name": "stdout",
     "output_type": "stream",
     "text": [
      "💾 Saved checkpoint after 5170 train videos\n"
     ]
    },
    {
     "name": "stderr",
     "output_type": "stream",
     "text": [
      "Total Progress:  38%|███▊      | 5175/13706 [11:09:03<56:00:32, 23.64s/it]"
     ]
    },
    {
     "name": "stdout",
     "output_type": "stream",
     "text": [
      "💾 Saved checkpoint after 5175 train videos\n"
     ]
    },
    {
     "name": "stderr",
     "output_type": "stream",
     "text": [
      "Total Progress:  38%|███▊      | 5180/13706 [11:10:23<42:59:55, 18.16s/it]"
     ]
    },
    {
     "name": "stdout",
     "output_type": "stream",
     "text": [
      "💾 Saved checkpoint after 5180 train videos\n"
     ]
    },
    {
     "name": "stderr",
     "output_type": "stream",
     "text": [
      "Total Progress:  38%|███▊      | 5185/13706 [11:11:37<30:40:59, 12.96s/it]"
     ]
    },
    {
     "name": "stdout",
     "output_type": "stream",
     "text": [
      "💾 Saved checkpoint after 5185 train videos\n"
     ]
    },
    {
     "name": "stderr",
     "output_type": "stream",
     "text": [
      "Total Progress:  38%|███▊      | 5190/13706 [11:12:50<32:58:01, 13.94s/it]"
     ]
    },
    {
     "name": "stdout",
     "output_type": "stream",
     "text": [
      "💾 Saved checkpoint after 5190 train videos\n"
     ]
    },
    {
     "name": "stderr",
     "output_type": "stream",
     "text": [
      "Total Progress:  38%|███▊      | 5195/13706 [11:13:35<25:32:14, 10.80s/it]"
     ]
    },
    {
     "name": "stdout",
     "output_type": "stream",
     "text": [
      "💾 Saved checkpoint after 5195 train videos\n"
     ]
    },
    {
     "name": "stderr",
     "output_type": "stream",
     "text": [
      "Total Progress:  38%|███▊      | 5200/13706 [11:14:38<30:29:14, 12.90s/it]"
     ]
    },
    {
     "name": "stdout",
     "output_type": "stream",
     "text": [
      "💾 Saved checkpoint after 5200 train videos\n"
     ]
    },
    {
     "name": "stderr",
     "output_type": "stream",
     "text": [
      "Total Progress:  38%|███▊      | 5205/13706 [11:15:30<25:08:45, 10.65s/it]"
     ]
    },
    {
     "name": "stdout",
     "output_type": "stream",
     "text": [
      "💾 Saved checkpoint after 5205 train videos\n"
     ]
    },
    {
     "name": "stderr",
     "output_type": "stream",
     "text": [
      "Total Progress:  38%|███▊      | 5210/13706 [11:16:41<26:05:23, 11.06s/it]"
     ]
    },
    {
     "name": "stdout",
     "output_type": "stream",
     "text": [
      "💾 Saved checkpoint after 5210 train videos\n"
     ]
    },
    {
     "name": "stderr",
     "output_type": "stream",
     "text": [
      "Total Progress:  38%|███▊      | 5215/13706 [11:17:33<23:39:18, 10.03s/it]"
     ]
    },
    {
     "name": "stdout",
     "output_type": "stream",
     "text": [
      "💾 Saved checkpoint after 5215 train videos\n"
     ]
    },
    {
     "name": "stderr",
     "output_type": "stream",
     "text": [
      "Total Progress:  38%|███▊      | 5220/13706 [11:18:53<32:23:20, 13.74s/it]"
     ]
    },
    {
     "name": "stdout",
     "output_type": "stream",
     "text": [
      "💾 Saved checkpoint after 5220 train videos\n"
     ]
    },
    {
     "name": "stderr",
     "output_type": "stream",
     "text": [
      "Total Progress:  38%|███▊      | 5225/13706 [11:20:29<45:45:57, 19.43s/it]"
     ]
    },
    {
     "name": "stdout",
     "output_type": "stream",
     "text": [
      "💾 Saved checkpoint after 5225 train videos\n"
     ]
    },
    {
     "name": "stderr",
     "output_type": "stream",
     "text": [
      "Total Progress:  38%|███▊      | 5230/13706 [11:22:06<40:04:59, 17.02s/it]"
     ]
    },
    {
     "name": "stdout",
     "output_type": "stream",
     "text": [
      "💾 Saved checkpoint after 5230 train videos\n"
     ]
    },
    {
     "name": "stderr",
     "output_type": "stream",
     "text": [
      "Total Progress:  38%|███▊      | 5235/13706 [11:23:02<31:06:38, 13.22s/it]"
     ]
    },
    {
     "name": "stdout",
     "output_type": "stream",
     "text": [
      "💾 Saved checkpoint after 5235 train videos\n"
     ]
    },
    {
     "name": "stderr",
     "output_type": "stream",
     "text": [
      "Total Progress:  38%|███▊      | 5240/13706 [11:23:56<27:41:55, 11.78s/it]"
     ]
    },
    {
     "name": "stdout",
     "output_type": "stream",
     "text": [
      "💾 Saved checkpoint after 5240 train videos\n"
     ]
    },
    {
     "name": "stderr",
     "output_type": "stream",
     "text": [
      "Total Progress:  38%|███▊      | 5245/13706 [11:24:45<24:12:13, 10.30s/it]"
     ]
    },
    {
     "name": "stdout",
     "output_type": "stream",
     "text": [
      "💾 Saved checkpoint after 5245 train videos\n"
     ]
    },
    {
     "name": "stderr",
     "output_type": "stream",
     "text": [
      "Total Progress:  38%|███▊      | 5250/13706 [11:26:14<38:33:25, 16.41s/it]"
     ]
    },
    {
     "name": "stdout",
     "output_type": "stream",
     "text": [
      "💾 Saved checkpoint after 5250 train videos\n"
     ]
    },
    {
     "name": "stderr",
     "output_type": "stream",
     "text": [
      "Total Progress:  38%|███▊      | 5255/13706 [11:28:49<61:56:49, 26.39s/it]"
     ]
    },
    {
     "name": "stdout",
     "output_type": "stream",
     "text": [
      "💾 Saved checkpoint after 5255 train videos\n"
     ]
    },
    {
     "name": "stderr",
     "output_type": "stream",
     "text": [
      "Total Progress:  38%|███▊      | 5258/13706 [11:30:00<56:50:01, 24.22s/it]"
     ]
    },
    {
     "name": "stdout",
     "output_type": "stream",
     "text": [
      "🛑 Emergency stop triggered - terminating\n",
      "🌀 Cleaning up after emergency stop\n"
     ]
    },
    {
     "ename": "SystemExit",
     "evalue": "",
     "output_type": "error",
     "traceback": [
      "An exception has occurred, use %tb to see the full traceback.\n",
      "\u001b[0;31mSystemExit\u001b[0m\n"
     ]
    },
    {
     "name": "stderr",
     "output_type": "stream",
     "text": [
      "/usr/local/lib/python3.11/dist-packages/IPython/core/interactiveshell.py:3561: UserWarning: To exit: use 'exit', 'quit', or Ctrl-D.\n",
      "  warn(\"To exit: use 'exit', 'quit', or Ctrl-D.\", stacklevel=1)\n"
     ]
    }
   ],
   "source": [
    "if __name__ == \"__main__\":\n",
    "    resume_processing()\n",
    "    !find {Config.output_root} -name \"*.jpg\" | wc -l > /kaggle/working/frame_count.txt\n",
    "    print(\"📊 Final frame count:\")\n",
    "    !cat /kaggle/working/frame_count.txt"
   ]
  }
 ],
 "metadata": {
  "kaggle": {
   "accelerator": "gpu",
   "dataSources": [
    {
     "datasetId": 6525542,
     "sourceId": 10730648,
     "sourceType": "datasetVersion"
    },
    {
     "datasetId": 7320433,
     "sourceId": 11664372,
     "sourceType": "datasetVersion"
    },
    {
     "sourceId": 237497436,
     "sourceType": "kernelVersion"
    }
   ],
   "dockerImageVersionId": 31011,
   "isGpuEnabled": true,
   "isInternetEnabled": true,
   "language": "python",
   "sourceType": "notebook"
  },
  "kernelspec": {
   "display_name": "Python 3",
   "language": "python",
   "name": "python3"
  },
  "language_info": {
   "codemirror_mode": {
    "name": "ipython",
    "version": 3
   },
   "file_extension": ".py",
   "mimetype": "text/x-python",
   "name": "python",
   "nbconvert_exporter": "python",
   "pygments_lexer": "ipython3",
   "version": "3.11.11"
  },
  "papermill": {
   "default_parameters": {},
   "duration": 41869.485657,
   "end_time": "2025-05-04T06:52:00.218927",
   "environment_variables": {},
   "exception": true,
   "input_path": "__notebook__.ipynb",
   "output_path": "__notebook__.ipynb",
   "parameters": {},
   "start_time": "2025-05-03T19:14:10.733270",
   "version": "2.6.0"
  }
 },
 "nbformat": 4,
 "nbformat_minor": 5
}
